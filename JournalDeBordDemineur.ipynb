{
 "cells": [
  {
   "cell_type": "markdown",
   "id": "4041008b",
   "metadata": {},
   "source": [
    "**Journal de Bord fonctionnement du jeu:**"
   ]
  },
  {
   "cell_type": "markdown",
   "id": "dfa17df0",
   "metadata": {},
   "source": [
    "Liste des import :"
   ]
  },
  {
   "cell_type": "code",
   "execution_count": 1,
   "id": "ebd0435e",
   "metadata": {},
   "outputs": [],
   "source": [
    "import random"
   ]
  },
  {
   "cell_type": "markdown",
   "id": "90628ab1",
   "metadata": {},
   "source": [
    "Les fonctions jusqu'à putBomb comprise sont simplement celles faites en commun en classe."
   ]
  },
  {
   "cell_type": "markdown",
   "id": "3841b738",
   "metadata": {},
   "source": [
    "Creation de la grille :"
   ]
  },
  {
   "cell_type": "code",
   "execution_count": 2,
   "id": "77df4f57",
   "metadata": {},
   "outputs": [],
   "source": [
    "def magrille(l,c):\n",
    "    \"\"\"Cette fonction crée une liste imbriquée de l lignes et c colonnes qui nous servira à crée la grille de base.\n",
    "    \"\"\"\n",
    "    grille = []\n",
    "    for i in range (l):\n",
    "        grille.append([0]*c)\n",
    "    return grille\n"
   ]
  },
  {
   "cell_type": "code",
   "execution_count": 3,
   "id": "c591b367",
   "metadata": {},
   "outputs": [],
   "source": [
    "mg = magrille(9, 9) #test"
   ]
  },
  {
   "cell_type": "markdown",
   "id": "948e47b8",
   "metadata": {},
   "source": [
    "Génération des positions dans la grille :"
   ]
  },
  {
   "cell_type": "code",
   "execution_count": 4,
   "id": "a627cb64",
   "metadata": {},
   "outputs": [
    {
     "data": {
      "text/plain": [
       "[(0, 0), (0, 1), (0, 2), (1, 0), (1, 1), (1, 2)]"
      ]
     },
     "execution_count": 4,
     "metadata": {},
     "output_type": "execute_result"
    }
   ],
   "source": [
    "def genPos(l,c):\n",
    "    \"\"\"Cette fonction crée un liste contenant les positions des cases au sein d'une grille de l lignes et c colonnes.\n",
    "    \"\"\"\n",
    "    pos=[]\n",
    "    for i in range(l):\n",
    "        for j in range (c):\n",
    "            pos.append((i,j))\n",
    "    return pos\n",
    "\n",
    "genPos(2,3)"
   ]
  },
  {
   "cell_type": "code",
   "execution_count": 5,
   "id": "0f1090a9",
   "metadata": {},
   "outputs": [
    {
     "data": {
      "text/plain": [
       "[(0, 0), (0, 1), (1, 2)]"
      ]
     },
     "execution_count": 5,
     "metadata": {},
     "output_type": "execute_result"
    }
   ],
   "source": [
    "pos = genPos(2,3) \n",
    "random.sample(pos,3) # test"
   ]
  },
  {
   "cell_type": "markdown",
   "id": "bd9abe2e",
   "metadata": {},
   "source": [
    "Rendu de la grille initiale (magrille):"
   ]
  },
  {
   "cell_type": "code",
   "execution_count": 6,
   "id": "248d51a2",
   "metadata": {},
   "outputs": [],
   "source": [
    "def printgrille(magrille):\n",
    "    \"\"\"Cette fonction crée un premier rendu visuel sous forme de grille de la liste imbriquée mise en paramètre.\n",
    "    \"\"\"\n",
    "    nbligne = len(magrille)\n",
    "    nbcol = len(magrille[0])\n",
    "    for i in range(nbligne):\n",
    "        lignetexte = \"|\"\n",
    "        for j in range(nbcol):\n",
    "            lignetexte += \"{0}|\".format(magrille[i][j])\n",
    "        print(lignetexte)      "
   ]
  },
  {
   "cell_type": "code",
   "execution_count": 7,
   "id": "a432705c",
   "metadata": {},
   "outputs": [
    {
     "name": "stdout",
     "output_type": "stream",
     "text": [
      "|0|0|0|0|0|0|0|0|0|\n",
      "|0|0|0|0|0|0|0|0|0|\n",
      "|0|0|0|0|0|0|0|0|0|\n",
      "|0|0|0|0|0|0|0|0|0|\n",
      "|0|0|0|0|0|0|0|0|0|\n",
      "|0|0|0|0|0|0|0|0|0|\n",
      "|0|0|0|0|0|0|0|0|0|\n",
      "|0|0|0|0|0|0|0|0|0|\n",
      "|0|0|0|0|0|0|0|0|0|\n"
     ]
    }
   ],
   "source": [
    "printgrille(mg) # test"
   ]
  },
  {
   "cell_type": "markdown",
   "id": "980f1c6a",
   "metadata": {},
   "source": [
    "Placement des bombes :"
   ]
  },
  {
   "cell_type": "code",
   "execution_count": 8,
   "id": "696042fa",
   "metadata": {},
   "outputs": [],
   "source": [
    "def putBomb(grille, nbBomb):\n",
    "    \"\"\"Cette fonction sélectionne aléatoirement un nombre de cases donné au sein d'une grile donnée et change le contenu de ces positions en \"B\".\n",
    "    \"\"\"\n",
    "    nbligne = len(grille)\n",
    "    nbcol = len(grille[0])\n",
    "    pos = genPos(nbligne, nbcol)\n",
    "    posBomb = random.sample(pos, nbBomb) \n",
    "    for Bomb in (posBomb):\n",
    "        grille[Bomb[0]][Bomb[1]] = \"B\"\n",
    "    return grille"
   ]
  },
  {
   "cell_type": "code",
   "execution_count": 9,
   "id": "426f177b",
   "metadata": {},
   "outputs": [
    {
     "name": "stdout",
     "output_type": "stream",
     "text": [
      "|0|B|0|B|0|0|0|0|0|0|\n",
      "|0|0|0|0|0|B|0|B|0|0|\n",
      "|0|0|B|0|0|B|0|0|0|0|\n",
      "|0|0|0|0|0|0|0|0|0|0|\n",
      "|0|0|0|0|B|0|0|B|0|B|\n",
      "|0|0|0|0|0|0|0|0|0|0|\n",
      "|0|0|0|0|B|0|0|0|0|0|\n",
      "|0|0|0|0|0|0|0|0|0|0|\n"
     ]
    }
   ],
   "source": [
    "mg = magrille(8,10)\n",
    "mgB = putBomb(mg,10)\n",
    "printgrille(mgB) # test"
   ]
  },
  {
   "cell_type": "markdown",
   "id": "9b01955f",
   "metadata": {},
   "source": [
    "Calcul du nombre de bombe autour d'une case :"
   ]
  },
  {
   "cell_type": "markdown",
   "id": "c2d70f38",
   "metadata": {},
   "source": [
    "Il m'a paru plus simple pour les prochaines fontions de d'abord écrire un code qui fonctionne pour le cas le plus simple et d'ensuite m'en servire comme squelette pour les cas particuliers."
   ]
  },
  {
   "cell_type": "code",
   "execution_count": 10,
   "id": "0ef5d4ba",
   "metadata": {},
   "outputs": [],
   "source": [
    "def checkbomb(mgB,l,c):\n",
    "    \"\"\"Cette fonction donne le nombre de bombes dans les cases adjacentes à la case sélectionnée (l = ligne de la case, c = colonne de la case) (utile uniquement dans mgB) (fontionne uniquement pour les cases au centre de la grille).\n",
    "    \"\"\"\n",
    "    lcheck = l # lcheck sert à parcourir les cases autour de l,c sans modifier l\n",
    "    ccheck = c # ccheck sert à parcourir les cases autour de l,c sans modifier c\n",
    "    for i in range (3):\n",
    "        for j in range (3):\n",
    "            if mgB[lcheck-1][ccheck-1] == \"B\":\n",
    "                mgB[l][c] += 1 # on ajoute 1 dans la case l,c pour chaque bombe qu'il y a autour\n",
    "                ccheck = ccheck+1 # on passe à la colonne suivante\n",
    "            elif lcheck-1 == l and ccheck-1 == c: # si la case vérifiée est la case sélectionnée on l'ignore\n",
    "                ccheck = ccheck+1\n",
    "            else:\n",
    "                ccheck = ccheck+1\n",
    "        lcheck = lcheck+1\n",
    "        ccheck = ccheck-3 # on passe à la ligne suivante et on retourne à la première colonne"
   ]
  },
  {
   "cell_type": "code",
   "execution_count": 11,
   "id": "e562ba24",
   "metadata": {
    "scrolled": true
   },
   "outputs": [
    {
     "name": "stdout",
     "output_type": "stream",
     "text": [
      "|0|B|0|B|0|0|0|0|0|0|\n",
      "|0|0|0|0|0|B|0|B|0|0|\n",
      "|0|0|B|1|0|B|0|0|0|0|\n",
      "|0|0|0|0|0|0|0|0|0|0|\n",
      "|0|0|0|0|B|0|0|B|0|B|\n",
      "|0|0|0|0|0|0|0|0|0|0|\n",
      "|0|0|0|0|B|0|0|0|0|0|\n",
      "|0|0|0|0|0|0|0|0|0|0|\n"
     ]
    }
   ],
   "source": [
    "checkbomb(mgB,2,3)\n",
    "printgrille(mgB) # test"
   ]
  },
  {
   "cell_type": "markdown",
   "id": "a40539c5",
   "metadata": {},
   "source": [
    "Calcul du nombre de bombes autour d'une case version complete :"
   ]
  },
  {
   "cell_type": "markdown",
   "id": "9e107d1f",
   "metadata": {},
   "source": [
    "J'ai fais un par un les cas particuliers en changeant le nombre d'occurences des boucles et en adaptant les lcheck et ccheck."
   ]
  },
  {
   "cell_type": "code",
   "execution_count": 12,
   "id": "c01847b8",
   "metadata": {},
   "outputs": [],
   "source": [
    "def checkbomb2(mgB,l,c):\n",
    "    \"\"\"Cette fonction donne le nombre de bombes dans les cases adjacentes à la case sélectionnée (l = ligne de la case, c = colonne de la case) (utile uniquement dans mgB) (fonctionne dans tout les cas).\n",
    "    \"\"\"\n",
    "    lcheck = l # lcheck sert à parcourir les cases autour de l,c sans modifier l\n",
    "    ccheck = c # ccheck sert à parcourir les cases autour de l,c sans modifier c\n",
    "    if l == 0 and c == 0: # on contrôle si la case est dans l'angle supérieur gauche et on adapte la boucle afin de ne pas contrôler des cases qui n'existent pas\n",
    "        for i in range (2):\n",
    "            for j in range (2):\n",
    "                if mgB[lcheck][ccheck] == \"B\":\n",
    "                    mgB[l][c] += 1 # on ajoute 1 dans la case l,c pour chaque bombe qu'il y a autour\n",
    "                    ccheck = ccheck+1 # on passe à la colonne suivante\n",
    "                elif lcheck == l and ccheck == c: # si la case vérifiée est la case sélectionnée on l'ignore\n",
    "                    ccheck = ccheck+1\n",
    "                else:\n",
    "                    ccheck = ccheck+1\n",
    "            lcheck = lcheck+1\n",
    "            ccheck = ccheck-2 # on passe à la ligne suivante et on retourne à la première colonne\n",
    "    elif l == 0 and c == len(mgB[0])-1: # on contrôle si la case est dans l'angle supérieur droit et on adapte la boucle afin de ne pas contrôler des cases qui n'existent pas\n",
    "        for i in range (2):\n",
    "            for j in range (2):\n",
    "                if mgB[lcheck][ccheck-1] == \"B\":\n",
    "                    mgB[l][c] += 1\n",
    "                    ccheck = ccheck+1\n",
    "                elif lcheck == l and ccheck-1 == c:\n",
    "                    ccheck = ccheck+1\n",
    "                else:\n",
    "                    ccheck = ccheck+1\n",
    "            lcheck = lcheck+1\n",
    "            ccheck = ccheck-2\n",
    "    elif l == len(mgB)-1 and c == 0: # on contrôle si la case est dans l'angle inférieur gauche et on adapte la boucle afin de ne pas contrôler des cases qui n'existent pas\n",
    "        for i in range (2):\n",
    "            for j in range (2):\n",
    "                if mgB[lcheck-1][ccheck] == \"B\":\n",
    "                    mgB[l][c] += 1\n",
    "                    ccheck = ccheck+1\n",
    "                elif lcheck-1 == l and ccheck == c:\n",
    "                    ccheck = ccheck+1\n",
    "                else:\n",
    "                    ccheck = ccheck+1\n",
    "            lcheck = lcheck+1\n",
    "            ccheck = ccheck-2\n",
    "    elif l == len(mgB)-1 and c == len(mgB[0])-1: # on contrôle si la case est dans l'angle inférieur droit et on adapte la boucle afin de ne pas contrôler des cases qui n'existent pas\n",
    "        for i in range (2):\n",
    "            for j in range (2):\n",
    "                if mgB[lcheck-1][ccheck-1] == \"B\":\n",
    "                    mgB[l][c] += 1\n",
    "                    ccheck = ccheck+1\n",
    "                elif lcheck-1 == l and ccheck-1 == c:\n",
    "                    ccheck = ccheck+1\n",
    "                else:\n",
    "                    ccheck = ccheck+1\n",
    "            lcheck = lcheck+1\n",
    "            ccheck = ccheck-2\n",
    "    elif l == 0: # on contrôle si la case est sur la ligne cuppérieur et on adapte la boucle afin de ne pas contrôler des cases qui n'existent pas\n",
    "        for i in range (2):\n",
    "            for j in range (3):\n",
    "                if mgB[lcheck][ccheck-1] == \"B\":\n",
    "                    mgB[l][c] += 1\n",
    "                    ccheck = ccheck+1\n",
    "                elif lcheck == l and ccheck-1 == c:\n",
    "                    ccheck = ccheck+1\n",
    "                else:\n",
    "                    ccheck = ccheck+1\n",
    "            lcheck = lcheck+1\n",
    "            ccheck = ccheck-3\n",
    "    elif l == len(mgB)-1: # on contrôle si la case est sur la ligne inférieur et on adapte la boucle afin de ne pas contrôler des cases qui n'existent pas\n",
    "        for i in range (2):\n",
    "            for j in range (3):\n",
    "                if mgB[lcheck-1][ccheck-1] == \"B\":\n",
    "                    mgB[l][c] += 1\n",
    "                    ccheck = ccheck+1\n",
    "                elif lcheck-1 == l and ccheck-1 == c:\n",
    "                    ccheck = ccheck+1\n",
    "                else:\n",
    "                    ccheck = ccheck+1\n",
    "            lcheck = lcheck+1\n",
    "            ccheck = ccheck-3\n",
    "    elif c == 0: # on contrôle si la case est sur la colonne de gauche et on adapte la boucle afin de ne pas contrôler des cases qui n'existent pas\n",
    "        for i in range (3):\n",
    "            for j in range (2):\n",
    "                if mgB[lcheck-1][ccheck] == \"B\":\n",
    "                    mgB[l][c] += 1\n",
    "                    ccheck = ccheck+1\n",
    "                elif lcheck-1 == l and ccheck == c:\n",
    "                    ccheck = ccheck+1\n",
    "                else:\n",
    "                    ccheck = ccheck+1\n",
    "            lcheck = lcheck+1\n",
    "            ccheck = ccheck-2\n",
    "    elif c == len(mgB[0])-1: # on contrôle si la case est sur la colonne de droite et on adapte la boucle afin de ne pas contrôler des cases qui n'existent pas\n",
    "        for i in range (3):\n",
    "            for j in range (2):\n",
    "                if mgB[lcheck-1][ccheck-1] == \"B\":\n",
    "                    mgB[l][c] += 1\n",
    "                    ccheck = ccheck+1\n",
    "                elif lcheck-1 == l and ccheck-1 == c:\n",
    "                    ccheck = ccheck+1\n",
    "                else:\n",
    "                    ccheck = ccheck+1\n",
    "            lcheck = lcheck+1\n",
    "            ccheck = ccheck-2\n",
    "    else: # si ce n'est pas un cas spécial on contrôle toutes les cases\n",
    "        for i in range (3):\n",
    "            for j in range (3):\n",
    "                if mgB[lcheck-1][ccheck-1] == \"B\":\n",
    "                    mgB[l][c] += 1\n",
    "                    ccheck = ccheck+1\n",
    "                elif lcheck-1 == l and ccheck-1 == c:\n",
    "                    ccheck = ccheck+1\n",
    "                else:\n",
    "                    ccheck = ccheck+1\n",
    "            lcheck = lcheck+1\n",
    "            ccheck = ccheck-3"
   ]
  },
  {
   "cell_type": "code",
   "execution_count": 13,
   "id": "1861a10d",
   "metadata": {},
   "outputs": [
    {
     "name": "stdout",
     "output_type": "stream",
     "text": [
      "|1|B|0|B|0|0|0|0|0|0|\n",
      "|0|0|0|0|0|B|0|B|0|0|\n",
      "|0|0|B|1|0|B|0|0|0|0|\n",
      "|0|0|0|0|0|0|0|0|0|0|\n",
      "|0|0|0|0|B|0|0|B|0|B|\n",
      "|0|0|0|0|0|0|0|0|0|0|\n",
      "|0|0|0|0|B|0|0|0|0|0|\n",
      "|0|0|0|0|0|0|0|0|0|0|\n"
     ]
    }
   ],
   "source": [
    "checkbomb2(mgB,0,0)\n",
    "printgrille(mgB) # test"
   ]
  },
  {
   "cell_type": "markdown",
   "id": "231c4a05",
   "metadata": {},
   "source": [
    "Sur l'ensemble de la grille :"
   ]
  },
  {
   "cell_type": "code",
   "execution_count": 14,
   "id": "7f909789",
   "metadata": {},
   "outputs": [],
   "source": [
    "def checkbombgrille(mgB):\n",
    "    \"\"\"Cette fonction donne le nombre de bombes dans les cases adjacentes à la case en cours de vérification (utile uniquement dans mgB) (fonctionne pour toute la grilee et non pour une case sélectionnée).\n",
    "    \"\"\"\n",
    "    for i in range(len(mgB)):\n",
    "        for j in range(len(mgB[0])):\n",
    "            if mgB[i][j] == \"B\": # si la case en cours de vérification contient une bombe on l'ignore\n",
    "                continue\n",
    "            else:\n",
    "                checkbomb2(mgB,i,j) #si la case est un 0 on contrôle les cases alentoure\n",
    "            "
   ]
  },
  {
   "cell_type": "code",
   "execution_count": 15,
   "id": "5e719903",
   "metadata": {},
   "outputs": [
    {
     "name": "stdout",
     "output_type": "stream",
     "text": [
      "|2|B|2|B|2|1|2|1|1|0|\n",
      "|1|2|3|2|3|B|3|B|1|0|\n",
      "|0|1|B|2|2|B|3|1|1|0|\n",
      "|0|1|1|2|2|2|2|1|2|1|\n",
      "|0|0|0|1|B|1|1|B|2|B|\n",
      "|0|0|0|2|2|2|1|1|2|1|\n",
      "|0|0|0|1|B|1|0|0|0|0|\n",
      "|0|0|0|1|1|1|0|0|0|0|\n"
     ]
    }
   ],
   "source": [
    "checkbombgrille(mgB)\n",
    "printgrille(mgB) # test"
   ]
  },
  {
   "cell_type": "markdown",
   "id": "5cd284be",
   "metadata": {},
   "source": [
    "Grille du joueur :"
   ]
  },
  {
   "cell_type": "markdown",
   "id": "827ad81d",
   "metadata": {},
   "source": [
    "J'ai simplement repris la fonction de magrille et ai modifier le 0 par ? ."
   ]
  },
  {
   "cell_type": "code",
   "execution_count": 16,
   "id": "0c71f6fa",
   "metadata": {},
   "outputs": [],
   "source": [
    "def grille_joueur(l,c):\n",
    "    \"\"\"Cette fonction crée une liste imbriquée de l lignes et c colonnes qui nous servira à crée la grille du joueur.\n",
    "    \"\"\"\n",
    "    grille_joueur = []\n",
    "    for i in range (l):\n",
    "        grille_joueur.append([\"?\"]*c)\n",
    "    return grille_joueur\n"
   ]
  },
  {
   "cell_type": "code",
   "execution_count": 17,
   "id": "8e4a411e",
   "metadata": {},
   "outputs": [
    {
     "name": "stdout",
     "output_type": "stream",
     "text": [
      "|?|?|?|?|?|?|?|?|?|?|\n",
      "|?|?|?|?|?|?|?|?|?|?|\n",
      "|?|?|?|?|?|?|?|?|?|?|\n",
      "|?|?|?|?|?|?|?|?|?|?|\n",
      "|?|?|?|?|?|?|?|?|?|?|\n",
      "|?|?|?|?|?|?|?|?|?|?|\n",
      "|?|?|?|?|?|?|?|?|?|?|\n",
      "|?|?|?|?|?|?|?|?|?|?|\n"
     ]
    }
   ],
   "source": [
    "pg = grille_joueur(8,10)\n",
    "printgrille(pg) #test"
   ]
  },
  {
   "cell_type": "markdown",
   "id": "70ed1619",
   "metadata": {},
   "source": [
    "Réveler une case :"
   ]
  },
  {
   "cell_type": "markdown",
   "id": "fd051e5b",
   "metadata": {},
   "source": [
    "J'ai crée cette grille pour éviter de rentrer dans une boucle infine lorsque les 0 se répendent."
   ]
  },
  {
   "cell_type": "code",
   "execution_count": 18,
   "id": "70a356eb",
   "metadata": {},
   "outputs": [],
   "source": [
    "def grille_controle(l,c):\n",
    "    \"\"\"Cette fonction crée une liste imbriquée de l lignes et c colonnes qui nous servira à crée la grille qui serivira à éviter une boucle infine lorsque le joueur réveler les cases.\n",
    "    \"\"\"\n",
    "    grille_joueur = []\n",
    "    for i in range (l):\n",
    "        grille_joueur.append([0]*c)\n",
    "    return grille_joueur"
   ]
  },
  {
   "cell_type": "code",
   "execution_count": 19,
   "id": "db9c9e1a",
   "metadata": {
    "scrolled": true
   },
   "outputs": [],
   "source": [
    "gc = grille_controle(8,10) # test"
   ]
  },
  {
   "cell_type": "markdown",
   "id": "defc34d7",
   "metadata": {},
   "source": [
    "Un des seuls véritables problèmes rencontré durant la programation de ma partie a été de pouvoir modifier m au sein de la fonction et d'étendre ces modifications au reste du programme. La seule solution que j'ai trouvée est de crée la variable locale ma et de faire un return ma à la fin."
   ]
  },
  {
   "cell_type": "markdown",
   "id": "4b267f7e",
   "metadata": {},
   "source": [
    "La seconde difficultée à été de faire disparaitre les F placés sur une case autre que les bombes lorsqu'elle est révelée et de rajouter un drapeau dans le compteur. Lorsque la boucle qui propage les 0 se lencait les compteur ne s'actualisait pas complétement. A l'origine on voulait faire ça pour épargner au joueur une action inutile car voyant qu'il y a un 0 à côté du drapeau il l'enleverait forcément. Mais n'arrivant pas à corriger ce beug on a simplement retiré cette fonctionalité et décidé d'ignorer le F lorsque les 0 se répendent."
   ]
  },
  {
   "cell_type": "code",
   "execution_count": 20,
   "id": "294bfe8d",
   "metadata": {},
   "outputs": [],
   "source": [
    "def action_joueur(l,c):\n",
    "    \"\"\"Cette fonction permet au joueur de réveler les cases. Elle définit ce qui se passe si le joueur sélectionne une case piégée,  ce qui ce passe si la case est marquée et ce qui ce passe lorsque la case est révelée. C'est aussi elle qui permet aux zéros de se répendrent. (l = ligne de la case, c = colonne de la case)\n",
    "    \"\"\"\n",
    "    ma = m # m est le compteur de drapeaux restant à disposition du joueur et ma est la variable locale\n",
    "    if mgB[l][c] == 0 and pg[l][c] == \"F\": # ça empêche le joueur de réveler une case sur laquelle il y a un drapeau\n",
    "        print(\"cette case est marquée, faites autre chose\") \n",
    "    elif mgB[l][c] == \"B\":\n",
    "        if pg[l][c] == \"F\": # ça empêche le joueur de réveler une case sur laquelle il y a un drapeau afint d'éviter qu'il révèle une bombe par mégarde\n",
    "            print(\"cette case est marquée, faites autre chose\")\n",
    "        else:\n",
    "            for i in range(len(mgB)):\n",
    "                for j in range(len(mgB[0])): # si le joueur révèle une bombe toutes lesbombes seront révelées et un message s'affiche\n",
    "                    if mgB[i][j] == \"B\":\n",
    "                        if pg[i][j] == \"F\":\n",
    "                            pg[i][j] = \"B\" \n",
    "                        else:\n",
    "                            pg[i][j] = \"b\" # on différencie les bombes marquées des bombes non trouvées\n",
    "            pg[l][c] = \"a\" # on différencie également la bombe sur laquelle on a cliqué\n",
    "            print(\"vous avez perdu\")\n",
    "    elif mgB[l][c] == 0:\n",
    "        lcheck = l # lcheck sert à parcourir les cases autour de l,c sans modifier l\n",
    "        ccheck = c # ccheck sert à parcourir les cases autour de l,c sans modifier c\n",
    "        check =[] # cette liste garde en mémoire les coordonées des cases contenant un 0 autour de la case sélectionnée\n",
    "        if l == 0 and c == 0: # on contrôle si la case est dans l'angle supérieur gauche et on adapte la boucle afin de ne pas contrôler des cases qui n'existent pas\n",
    "            for i in range (2):\n",
    "                for j in range (2):\n",
    "                    if pg[lcheck][ccheck] == \"F\":\n",
    "                        ccheck = ccheck+1 # si la case est marquée on l'ignore et on passe à la suivante\n",
    "                    elif lcheck == l and ccheck == c: # si la case contrôlée est la case sélectionnée on l'affiche et on passe à la suivante\n",
    "                        pg[lcheck][ccheck] = mgB[lcheck][ccheck]\n",
    "                        ccheck = ccheck+1\n",
    "                        gc[l][c] = 1 # on donne à la case la valeur 1 dans la grille de contôle pour empécher qu'elle puisse être contrôlée une nouvelle fois\n",
    "                    else:\n",
    "                        if mgB[lcheck][ccheck] == 0:\n",
    "                            if gc[lcheck][ccheck] == 0: # si la case n'a pas encore été contrôlée elle l'est\n",
    "                                gc[lcheck][ccheck] = 1 # on passe la case de la grille de contrôle à 1 pour que la case ne puisse plus être contrôlée\n",
    "                                check.append(lcheck)\n",
    "                                check.append(ccheck) # les coordonnées sont ajoutées à la liste check pour être vérifiés plus tard\n",
    "                                pg[lcheck][ccheck] = mgB[lcheck][ccheck] # le contenu de la case est affiché\n",
    "                                ccheck = ccheck+1 # on passe à la case suivante\n",
    "                            else:\n",
    "                                ccheck = ccheck +1 # si elle a déjà été contrôlée on passe à la case suivante\n",
    "                        else: # si la case contient un autre chiffre que 0 elle est simplement affichée\n",
    "                            pg[lcheck][ccheck] = mgB[lcheck][ccheck]\n",
    "                            ccheck = ccheck+1 # on passe à la case suivanate\n",
    "                lcheck = lcheck+1\n",
    "                ccheck = ccheck-2 # on passe à la ligne suivante et on reviens à la apreière colonne\n",
    "            for i in range(int(len(check)/2)): # la boucle fait la moitié de la longeure de check car les éléments sont pris deux part deux\n",
    "                l = check[0] # on attribu la valeur l d'une des cases à contôler à l\n",
    "                c = check[1] # on attribu la valeur c d'une des cases à contôler à c\n",
    "                del check[1]\n",
    "                del check[0] # on supprime les deux valeures déjà récupérées dans check\n",
    "                action_joueur(l,c) #on rejoue la fonction pour les nouveaux l,c\n",
    "        elif l == 0 and c == len(mgB[0])-1: # on contrôle si la case est dans l'angle supérieur droit et on adapte la boucle afin de ne pas contrôler des cases qui n'existent pas\n",
    "            for i in range (2):\n",
    "                for j in range (2):\n",
    "                    if pg[lcheck][ccheck-1] == \"F\":\n",
    "                        ccheck = ccheck+1\n",
    "                    elif lcheck == l and ccheck-1 == c:\n",
    "                        pg[lcheck][ccheck-1] = mgB[lcheck][ccheck-1]\n",
    "                        ccheck = ccheck+1\n",
    "                        gc[l][c] = 1\n",
    "                    else:\n",
    "                        if mgB[lcheck][ccheck-1] == 0:\n",
    "                            if gc[lcheck][ccheck-1] == 0:\n",
    "                                gc[lcheck][ccheck-1] = 1\n",
    "                                check.append(lcheck)\n",
    "                                check.append(ccheck-1)\n",
    "                                pg[lcheck][ccheck-1] = mgB[lcheck][ccheck-1]\n",
    "                                ccheck = ccheck+1\n",
    "                            else:\n",
    "                                ccheck = ccheck +1\n",
    "                        else:\n",
    "                            pg[lcheck][ccheck-1] = mgB[lcheck][ccheck-1]\n",
    "                            ccheck = ccheck+1\n",
    "                lcheck = lcheck+1\n",
    "                ccheck = ccheck-2\n",
    "            for i in range(int(len(check)/2)):\n",
    "                l = check[0]\n",
    "                c = check[1]\n",
    "                del check[1]\n",
    "                del check[0]\n",
    "                action_joueur(l,c)\n",
    "        elif l == len(mgB)-1 and c == 0: # on contrôle si la case est dans l'angle inférieure gauche et on adapte la boucle afin de ne pas contrôler des cases qui n'existent pas\n",
    "            for i in range (2):\n",
    "                for j in range (2):\n",
    "                    if pg[lcheck-1][ccheck] == \"F\":\n",
    "                        ccheck = ccheck+1\n",
    "                    elif lcheck-1 == l and ccheck == c:\n",
    "                        pg[lcheck-1][ccheck] = mgB[lcheck-1][ccheck]\n",
    "                        ccheck = ccheck+1\n",
    "                        gc[l][c] = 1\n",
    "                    else:\n",
    "                        if mgB[lcheck-1][ccheck] == 0:\n",
    "                            if gc[lcheck-1][ccheck] == 0:\n",
    "                                gc[lcheck-1][ccheck] = 1\n",
    "                                check.append(lcheck-1)\n",
    "                                check.append(ccheck)\n",
    "                                pg[lcheck-1][ccheck] = mgB[lcheck-1][ccheck]\n",
    "                                ccheck = ccheck+1\n",
    "                            else:\n",
    "                                ccheck = ccheck +1\n",
    "                        else:\n",
    "                            pg[lcheck-1][ccheck] = mgB[lcheck-1][ccheck]\n",
    "                            ccheck = ccheck+1\n",
    "                lcheck = lcheck+1\n",
    "                ccheck = ccheck-2\n",
    "            for i in range(int(len(check)/2)):\n",
    "                l = check[0]\n",
    "                c = check[1]\n",
    "                del check[1]\n",
    "                del check[0]\n",
    "                action_joueur(l,c)\n",
    "        elif l == len(mgB)-1 and c == len(mgB[0])-1: # on contrôle si la case est dans l'angle inférieur droit et on adapte la boucle afin de ne pas contrôler des cases qui n'existent pas\n",
    "            for i in range (2):\n",
    "                for j in range (2):\n",
    "                    if pg[lcheck-1][ccheck-1] == \"F\":\n",
    "                        ccheck = ccheck+1\n",
    "                    elif lcheck-1 == l and ccheck-1 == c:\n",
    "                        pg[lcheck-1][ccheck-1] = mgB[lcheck-1][ccheck-1]\n",
    "                        ccheck = ccheck+1\n",
    "                        gc[l][c] = 1\n",
    "                    else:\n",
    "                        if mgB[lcheck-1][ccheck-1] == 0:\n",
    "                            if gc[lcheck-1][ccheck-1] == 0:\n",
    "                                gc[lcheck-1][ccheck-1] = 1\n",
    "                                check.append(lcheck-1)\n",
    "                                check.append(ccheck-1)\n",
    "                                pg[lcheck-1][ccheck-1] = mgB[lcheck-1][ccheck-1]\n",
    "                                ccheck = ccheck+1\n",
    "                            else:\n",
    "                                ccheck = ccheck +1\n",
    "                        else:\n",
    "                            pg[lcheck-1][ccheck-1] = mgB[lcheck-1][ccheck-1]\n",
    "                            ccheck = ccheck+1\n",
    "                lcheck = lcheck+1\n",
    "                ccheck = ccheck-2\n",
    "            for i in range(int(len(check)/2)):\n",
    "                l = check[0]\n",
    "                c = check[1]\n",
    "                del check[1]\n",
    "                del check[0]\n",
    "                action_joueur(l,c)\n",
    "        elif l == 0: # on contrôle si la case est sur le ligne supérieur et on adapte la boucle afin de ne pas contrôler des cases qui n'existent pas\n",
    "            for i in range (2):\n",
    "                for j in range (3):\n",
    "                    if pg[lcheck][ccheck-1] == \"F\":\n",
    "                        ccheck = ccheck+1\n",
    "                    elif lcheck == l and ccheck-1 == c:\n",
    "                        pg[lcheck][ccheck-1] = mgB[lcheck][ccheck-1]\n",
    "                        ccheck = ccheck+1\n",
    "                        gc[l][c] = 1\n",
    "                    else:\n",
    "                        if mgB[lcheck][ccheck-1] == 0:\n",
    "                            if gc[lcheck][ccheck-1] == 0:\n",
    "                                gc[lcheck][ccheck-1] = 1\n",
    "                                check.append(lcheck)\n",
    "                                check.append(ccheck-1)\n",
    "                                pg[lcheck][ccheck-1] = mgB[lcheck][ccheck-1]\n",
    "                                ccheck = ccheck+1\n",
    "                            else:\n",
    "                                ccheck = ccheck +1\n",
    "                        else:\n",
    "                            pg[lcheck][ccheck-1] = mgB[lcheck][ccheck-1]\n",
    "                            ccheck = ccheck+1\n",
    "                lcheck = lcheck+1\n",
    "                ccheck = ccheck-3\n",
    "            for i in range(int(len(check)/2)):\n",
    "                l = check[0]\n",
    "                c = check[1]\n",
    "                del check[1]\n",
    "                del check[0]\n",
    "                action_joueur(l,c)\n",
    "        elif l == len(mgB)-1: # on contrôle si la case est sur la ligne inférieur et on adapte la boucle afin de ne pas contrôler des cases qui n'existent pas\n",
    "            for i in range (2):\n",
    "                for j in range (3):\n",
    "                    if pg[lcheck-1][ccheck-1] == \"F\":\n",
    "                        ccheck = ccheck+1\n",
    "                    elif mgB[lcheck-1][ccheck-1] == 0:\n",
    "                        if gc[lcheck-1][ccheck-1] == 0:\n",
    "                            gc[lcheck-1][ccheck-1] = 1\n",
    "                            check.append(lcheck-1)\n",
    "                            check.append(ccheck-1)\n",
    "                            pg[lcheck-1][ccheck-1] = mgB[lcheck-1][ccheck-1]\n",
    "                            ccheck = ccheck+1\n",
    "                        else:\n",
    "                            ccheck = ccheck +1\n",
    "                    else:\n",
    "                        pg[lcheck-1][ccheck-1] = mgB[lcheck-1][ccheck-1]\n",
    "                        ccheck = ccheck+1\n",
    "                lcheck = lcheck+1\n",
    "                ccheck = ccheck-3\n",
    "            for i in range(int(len(check)/2)):\n",
    "                l = check[0]\n",
    "                c = check[1]\n",
    "                del check[1]\n",
    "                del check[0]\n",
    "                action_joueur(l,c)\n",
    "        elif c == 0: # on contrôle si la case est sur la colonne de gauche et on adapte la boucle afin de ne pas contrôler des cases qui n'existent pas\n",
    "            for i in range (3):\n",
    "                for j in range (2):\n",
    "                    if pg[lcheck-1][ccheck] == \"F\":\n",
    "                        ccheck = ccheck+1\n",
    "                    elif lcheck-1 == l and ccheck == c:\n",
    "                        pg[lcheck-1][ccheck] = mgB[lcheck-1][ccheck]\n",
    "                        ccheck = ccheck+1\n",
    "                        gc[l][c] = 1\n",
    "                    else:\n",
    "                        if mgB[lcheck-1][ccheck] == 0:\n",
    "                            if gc[lcheck-1][ccheck] == 0:\n",
    "                                gc[lcheck-1][ccheck] = 1\n",
    "                                check.append(lcheck-1)\n",
    "                                check.append(ccheck)\n",
    "                                pg[lcheck-1][ccheck] = mgB[lcheck-1][ccheck]\n",
    "                                ccheck = ccheck+1\n",
    "                            else:\n",
    "                                ccheck = ccheck +1\n",
    "                        else:\n",
    "                            pg[lcheck-1][ccheck] = mgB[lcheck-1][ccheck]\n",
    "                            ccheck = ccheck+1\n",
    "                lcheck = lcheck+1\n",
    "                ccheck = ccheck-2\n",
    "            for i in range(int(len(check)/2)):\n",
    "                l = check[0]\n",
    "                c = check[1]\n",
    "                del check[1]\n",
    "                del check[0]\n",
    "                action_joueur(l,c)\n",
    "        elif c == len(mgB[0])-1: # on contrôle si la case est sur la colonne de droite et on adapte la boucle afin de ne pas contrôler des cases qui n'existent pas\n",
    "            for i in range (3):\n",
    "                for j in range (2):\n",
    "                    if pg[lcheck-1][ccheck-1] == \"F\":\n",
    "                        ccheck = ccheck+1\n",
    "                    elif lcheck-1 == l and ccheck-1 == c:\n",
    "                        pg[lcheck-1][ccheck-1] = mgB[lcheck-1][ccheck-1]\n",
    "                        ccheck = ccheck+1\n",
    "                        gc[l][c] = 1\n",
    "                    else:\n",
    "                        if mgB[lcheck-1][ccheck-1] == 0:\n",
    "                            if gc[lcheck-1][ccheck-1] == 0:\n",
    "                                gc[lcheck-1][ccheck-1] = 1\n",
    "                                check.append(lcheck-1)\n",
    "                                check.append(ccheck-1)\n",
    "                                pg[lcheck-1][ccheck-1] = mgB[lcheck-1][ccheck-1]\n",
    "                                ccheck = ccheck+1\n",
    "                            else:\n",
    "                                ccheck = ccheck +1\n",
    "                        else:\n",
    "                            pg[lcheck-1][ccheck-1] = mgB[lcheck-1][ccheck-1]\n",
    "                            ccheck = ccheck+1\n",
    "                lcheck = lcheck+1\n",
    "                ccheck = ccheck-2\n",
    "            for i in range(int(len(check)/2)):\n",
    "                l = check[0]\n",
    "                c = check[1]\n",
    "                del check[1]\n",
    "                del check[0]\n",
    "                action_joueur(l,c)\n",
    "        else: # si ce n'est pas un cas spécial on contrôle toutes les cases\n",
    "            for i in range (3):\n",
    "                for j in range (3):\n",
    "                    if pg[lcheck-1][ccheck-1] == \"F\":\n",
    "                        ccheck = ccheck+1\n",
    "                    elif lcheck-1 == l and ccheck-1 == c:\n",
    "                        pg[lcheck-1][ccheck-1] = mgB[lcheck-1][ccheck-1]\n",
    "                        ccheck = ccheck+1\n",
    "                        gc[l][c] = 1\n",
    "                    else:\n",
    "                        if mgB[lcheck-1][ccheck-1] == 0:\n",
    "                            if gc[lcheck-1][ccheck-1] == 0:\n",
    "                                gc[lcheck-1][ccheck-1] = 1\n",
    "                                check.append(lcheck-1)\n",
    "                                check.append(ccheck-1)\n",
    "                                pg[lcheck-1][ccheck-1] = mgB[lcheck-1][ccheck-1]\n",
    "                                ccheck = ccheck+1\n",
    "                            else:\n",
    "                                ccheck = ccheck +1\n",
    "                        else:\n",
    "                            pg[lcheck-1][ccheck-1] = mgB[lcheck-1][ccheck-1]\n",
    "                            ccheck = ccheck+1\n",
    "                lcheck = lcheck+1\n",
    "                ccheck = ccheck-3\n",
    "            for i in range(int(len(check)/2)):\n",
    "                l = check[0]\n",
    "                c = check[1]\n",
    "                del check[1]\n",
    "                del check[0]\n",
    "                action_joueur(l,c)\n",
    "    else: \n",
    "        if pg[l][c] == \"F\": # ça empêche le joueur de révelé une case déjà marquée\n",
    "            print(\"cette case est marquée, faites autre chose\")\n",
    "        else:\n",
    "            pg[l][c] = mgB[l][c] # ça affiche ce que contient la case \n",
    "    return ma # ça sert à sortir le compteur de drapeau restant de la fonction"
   ]
  },
  {
   "cell_type": "code",
   "execution_count": 21,
   "id": "6e3fdc7a",
   "metadata": {},
   "outputs": [
    {
     "name": "stdout",
     "output_type": "stream",
     "text": [
      "|?|?|?|?|?|?|?|?|?|?|\n",
      "|?|?|?|?|?|?|?|?|?|?|\n",
      "|?|?|?|?|?|?|?|?|?|?|\n",
      "|?|?|?|?|?|?|?|?|?|?|\n",
      "|?|?|?|?|?|?|?|?|?|?|\n",
      "|?|?|?|?|?|?|?|?|?|?|\n",
      "|?|?|?|?|?|?|?|?|?|?|\n",
      "|?|?|?|?|?|?|?|?|?|?|\n"
     ]
    }
   ],
   "source": [
    "#action_joueur(6,0)\n",
    "printgrille(pg) # test"
   ]
  },
  {
   "cell_type": "code",
   "execution_count": 22,
   "id": "b036880c",
   "metadata": {},
   "outputs": [
    {
     "name": "stdout",
     "output_type": "stream",
     "text": [
      "|0|0|0|0|0|0|0|0|0|0|\n",
      "|0|0|0|0|0|0|0|0|0|0|\n",
      "|0|0|0|0|0|0|0|0|0|0|\n",
      "|0|0|0|0|0|0|0|0|0|0|\n",
      "|0|0|0|0|0|0|0|0|0|0|\n",
      "|0|0|0|0|0|0|0|0|0|0|\n",
      "|0|0|0|0|0|0|0|0|0|0|\n",
      "|0|0|0|0|0|0|0|0|0|0|\n",
      "-----\n",
      "|2|B|2|B|2|1|2|1|1|0|\n",
      "|1|2|3|2|3|B|3|B|1|0|\n",
      "|0|1|B|2|2|B|3|1|1|0|\n",
      "|0|1|1|2|2|2|2|1|2|1|\n",
      "|0|0|0|1|B|1|1|B|2|B|\n",
      "|0|0|0|2|2|2|1|1|2|1|\n",
      "|0|0|0|1|B|1|0|0|0|0|\n",
      "|0|0|0|1|1|1|0|0|0|0|\n"
     ]
    }
   ],
   "source": [
    "printgrille(gc)\n",
    "print(\"-----\")\n",
    "printgrille(mgB) # test"
   ]
  },
  {
   "cell_type": "markdown",
   "id": "996601c4",
   "metadata": {},
   "source": [
    "Marquer une case :"
   ]
  },
  {
   "cell_type": "markdown",
   "id": "8da78b82",
   "metadata": {},
   "source": [
    "J'ai rencontré le même problème dans cette fonction que dans la précédente avec le m et l' ai réglé de la même manière."
   ]
  },
  {
   "cell_type": "code",
   "execution_count": 23,
   "id": "9bf664a5",
   "metadata": {},
   "outputs": [],
   "source": [
    "m = 10 # il s'agit du compteur de drapeau reatant à placer (marqueurs)"
   ]
  },
  {
   "cell_type": "code",
   "execution_count": 24,
   "id": "7712fd81",
   "metadata": {},
   "outputs": [],
   "source": [
    "def action_joueur2(m,l,c):\n",
    "    \"\"\"Cette fonction permet au joueur de marquer et démarquer les cases. Elle définit ce qui se passe lorsque le joueur pose un drapeau, qu'il en retire un et que plus aucun drapeau est disponible.( l = ligne de la case, c = colonne de la case)\n",
    "    \"\"\"\n",
    "    ma = m # m est le compteur de drapeaux restant à disposition du joueur et ma est la variable locale\n",
    "    if pg[l][c] == \"F\": # si il y adéja un drapeau sur la case il va être retiré\n",
    "        print(\"drapeau retiré\")\n",
    "        ma = ma+1 # le compteur de drapeau est actualisé \n",
    "        pg[l][c] = \"?\" # la case et denouveau masquée\n",
    "    elif pg[l][c] == \"?\": # si la case est marquée un drapeau peut être placé\n",
    "        if ma > 0: # si il reste des drapeaux disponible le joueur pourra en placer un\n",
    "            pg[l][c] = \"F\" \n",
    "            ma = ma-1 # le compteur de drapeau est actualisé\n",
    "        else: # si il n' y a plus de drapeau disponiblele jeu propose au joeur d'en retirer un\n",
    "            print(\"tous les drapeaux sont placés, lequel voulez-vous retirer?\")\n",
    "            l = int(input(\"ligne :\")) # le joueur choisis la ligne du drapeau à retirer\n",
    "            c = int(input(\"colone :\")) # le joueur choisis la colonne du drapeau à retirer\n",
    "            if pg[l][c] == \"F\": # si il y a un drapeau sur la cas choisie il est enlevé\n",
    "                pg[l][c] = \"?\" # la case est masquée\n",
    "                ma = ma+1 # le compteur de drapeau est actualisé\n",
    "                print(\"quelle case voulez-vous marquer?\")\n",
    "                l = int(input(\"ligne :\")) # le joueur choisis la ligne du drapeau à ajouter\n",
    "                c = int(input(\"colone :\")) # le joueur choisis la colonne du drapeau à ajouter\n",
    "                action_joueur2(m,l,c) # la fonction est relancée\n",
    "            else: # si la case sélectionnée n'est pas marquée le joueur à un deuxième chance de sélectionner une case valide\n",
    "                print(\"vous ne pouvez pas selectionner une case non marquée, choisisez une autre case\")\n",
    "                l = int(input(\"ligne :\"))\n",
    "                c = int(input(\"colone :\"))\n",
    "                pg[l][c] = \"?\"\n",
    "                ma = ma+1\n",
    "                print(\"quelle case voulez-vous marquer?\")\n",
    "                l = int(input(\"ligne :\"))\n",
    "                c = int(input(\"colone :\"))\n",
    "                action_joueur2(m,l,c)\n",
    "    else:\n",
    "        print(\"cette case est délà révelée, faites autre chose\")\n",
    "    return ma # ça sert à sortir le compteur de drapeau restant de la fonction"
   ]
  },
  {
   "cell_type": "code",
   "execution_count": 25,
   "id": "85f6f82e",
   "metadata": {},
   "outputs": [
    {
     "name": "stdout",
     "output_type": "stream",
     "text": [
      "|?|?|?|?|?|?|?|?|?|?|\n",
      "|?|?|?|?|?|?|?|?|?|?|\n",
      "|?|?|?|?|?|?|?|?|?|?|\n",
      "|?|?|?|?|?|?|?|?|?|?|\n",
      "|?|?|?|?|?|?|?|?|?|?|\n",
      "|?|?|?|?|?|?|?|?|?|?|\n",
      "|?|?|?|?|?|?|?|?|?|?|\n",
      "|?|?|?|?|?|?|?|?|?|?|\n",
      "10\n"
     ]
    }
   ],
   "source": [
    "#action_joueur(6,4)\n",
    "printgrille(pg)\n",
    "print(m) # test"
   ]
  },
  {
   "cell_type": "markdown",
   "id": "8432b7cf",
   "metadata": {},
   "source": [
    "Commande de jeu :"
   ]
  },
  {
   "cell_type": "markdown",
   "id": "abb3ecdd",
   "metadata": {},
   "source": [
    "Pour pouvoir réelement étendre les modifications du m au reste du programme il a fallut crée une autre variable local mb qui prend, après l'éxecution d'action_joueur ou d'action_joueur2, la valeur de ma et ensuite retourner mb. Pour au final faire que m prenne la valeur de mb retournée par action."
   ]
  },
  {
   "cell_type": "code",
   "execution_count": 26,
   "id": "f86da328",
   "metadata": {},
   "outputs": [],
   "source": [
    "def action(a,l,c):\n",
    "    \"\"\"Cette fonction permet au joeur d'avoir accès à toutes les actions disponibles depuis une même commande. En mettant \"f\" dans le paramètre a il choisis de placer un drapeau et en metant \"r\" il choisist de réveler des cases. l et c correspondent à la ligne et à la colonne de la case sélectionnée.\n",
    "    \"\"\"\n",
    "    mb = m # m est le compteur de drapeaux restant à disposition du joueur et ma est la variable locale\n",
    "    if a == \"f\":\n",
    "        mb = action_joueur2(m,l,c) # la fonction est exécutée et la valeur de ma est atribuée à mb\n",
    "    else:\n",
    "        if pg[l][c] != \"?\" and pg[l][c] != \"F\":\n",
    "            print(\"cette case est déjè découverte, faites autre chose\")\n",
    "        else:\n",
    "            mb = action_joueur(l,c) # la fonction est exécutée et la valeur de ma est atribuée à mb\n",
    "    return mb # ça sert à sortir le compteur de drapeau restant de la fonction"
   ]
  },
  {
   "cell_type": "code",
   "execution_count": 27,
   "id": "287f13c6",
   "metadata": {
    "scrolled": true
   },
   "outputs": [
    {
     "name": "stdout",
     "output_type": "stream",
     "text": [
      "|?|?|?|?|?|?|?|?|?|?|\n",
      "|?|?|?|?|?|?|?|?|?|?|\n",
      "|?|?|?|?|?|?|?|?|?|?|\n",
      "|?|?|?|?|?|?|?|?|?|?|\n",
      "|?|?|?|?|?|?|?|?|?|?|\n",
      "|?|?|?|?|?|2|?|?|?|?|\n",
      "|?|?|?|?|?|?|?|?|?|?|\n",
      "|?|?|?|?|?|?|?|?|?|?|\n",
      "10\n"
     ]
    }
   ],
   "source": [
    "m = action(\"r\",5,5) # la fonctione est exécutée et la valeur de mb est atribuée à m pour qu'elle soit réutilisée dans les actions suivantes\n",
    "printgrille(pg)\n",
    "print(m) # test"
   ]
  },
  {
   "cell_type": "code",
   "execution_count": 28,
   "id": "bb4e41be",
   "metadata": {
    "scrolled": false
   },
   "outputs": [
    {
     "name": "stdout",
     "output_type": "stream",
     "text": [
      "|2|B|2|B|2|1|2|1|1|0|\n",
      "|1|2|3|2|3|B|3|B|1|0|\n",
      "|0|1|B|2|2|B|3|1|1|0|\n",
      "|0|1|1|2|2|2|2|1|2|1|\n",
      "|0|0|0|1|B|1|1|B|2|B|\n",
      "|0|0|0|2|2|2|1|1|2|1|\n",
      "|0|0|0|1|B|1|0|0|0|0|\n",
      "|0|0|0|1|1|1|0|0|0|0|\n"
     ]
    }
   ],
   "source": [
    "printgrille(mgB) # test"
   ]
  },
  {
   "cell_type": "markdown",
   "id": "04299a40",
   "metadata": {},
   "source": [
    "**Journal de Bord Interface graphique:**\n",
    "\n",
    "Je vous propose de lire un #PROGRAMME à la fois et de l'éxécuter dans l'ordre à chaque catégorie(Dessin de la grille, en est une).  \n",
    "Puis vous passez au suivants.  \n",
    "Chaque cellule de code illustre ce qui est dit dans la cellule de texte en dessus. \n",
    "  \n",
    "N'ayant pas vraiment fait de journal de bord cadré depuis le début du projet, j'ai rassemblé les choix principaux concernant l'interface graphique.\n",
    "(J'ai fait tellement d'essais pour essayer de comprendre des choses un peu n'importe où)"
   ]
  },
  {
   "cell_type": "markdown",
   "id": "3593333e",
   "metadata": {},
   "source": [
    "Dessin de la grille:  \n",
    "  \n",
    "#PROGRAMME 1: Tout d'abord j'ai pensé utilisé le même programme qu'on avais fait dans le notebook turtle, et j'ai fait en sorte que ça apparaisse centré. Mais le problème c'est que c'est très long, ici pour dessiner 100 cases.\n",
    "\n",
    "\n",
    "#PROGRAMME 2: Pour accélérer la création de la grille j'ai d'abord immaginé la faire avec du texte (j'avais découvert plutôt qu'on pouvais afficher du texte dans turtle). Le texte s'affiche instantanément. Soit je faisait une grille avec du texte sois je désinnais les carrés différemment, c'est à dire ligne par ligne et colonne par colonne. Dans les 2 cas il y avait un petit quelque chose a règlé au niveau du visuel, j'ai préféré gardé la grille faite de texte. \n",
    "\n",
    "\n",
    "#PROGRAMME 3: Enfin, les images. Suite à une tentative de jeu sur le mac de Thibault on a remarqué que la police avait rétrécit. Pour y remédié j'ai cherché comment mettre des images, enfaite il s'agit de donner une autre apparence qu'on importe à une tortue avec tortue.shape().\n",
    "Ceci permet d'une part de centrer l'image par rapport à la position de la tortue. D'autre part vu que l'image est propre au dossier du jeu, il n'y a pas d'altération comme avec une police d'écriture entre mac et windows.\n",
    "\n"
   ]
  },
  {
   "cell_type": "code",
   "execution_count": 2,
   "id": "a72b52e9",
   "metadata": {},
   "outputs": [],
   "source": [
    "#PROGRAMME 1\n",
    "\n",
    "import turtle\n",
    "discworld = turtle.Screen()\n",
    "ATuin = turtle.Turtle()\n",
    "ATuin.speed(0)\n",
    "ATuin.hideturtle()\n",
    "l = 5\n",
    "c = 5\n",
    "#Dessin de la grille\n",
    "ATuin.up()\n",
    "ATuin.goto(-((c*54-4)/2),(l*54-4)/2)\n",
    "ATuin.down()\n",
    "\n",
    "for i in range(l):\n",
    "    for i in range(c):\n",
    "        for i in range(4):\n",
    "            ATuin.forward(50)\n",
    "            ATuin.right(90)\n",
    "        ATuin.up()\n",
    "        ATuin.forward(54)\n",
    "        ATuin.down()\n",
    "    ATuin.up()\n",
    "    ATuin.backward(54*c)\n",
    "    ATuin.right(90)\n",
    "    ATuin.forward(54)\n",
    "    ATuin.left(90)\n",
    "    ATuin.down()"
   ]
  },
  {
   "cell_type": "code",
   "execution_count": 1,
   "id": "ce5d3e8d",
   "metadata": {},
   "outputs": [],
   "source": [
    "#PROGRAMME 2\n",
    "import turtle\n",
    "\n",
    "Tcarre = 50\n",
    "Espace = 3\n",
    "taillecase = Tcarre+Espace\n",
    "\n",
    "Interface = turtle.Turtle()\n",
    "Interface.hideturtle()\n",
    "Interface.speed(0)\n",
    "Interface.pensize(10)\n",
    "\n",
    "def DessineGrille(l, c):\n",
    "    Interface.pencolor(\"grey\")\n",
    "    for i in range(c+1):\n",
    "        Interface.up()\n",
    "        Interface.goto(-277 + taillecase*i,-294)\n",
    "        Interface.down()\n",
    "        Interface.write(\"│\\n│\\n│\\n│\\n│\\n│\\n│\\n│\\n│\\n│\\n│\\n│\", font=(\"Arial\", 30, \"normal\"))\n",
    "    for j in range(l+1):\n",
    "        Interface.up()\n",
    "        Interface.goto(-268,-323 + taillecase*j)\n",
    "        Interface.down()\n",
    "        Interface.write(\"⏤⏤⏤⏤⏤⏤⏤⏤⏤\", font = (\"Arial\", 45, \"normal\"))\n",
    "    Interface.up()\n",
    "    Interface.goto(-279,244)\n",
    "    Interface.down()\n",
    "    Interface.pencolor(\"white\")\n",
    "    for c in range(4):\n",
    "        Interface.forward(548)\n",
    "        Interface.right(90)\n",
    "    Interface.pencolor(\"black\")\n",
    "DessineGrille(10, 10)"
   ]
  },
  {
   "cell_type": "code",
   "execution_count": 1,
   "id": "ed8d7210",
   "metadata": {},
   "outputs": [],
   "source": [
    "#PROGRAMME 3\n",
    "\n",
    "import turtle\n",
    "\n",
    "Fenetre = turtle.Screen()\n",
    "\n",
    "Fenetre.addshape('GrilleDemineur.gif')\n",
    "Fenetre.addshape('CacheCase.gif')\n",
    "Fenetre.addshape('DrapeauM.gif')\n",
    "Fenetre.addshape('DrapeauV.gif')\n",
    "Fenetre.addshape('BombeN.gif')\n",
    "Fenetre.addshape('BombeR.gif')\n",
    "Fenetre.addshape('UN.gif')\n",
    "Fenetre.addshape('DEUX.gif')\n",
    "Fenetre.addshape('TROIS.gif')\n",
    "Fenetre.addshape('QUATRE.gif')\n",
    "Fenetre.addshape('CINQ.gif')\n",
    "Fenetre.addshape('SIX.gif')\n",
    "Fenetre.addshape('SEPT.gif')\n",
    "Fenetre.addshape('HUIT.gif')\n",
    "Fenetre.addshape('BombeTrouvee.gif')\n",
    "Fenetre.addshape('CadreGagner.gif')\n",
    "Fenetre.addshape('CadrePerdu.gif')\n",
    "Fenetre.addshape('Chargement.gif')\n",
    "\n",
    "#affichage du chargement\n",
    "Interface = turtle.Turtle() #la tortue interface se charge du fond qui ne change pas, sauf chargement au début.\n",
    "Interface.speed(0)\n",
    "Interface.up()\n",
    "Interface.goto(0,27)\n",
    "Interface.down()\n",
    "Interface.shape('Chargement.gif')\n",
    "\n",
    "def DessineGrille():\n",
    "    \"\"\"Cette fonction affiche la grille de fond, avec les coordonnées ainsi que la bombe du compteur de bombes.\n",
    "    \"\"\"\n",
    "    Interface.shape('GrilleDemineur.gif')\n",
    "    Interface.showturtle()\n",
    "DessineGrille()"
   ]
  },
  {
   "cell_type": "markdown",
   "id": "5e805e3e",
   "metadata": {},
   "source": [
    "Dessin des coordonnées:  \n",
    "  \n",
    "#PROGRAMME 1: Pour commencer j'ai utilisé une tortue qui se déplace en fonction du nombre de case et de leur taille pour affiché n+1 chiffre.\n",
    "\n",
    "\n",
    "#PROGRAMME 2: Aucun changement par rapport au #PROGRAMME 1 si ce n'est qu'il s'agit dorénavant d'une fonction. Cependant à ce moment la du projet on décide de limiter la grille à une grille 10 X 10, pour éviter des problème de centrage quand on entre dans les nombre à 2 chiffres. \n",
    "\n",
    "\n",
    "#PROGRAMME 3: Avec la nouvelle possibilité de mettre des images on a pu mettre les coordonées directement avec la grille, par conscéquent la fonction du #PROGRAMME 2 peut être supprimée. Puisqu'il s'agit d'une image on aurait pu faire une grille plus grande en centrant nous même les coordonnées à 2 chiffres.\n",
    "\n"
   ]
  },
  {
   "cell_type": "code",
   "execution_count": 3,
   "id": "6150d881",
   "metadata": {},
   "outputs": [],
   "source": [
    "#PROGRAMME 1\n",
    "ATuin.up()\n",
    "ATuin.goto(-((c*54-4)/2+34),(l*54-4)/2+11)\n",
    "n = 0\n",
    "for i in range(c): \n",
    "    ATuin.forward(54)\n",
    "    ATuin.write(n, font=(\"Arial\", 16, \"normal\"))\n",
    "    n = n + 1\n",
    "\n",
    "ATuin.goto(-((c*54-4)/2+31),(l*54-4)/2+17)\n",
    "ATuin.right(90)\n",
    "n = 0\n",
    "for i in range(l):\n",
    "    ATuin.forward(54)\n",
    "    ATuin.write(n, font=(\"Arial\", 16, \"normal\"))\n",
    "    n = n + 1"
   ]
  },
  {
   "cell_type": "code",
   "execution_count": 2,
   "id": "4939e79e",
   "metadata": {},
   "outputs": [],
   "source": [
    "#PROGRAMME 2\n",
    "def AfficheCoordonee(l, c):\n",
    "    Interface.up()\n",
    "    Interface.goto(-302,245)\n",
    "    n = 0\n",
    "    for i in range(c): \n",
    "        Interface.forward(53)\n",
    "        Interface.write(n, font=(\"Arial\", 25, \"normal\"))\n",
    "        n = n + 1\n",
    "\n",
    "    Interface.goto(-300,244)\n",
    "    Interface.right(90)\n",
    "    n = 0\n",
    "    for i in range(l):\n",
    "        Interface.forward(53)\n",
    "        Interface.write(n, font=(\"Arial\", 25, \"normal\"))\n",
    "        n = n + 1\n",
    "    Interface.left(90)\n",
    "AfficheCoordonee(10, 10)"
   ]
  },
  {
   "cell_type": "code",
   "execution_count": 5,
   "id": "4e770a91",
   "metadata": {},
   "outputs": [],
   "source": [
    "#PROGRAMME 3\n",
    "\n",
    "#Les coordonnées sont déjà affichées par la grille de l'éxecution précédente, pas de programme ici\n"
   ]
  },
  {
   "cell_type": "markdown",
   "id": "d078b8d5",
   "metadata": {},
   "source": [
    "Dessins bombes et drapeaux:  \n",
    "  \n",
    "#PROGRAMME 1: En premier lieu j'ai essayé de faire comme lorsqu'on a appris à dessiner avec turtle dans le cadre du cours. J'ai fait 2 pseudos-fonctions qui dessinent bombe et drapeau. Mais en cas de défaite ou il faut afficher toute les bombes d'un coup, c'est trop lent pour moi.\n",
    "\n",
    "\n",
    "#PROGRAMME 2: A ce moment la j'ai eus une idée, utiliser du texte pour afficher une bombe ou un drapeau. J'ai cherché des symboles ressemblants le plus possible à une bombe et à un drapeau. J'ai finalement compris que je pouvais utilisé l'emoji bombe et l'emoji drapeau. L'affichage était instantané. Malheureusement les caractères/emoji n'avaient pas la même taille sur mac.\n",
    "\n",
    "\n",
    "#PROGRAMME 3: Avec le turtle.shape() je peux afficher instantanément une image de bombe ou de drapeau sur la turtle qui occupe la case ciblée(expliqué dans le texte suivant). En plus c'est centré sur la position de la tortue ce qui n'était pas le cas avec le texte. Ce n'est plus un problème sur mac.\n",
    "\n"
   ]
  },
  {
   "cell_type": "code",
   "execution_count": 4,
   "id": "b1c90fbe",
   "metadata": {},
   "outputs": [],
   "source": [
    "#PROGRAMME 1\n",
    "\n",
    "#Bombe\n",
    "NombreDeBombe = 8\n",
    "\n",
    "ATuin.up()\n",
    "ATuin.goto(-((c*54-4)/2-50),(l*54-4)/2 + 77)\n",
    "ATuin.down()\n",
    "ATuin.fillcolor(\"black\")\n",
    "ATuin.pencolor(\"black\")\n",
    "ATuin.begin_fill()\n",
    "for i in range(8):\n",
    "    ATuin.circle(9,extent = 45)\n",
    "    ATuin.right(90)\n",
    "    ATuin.forward(3)\n",
    "    ATuin.right(90)\n",
    "    ATuin.forward(2)\n",
    "    ATuin.right(90)\n",
    "    ATuin.forward(3)\n",
    "    ATuin.right(90)\n",
    "ATuin.end_fill()\n",
    "\n",
    "ATuin.up()\n",
    "ATuin.goto(-((c*54-4)/2-66),(l*54-4)/2 + 69)\n",
    "ATuin.down()\n",
    "ATuin.left(90)\n",
    "ATuin.write(NombreDeBombe, font=(\"Arial\", 16, \"normal\"))\n",
    "\n",
    "#Drapeau\n",
    "DrapeauRestant = 8\n",
    "\n",
    "ATuin.up()\n",
    "ATuin.goto((c*54-4)/2-55,(l*54-4)/2 + 76)\n",
    "ATuin.down()\n",
    "\n",
    "ATuin.fillcolor(\"black\")\n",
    "ATuin.pencolor(\"black\")\n",
    "ATuin.begin_fill()\n",
    "for i in range(2):\n",
    "    ATuin.forward(10)\n",
    "    ATuin.right(90)\n",
    "    ATuin.forward(2)\n",
    "    ATuin.right(90)\n",
    "ATuin.end_fill()\n",
    "\n",
    "ATuin.up()\n",
    "ATuin.forward(4)\n",
    "ATuin.down()\n",
    "ATuin.left(90)\n",
    "ATuin.begin_fill()\n",
    "for i in range(2):\n",
    "    ATuin.forward(15)\n",
    "    ATuin.right(90)\n",
    "    ATuin.forward(2)\n",
    "    ATuin.right(90)\n",
    "ATuin.end_fill()\n",
    "\n",
    "ATuin.up()\n",
    "ATuin.forward(15)\n",
    "ATuin.down()\n",
    "\n",
    "ATuin.fillcolor(\"red\")\n",
    "ATuin.pencolor(\"red\")\n",
    "ATuin.begin_fill()\n",
    "ATuin.right(60)\n",
    "ATuin.forward(10)\n",
    "ATuin.left(120)\n",
    "ATuin.forward(10)\n",
    "ATuin.end_fill()\n",
    "\n",
    "ATuin.pencolor(\"black\")\n",
    "ATuin.up()\n",
    "ATuin.goto((c*54-4)/2-40,(l*54-4)/2 + 69)\n",
    "ATuin.down()\n",
    "\n",
    "ATuin.write(DrapeauRestant, font=(\"Arial\", 16, \"normal\"))"
   ]
  },
  {
   "cell_type": "code",
   "execution_count": 3,
   "id": "69bd823f",
   "metadata": {},
   "outputs": [],
   "source": [
    "#PROGRAMME 2\n",
    "\n",
    "def DessinBombe(UneTortue, Tbombe, Cbombe):\n",
    "    UneTortue.pencolor(Cbombe)\n",
    "    UneTortue.write(\"💣\", font = (\"Arial\", Tbombe, \"normal\"))\n",
    "    UneTortue.pencolor(\"black\")\n",
    "    \n",
    "def DessinDrapeau(UneTortue,Couleur):\n",
    "    UneTortue.pencolor(Couleur)\n",
    "    UneTortue.write(\"🏁\", font = (\"Arial\", 24, \"normal\")) \n",
    "    UneTortue.pencolor(\"black\")\n",
    "\n",
    "Interface.clear()\n",
    "Interface.forward(100)\n",
    "DessinBombe(Interface,30,\"black\")\n",
    "Interface.forward(100)\n",
    "DessinDrapeau(Interface,\"maroon\")"
   ]
  },
  {
   "cell_type": "code",
   "execution_count": 2,
   "id": "2183d2eb",
   "metadata": {},
   "outputs": [],
   "source": [
    "#PROGRAMME 3\n",
    "Interface.hideturtle()\n",
    "\n",
    "exemple1 = turtle.Turtle()\n",
    "exemple2 = turtle.Turtle()\n",
    "exemple1.up()\n",
    "exemple1.forward(150)\n",
    "exemple1.down\n",
    "exemple1.shape('QUATRE.gif')\n",
    "exemple2.shape('BombeTrouvee.gif')"
   ]
  },
  {
   "cell_type": "markdown",
   "id": "73da0e9f",
   "metadata": {},
   "source": [
    "Affichage dans les case:  \n",
    "  \n",
    "#PROGRAMME 13: La première chose qu'on a expérimenté c'était d'afficher tous les points d'inttérogations avec la tortue qui fait l'interface graphique. En lui faisant parcourir toute la grille physiquement. Mais comment changer ces points d'interrogations? En remettant du blanc par dessus? Non ce serait bien trop lent.\n",
    "\n",
    "\n",
    "#PROGRAMME 23: On a donc créé une tortue par case pour utiliser le clear qui efface instantanément ce qu'a fait la tortue ainsi on peut turtle.write() quelque chose et l'effacer rapidement et facilement. On utilise alors des points d'intérogation et des bombes emoji. Le problème c'est que la ou la tortue écrit un point d'interrogation centré, il faudra faire une manipulation pour pouvoir écrire un emoji bombes centré. Qui plus est tous ça change sur mac.  \n",
    "\n",
    "\n",
    "#PROGRAMME 33: Avec turtle.shape() on a moyen de centrer l'affichage sur la tortue en plus de régler les problèmes mac\n",
    "\n"
   ]
  },
  {
   "cell_type": "code",
   "execution_count": 4,
   "id": "cd0f97e5",
   "metadata": {},
   "outputs": [],
   "source": [
    "#PROGRAMME 1\n",
    "ATuin.up()\n",
    "ATuin.goto(-((c*54-4)/2-21),(l*54-4)/2-38)\n",
    "ATuin.right(150)\n",
    "for i in range(l):\n",
    "    for i in range(c):\n",
    "        ATuin.down()\n",
    "        ATuin.write(\"?\", font=(\"Arial\", 16, \"normal\"))\n",
    "        ATuin.up()\n",
    "        ATuin.forward(54)\n",
    "    ATuin.backward(54*c)\n",
    "    ATuin.right(90)\n",
    "    ATuin.forward(54)\n",
    "    ATuin.left(90)"
   ]
  },
  {
   "cell_type": "code",
   "execution_count": 9,
   "id": "2a0429c2",
   "metadata": {},
   "outputs": [],
   "source": [
    "#PROGRAMME 2\n",
    "TortueCase = []\n",
    "OriginX = -250\n",
    "OriginY = 250\n",
    "Interface.clear()\n",
    "def CreateTurtles(lignes, colonnes):\n",
    "    for l in range(lignes):\n",
    "        Li = []\n",
    "        for c in range(colonnes):\n",
    "            t = turtle.Turtle()\n",
    "            Li.append(t)\n",
    "            t.hideturtle()\n",
    "            t.speed(0)\n",
    "            t.up()\n",
    "            posXturtle = OriginX + c*taillecase + 4\n",
    "            posYturtle = OriginY - l*taillecase - 52\n",
    "            t.goto(posXturtle, posYturtle)\n",
    "            t.down()\n",
    "        TortueCase.append(Li)\n",
    "        \n",
    "def EcritCase(lignes, colonnes):\n",
    "    for i in range(lignes):\n",
    "        for j in range(colonnes):\n",
    "            TortueCase[i][j].write(\"?\", font=(\"Arial\", 16, \"normal\"))\n",
    "\n",
    "CreateTurtles(10,10)\n",
    "EcritCase(10,10)\n",
    "\n"
   ]
  },
  {
   "cell_type": "code",
   "execution_count": 4,
   "id": "3f44e48e",
   "metadata": {},
   "outputs": [],
   "source": [
    "#PROGRAMME 3\n",
    "\n",
    "exemple1.hideturtle()\n",
    "exemple2.hideturtle()\n",
    "Tcarre = 50\n",
    "Espace = 3\n",
    "taillecase = Tcarre+Espace\n",
    "TortueCase = []\n",
    "OriginX = -250\n",
    "OriginY = 250\n",
    "Interface.clear()\n",
    "def CreateTurtles(lignes, colonnes):\n",
    "    for l in range(lignes):\n",
    "        Li = []\n",
    "        for c in range(colonnes):\n",
    "            t = turtle.Turtle()\n",
    "            Li.append(t)\n",
    "            t.hideturtle()\n",
    "            t.speed(0)\n",
    "            t.up()\n",
    "            posXturtle = OriginX + c*taillecase + 4\n",
    "            posYturtle = OriginY - l*taillecase - 52\n",
    "            t.goto(posXturtle, posYturtle)\n",
    "            t.down()\n",
    "            t.shape('CacheCase.gif')\n",
    "            t.showturtle()\n",
    "        TortueCase.append(Li)\n",
    "CreateTurtles(10,10)"
   ]
  },
  {
   "cell_type": "markdown",
   "id": "ddb9eb60",
   "metadata": {},
   "source": [
    "Chargement:  \n",
    "  \n",
    "1) Quand les tortues se créent au début du programme elles sont visible un instant avant de disparaître ce qui n'est pas très beau à voir. J'ai donc utilisé la tortue Interface pour afficher \"Chargement...\" le temps que les tortues se créent. Et ce avec une police assez grande afin de cacher la création des tortues dans le noir du chargement.\n",
    "  \n",
    "2) Même problème que tout à l'heure avec le texte sur mac, j'utilise donc une image."
   ]
  },
  {
   "cell_type": "code",
   "execution_count": 5,
   "id": "54949282",
   "metadata": {},
   "outputs": [],
   "source": [
    "#chargement 1\n",
    "import turtle\n",
    "\n",
    "Interface = turtle.Turtle()\n",
    "Interface.hideturtle()\n",
    "Interface.speed(0)\n",
    "Interface.pensize(10)\n",
    "\n",
    "Interface.up()\n",
    "Interface.goto(-250,-40)\n",
    "Interface.down()\n",
    "Interface.write(\"Chargement...\", font=(\"Arial\", 60, \"normal\"))"
   ]
  },
  {
   "cell_type": "code",
   "execution_count": 1,
   "id": "6b2279b6",
   "metadata": {},
   "outputs": [],
   "source": [
    "#chargement 2\n",
    "import turtle\n",
    "\n",
    "Fenetre = turtle.Screen()\n",
    "Fenetre.addshape('Chargement.gif')\n",
    "Interface = turtle.Turtle()\n",
    "Interface.speed(0)\n",
    "Interface.up()\n",
    "Interface.goto(0,27)\n",
    "Interface.down()\n",
    "Interface.shape('Chargement.gif')"
   ]
  },
  {
   "cell_type": "markdown",
   "id": "4ab2340d",
   "metadata": {},
   "source": [
    "----------------"
   ]
  },
  {
   "cell_type": "markdown",
   "id": "bcf19abf",
   "metadata": {},
   "source": [
    "**!!Mode d'emploi!!**\n",
    "\n",
    "**Comment lancer le jeu:**  \n",
    "1) Téléchargé le dossier Projet-D-mineur, et assurer vous que python est installé.  \n",
    "2) Déplacer Projet-D-mineur sur le bureau  \n",
    "3) Ouvrir le terminal et exécuter les commandes suivantes:  \n",
    "  \n",
    "cd Desktop  \n",
    "\n",
    "cd Projet-D-mineur\n",
    "\n",
    "cd JeuDemineur  \n",
    "  \n",
    "cd python Play.py  \n",
    "  \n",
    "#Pour une expérience de jeu optimale il est recommandé d'agrandir la fenêtre de jeu lors du chargement, afin d'avoir accès à l'entièreté de l'affichage proposé.  \n",
    "  \n",
    "**Comment jouer:**  \n",
    "  \n",
    "Commandes:  \n",
    "r = Révéler une case.  \n",
    "f = Mettre un drapeau sur une case ou retirer un drapeau d'une case.  \n",
    "q = Quitter.  \n",
    "  \n",
    "#si vous ne saisissez pas un nombre et si vous  ne saisissez pas un nombre entier, le programme va planter et se quitter.  \n",
    "#après un message d'erreur dans le terminal il faut toujours recommencer par écrire une commande  \n",
    "  \n",
    "Commandes (si les précédentes ne fonctionnent pas):  \n",
    "\"r\" = Révéler une case.  \n",
    "\"f\" = Mettre un drapeau sur une case ou retirer un drapeau d'une case.  \n",
    "\"q\" = Quitter.   \n",
    "  \n",
    "**Règles du démineur:**  \n",
    "Le but du jeu est de découvrir toute les cases sans révéler une seule bombe.\n",
    "Vous avez le choix entre révéler une case ou marquer une case avec un drapeau.\n",
    "Si vous décidez de révéler une case, la ou les cases révélées afficheront le nombre de bombe  qui se trouvent autour d'elle. Autour signifie les 4 cases adjacentes ainsi que les 4 cases situées dans les diagonales.\n",
    "Si vous révélez une bombe, vous perdez.\n",
    "Si vous décidez de marquer une case avec un drapeau, vous ne pourrez plus la révéler tant que vous n'aurez pas enlever le drapeau. Le compteur de bombe vous affichera alors le nombre de bombe qu'il vous reste à trouver."
   ]
  },
  {
   "cell_type": "markdown",
   "id": "930438d9",
   "metadata": {},
   "source": [
    "----------------------------------------------------------------------------"
   ]
  },
  {
   "cell_type": "markdown",
   "id": "0889a4be",
   "metadata": {},
   "source": [
    "**Conclusion et critique:**  \n",
    "  \n",
    "Le jeu fonctionne bien mais le code est mal structurer, étant donner que je découvrais de nouvelle choses chaque jour pour améliorer l'expérience de jeu on a pas eus le temps de travailler l'aspect du code. (exemple: le module interface graphique fait plus qu' une interface graphique, les fonctions et les variables sont mal répértoriées). Avec plus de temps on aurait fait un timer on aurait fait des niveaux de difficulté on aurait globalement améliorer le code, le nom des variables etc...\n",
    "Finalement on a beaucoup aimé faire ça, c'était pas difficile à proprement parler mais il fallait du temps pour se documenter pour pouvoir faire ce qu'on voulais.\n",
    "  \n",
    "(des problèmes sont survenus en passant de windows à mac/ on a fait au mieux pour que sa fonctionne)"
   ]
  }
 ],
 "metadata": {
  "kernelspec": {
   "display_name": "Python 3",
   "language": "python",
   "name": "python3"
  },
  "language_info": {
   "codemirror_mode": {
    "name": "ipython",
    "version": 3
   },
   "file_extension": ".py",
   "mimetype": "text/x-python",
   "name": "python",
   "nbconvert_exporter": "python",
   "pygments_lexer": "ipython3",
   "version": "3.8.8"
  }
 },
 "nbformat": 4,
 "nbformat_minor": 5
}
