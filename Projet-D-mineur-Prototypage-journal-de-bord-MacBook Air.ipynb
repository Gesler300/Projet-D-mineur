{
 "cells": [
  {
   "cell_type": "markdown",
   "metadata": {},
   "source": [
    "\n",
    "Notes :  \n",
    "  \n",
    "  \n",
    "Le code sera quasi toujours des fonctions  \n",
    "Determiner ce dont nous allons avoir besoin :  \n",
    "Une grille avec des cases qui contiennent soit une valeure soit une bombe (valeur = nombre de bombes qu'il y a a coté de cette case)  \n",
    "Il faut que ça soit modulaire :  \n",
    "Que des fonctions qui ont un role précis et qui sont appellées les unes après les autres dans des fonctions plus générales   \n",
    "  \n",
    "1. générer les grilles :  \n",
    "C'est une liste de listes (listes imbriquées)  \n",
    "Il y a d'abord magrille, c'est la fonction qui crée la grille d'origine qui est remplie de 0  \n",
    "Ensuite il y a genpos, c'est la fonction  qui crée les positions les cases de la grille  \n",
    "Ensuite il y a le putBomb, c'est la fonction qui crée les positions des bombes  \n",
    "\n"
   ]
  },
  {
   "cell_type": "markdown",
   "metadata": {},
   "source": [
    "Liste des import :"
   ]
  },
  {
   "cell_type": "code",
   "execution_count": 1,
   "metadata": {},
   "outputs": [],
   "source": [
    "import random"
   ]
  },
  {
   "cell_type": "markdown",
   "metadata": {},
   "source": [
    "Creation de la grille :"
   ]
  },
  {
   "cell_type": "code",
   "execution_count": 2,
   "metadata": {},
   "outputs": [],
   "source": [
    "def magrille(l,c):\n",
    "    grille = []\n",
    "    for i in range (l):\n",
    "        grille.append([0]*c)\n",
    "    return grille\n"
   ]
  },
  {
   "cell_type": "code",
   "execution_count": 3,
   "metadata": {},
   "outputs": [],
   "source": [
    "mg = magrille(9, 9)"
   ]
  },
  {
   "cell_type": "markdown",
   "metadata": {},
   "source": [
    "Génération des positions dans la grille :"
   ]
  },
  {
   "cell_type": "code",
   "execution_count": 4,
   "metadata": {},
   "outputs": [
    {
     "data": {
      "text/plain": [
       "[(0, 0), (0, 1), (0, 2), (1, 0), (1, 1), (1, 2)]"
      ]
     },
     "execution_count": 4,
     "metadata": {},
     "output_type": "execute_result"
    }
   ],
   "source": [
    "def genPos(l,c):\n",
    "    pos=[]\n",
    "    for i in range(l):\n",
    "        for j in range (c):\n",
    "            pos.append((i,j))\n",
    "    return pos\n",
    "\n",
    "genPos(2,3)"
   ]
  },
  {
   "cell_type": "code",
   "execution_count": 5,
   "metadata": {},
   "outputs": [
    {
     "data": {
      "text/plain": [
       "[(0, 0), (1, 2), (0, 2)]"
      ]
     },
     "execution_count": 5,
     "metadata": {},
     "output_type": "execute_result"
    }
   ],
   "source": [
    "pos = genPos(2,3)\n",
    "random.sample(pos,3)"
   ]
  },
  {
   "cell_type": "markdown",
   "metadata": {},
   "source": [
    "Rendu de la grille initiale (magrille):"
   ]
  },
  {
   "cell_type": "code",
   "execution_count": 6,
   "metadata": {},
   "outputs": [],
   "source": [
    "def printgrille(magrille):\n",
    "    nbligne = len(magrille)\n",
    "    nbcol = len(magrille[0])\n",
    "    for i in range(nbligne):\n",
    "        lignetexte = \"|\"\n",
    "        for j in range(nbcol):\n",
    "            lignetexte += \"{0}|\".format(magrille[i][j])\n",
    "        print(lignetexte)      "
   ]
  },
  {
   "cell_type": "code",
   "execution_count": 7,
   "metadata": {},
   "outputs": [
    {
     "name": "stdout",
     "output_type": "stream",
     "text": [
      "|0|0|0|0|0|0|0|0|0|\n",
      "|0|0|0|0|0|0|0|0|0|\n",
      "|0|0|0|0|0|0|0|0|0|\n",
      "|0|0|0|0|0|0|0|0|0|\n",
      "|0|0|0|0|0|0|0|0|0|\n",
      "|0|0|0|0|0|0|0|0|0|\n",
      "|0|0|0|0|0|0|0|0|0|\n",
      "|0|0|0|0|0|0|0|0|0|\n",
      "|0|0|0|0|0|0|0|0|0|\n"
     ]
    }
   ],
   "source": [
    "printgrille(mg)"
   ]
  },
  {
   "cell_type": "markdown",
   "metadata": {},
   "source": [
    "Placement des bombes :"
   ]
  },
  {
   "cell_type": "code",
   "execution_count": 8,
   "metadata": {},
   "outputs": [],
   "source": [
    "def putBomb(grille, nbBomb):\n",
    "    nbligne = len(grille)\n",
    "    nbcol = len(grille[0])\n",
    "    pos = genPos(nbligne, nbcol)\n",
    "    posBomb = random.sample(pos, nbBomb) \n",
    "    for Bomb in (posBomb):\n",
    "        grille[Bomb[0]][Bomb[1]] = \"B\"\n",
    "    return grille\n",
    "\n",
    "#sortie ; grille avec des bombe"
   ]
  },
  {
   "cell_type": "code",
   "execution_count": 9,
   "metadata": {},
   "outputs": [
    {
     "name": "stdout",
     "output_type": "stream",
     "text": [
      "|0|B|B|0|0|0|0|B|B|0|\n",
      "|B|B|0|0|0|0|0|0|0|B|\n",
      "|0|0|0|B|0|0|B|B|0|0|\n",
      "|0|0|0|0|0|0|0|0|0|0|\n",
      "|0|0|0|B|0|B|0|0|0|0|\n",
      "|B|0|0|0|0|0|0|B|B|0|\n",
      "|0|B|0|0|0|0|0|0|0|0|\n",
      "|0|0|0|0|0|0|0|B|0|0|\n",
      "|0|B|0|0|0|0|0|0|0|0|\n",
      "|0|0|0|0|B|B|0|0|0|0|\n"
     ]
    }
   ],
   "source": [
    "mg = magrille(10,10)\n",
    "mgB = putBomb(mg,20)\n",
    "printgrille(mgB)"
   ]
  },
  {
   "cell_type": "markdown",
   "metadata": {},
   "source": [
    "Calcul du nombre de bombe autour d'une case :"
   ]
  },
  {
   "cell_type": "code",
   "execution_count": 10,
   "metadata": {},
   "outputs": [],
   "source": [
    "def checkbomb(mgB,l,c):\n",
    "    lcheck = l\n",
    "    ccheck = c\n",
    "    for i in range (3):\n",
    "        for j in range (3):\n",
    "            if mgB[lcheck-1][ccheck-1] == \"B\":\n",
    "                mgB[l][c] += 1\n",
    "                ccheck = ccheck+1\n",
    "            elif lcheck-1 == l and ccheck-1 == c:\n",
    "                ccheck = ccheck+1\n",
    "            else:\n",
    "                ccheck = ccheck+1\n",
    "        lcheck = lcheck+1\n",
    "        ccheck = ccheck-3"
   ]
  },
  {
   "cell_type": "code",
   "execution_count": 11,
   "metadata": {},
   "outputs": [
    {
     "name": "stdout",
     "output_type": "stream",
     "text": [
      "|0|B|B|0|0|0|0|B|B|0|\n",
      "|B|B|0|0|0|0|0|0|0|B|\n",
      "|0|0|0|B|0|0|B|B|0|0|\n",
      "|0|0|0|0|0|0|0|0|0|0|\n",
      "|0|0|0|B|0|B|0|0|0|0|\n",
      "|B|0|0|0|0|0|0|B|B|0|\n",
      "|0|B|0|0|0|0|0|0|0|0|\n",
      "|0|0|0|0|0|0|0|B|0|0|\n",
      "|0|B|0|0|0|0|0|0|0|0|\n",
      "|0|0|0|0|B|B|0|0|0|0|\n"
     ]
    }
   ],
   "source": [
    "\n",
    "printgrille(mgB)"
   ]
  },
  {
   "cell_type": "markdown",
   "metadata": {},
   "source": [
    "Programme complet qui place les chiffre dans les cases bordées par des bombes en prennant en compte les bords et les coins :"
   ]
  },
  {
   "cell_type": "code",
   "execution_count": 12,
   "metadata": {},
   "outputs": [],
   "source": [
    "def checkbomb2(mgB,l,c):\n",
    "    lcheck = l\n",
    "    ccheck = c\n",
    "    if l == 0 and c == 0:\n",
    "        for i in range (2):\n",
    "            for j in range (2):\n",
    "                if mgB[lcheck][ccheck] == \"B\":\n",
    "                    mgB[l][c] += 1\n",
    "                    ccheck = ccheck+1\n",
    "                elif lcheck == l and ccheck == c:\n",
    "                    ccheck = ccheck+1\n",
    "                else:\n",
    "                    ccheck = ccheck+1\n",
    "            lcheck = lcheck+1\n",
    "            ccheck = ccheck-2\n",
    "    elif l == 0 and c == len(mgB[0])-1:\n",
    "        for i in range (2):\n",
    "            for j in range (2):\n",
    "                if mgB[lcheck][ccheck-1] == \"B\":\n",
    "                    mgB[l][c] += 1\n",
    "                    ccheck = ccheck+1\n",
    "                elif lcheck == l and ccheck-1 == c:\n",
    "                    ccheck = ccheck+1\n",
    "                else:\n",
    "                    ccheck = ccheck+1\n",
    "            lcheck = lcheck+1\n",
    "            ccheck = ccheck-2\n",
    "    elif l == len(mgB)-1 and c == 0:\n",
    "        for i in range (2):\n",
    "            for j in range (2):\n",
    "                if mgB[lcheck-1][ccheck] == \"B\":\n",
    "                    mgB[l][c] += 1\n",
    "                    ccheck = ccheck+1\n",
    "                elif lcheck-1 == l and ccheck == c:\n",
    "                    ccheck = ccheck+1\n",
    "                else:\n",
    "                    ccheck = ccheck+1\n",
    "            lcheck = lcheck+1\n",
    "            ccheck = ccheck-2\n",
    "    elif l == len(mgB)-1 and c == len(mgB[0])-1:\n",
    "        for i in range (2):\n",
    "            for j in range (2):\n",
    "                if mgB[lcheck-1][ccheck-1] == \"B\":\n",
    "                    mgB[l][c] += 1\n",
    "                    ccheck = ccheck+1\n",
    "                elif lcheck-1 == l and ccheck-1 == c:\n",
    "                    ccheck = ccheck+1\n",
    "                else:\n",
    "                    ccheck = ccheck+1\n",
    "            lcheck = lcheck+1\n",
    "            ccheck = ccheck-2\n",
    "    elif l == 0:\n",
    "        for i in range (2):\n",
    "            for j in range (3):\n",
    "                if mgB[lcheck][ccheck-1] == \"B\":\n",
    "                    mgB[l][c] += 1\n",
    "                    ccheck = ccheck+1\n",
    "                elif lcheck == l and ccheck-1 == c:\n",
    "                    ccheck = ccheck+1\n",
    "                else:\n",
    "                    ccheck = ccheck+1\n",
    "            lcheck = lcheck+1\n",
    "            ccheck = ccheck-3\n",
    "    elif l == len(mgB)-1:\n",
    "        for i in range (2):\n",
    "            for j in range (3):\n",
    "                if mgB[lcheck-1][ccheck-1] == \"B\":\n",
    "                    mgB[l][c] += 1\n",
    "                    ccheck = ccheck+1\n",
    "                elif lcheck-1 == l and ccheck-1 == c:\n",
    "                    ccheck = ccheck+1\n",
    "                else:\n",
    "                    ccheck = ccheck+1\n",
    "            lcheck = lcheck+1\n",
    "            ccheck = ccheck-3\n",
    "    elif c == 0:\n",
    "        for i in range (3):\n",
    "            for j in range (2):\n",
    "                if mgB[lcheck-1][ccheck] == \"B\":\n",
    "                    mgB[l][c] += 1\n",
    "                    ccheck = ccheck+1\n",
    "                elif lcheck-1 == l and ccheck == c:\n",
    "                    ccheck = ccheck+1\n",
    "                else:\n",
    "                    ccheck = ccheck+1\n",
    "            lcheck = lcheck+1\n",
    "            ccheck = ccheck-2\n",
    "    elif c == len(mgB[0])-1:\n",
    "        for i in range (3):\n",
    "            for j in range (2):\n",
    "                if mgB[lcheck-1][ccheck-1] == \"B\":\n",
    "                    mgB[l][c] += 1\n",
    "                    ccheck = ccheck+1\n",
    "                elif lcheck-1 == l and ccheck-1 == c:\n",
    "                    ccheck = ccheck+1\n",
    "                else:\n",
    "                    ccheck = ccheck+1\n",
    "            lcheck = lcheck+1\n",
    "            ccheck = ccheck-2\n",
    "    else:\n",
    "        for i in range (3):\n",
    "            for j in range (3):\n",
    "                if mgB[lcheck-1][ccheck-1] == \"B\":\n",
    "                    mgB[l][c] += 1\n",
    "                    ccheck = ccheck+1\n",
    "                elif lcheck-1 == l and ccheck-1 == c:\n",
    "                    ccheck = ccheck+1\n",
    "                else:\n",
    "                    ccheck = ccheck+1\n",
    "            lcheck = lcheck+1\n",
    "            ccheck = ccheck-3"
   ]
  },
  {
   "cell_type": "code",
   "execution_count": 13,
   "metadata": {},
   "outputs": [
    {
     "name": "stdout",
     "output_type": "stream",
     "text": [
      "|0|B|B|0|0|0|0|B|B|0|\n",
      "|B|B|0|0|0|0|0|0|0|B|\n",
      "|0|0|0|B|0|0|B|B|0|0|\n",
      "|0|0|0|0|0|0|0|0|0|0|\n",
      "|0|0|0|B|0|B|0|0|0|0|\n",
      "|B|0|0|0|0|0|0|B|B|0|\n",
      "|0|B|0|0|0|0|0|0|0|0|\n",
      "|0|0|0|0|0|0|0|B|0|0|\n",
      "|0|B|0|0|0|0|0|0|0|0|\n",
      "|0|0|0|0|B|B|0|0|0|0|\n"
     ]
    }
   ],
   "source": [
    "\n",
    "printgrille(mgB)"
   ]
  },
  {
   "cell_type": "markdown",
   "metadata": {},
   "source": [
    "sur l'enssemble de la grille :"
   ]
  },
  {
   "cell_type": "code",
   "execution_count": 14,
   "metadata": {},
   "outputs": [],
   "source": [
    "def checkbombgrille(mgB):\n",
    "    for i in range(len(mgB)):\n",
    "        for j in range(len(mgB[0])):\n",
    "            if mgB[i][j] == \"B\":\n",
    "                continue\n",
    "            else:\n",
    "                checkbomb2(mgB,i,j)\n",
    "            "
   ]
  },
  {
   "cell_type": "code",
   "execution_count": 15,
   "metadata": {},
   "outputs": [
    {
     "name": "stdout",
     "output_type": "stream",
     "text": [
      "|3|B|B|1|0|0|1|B|B|2|\n",
      "|B|B|4|2|1|1|3|4|4|B|\n",
      "|2|2|2|B|1|1|B|B|2|1|\n",
      "|0|0|2|2|3|2|3|2|1|0|\n",
      "|1|1|1|B|2|B|2|2|2|1|\n",
      "|B|2|2|1|2|1|2|B|B|1|\n",
      "|2|B|1|0|0|0|2|3|3|1|\n",
      "|2|2|2|0|0|0|1|B|1|0|\n",
      "|1|B|1|1|2|2|2|1|1|0|\n",
      "|1|1|1|1|B|B|1|0|0|0|\n"
     ]
    }
   ],
   "source": [
    "checkbombgrille(mgB)\n",
    "printgrille(mgB)"
   ]
  },
  {
   "cell_type": "markdown",
   "metadata": {},
   "source": [
    "grille du joueur :"
   ]
  },
  {
   "cell_type": "code",
   "execution_count": 16,
   "metadata": {},
   "outputs": [],
   "source": [
    "def grille_joueur(l,c):\n",
    "    grille_joueur = []\n",
    "    for i in range (l):\n",
    "        grille_joueur.append([\"?\"]*c)\n",
    "    return grille_joueur\n"
   ]
  },
  {
   "cell_type": "code",
   "execution_count": 26,
   "metadata": {},
   "outputs": [
    {
     "name": "stdout",
     "output_type": "stream",
     "text": [
      "|?|?|?|?|?|?|?|?|?|?|\n",
      "|?|?|?|?|?|?|?|?|?|?|\n",
      "|?|?|?|?|?|?|?|?|?|?|\n",
      "|?|?|?|?|?|?|?|?|?|?|\n",
      "|?|?|?|?|?|?|?|?|?|?|\n",
      "|?|?|?|?|?|?|?|?|?|?|\n",
      "|?|?|?|?|?|?|?|?|?|?|\n",
      "|?|?|?|?|?|?|?|?|?|?|\n",
      "|?|?|?|?|?|?|?|?|?|?|\n",
      "|?|?|?|?|?|?|?|?|?|?|\n"
     ]
    }
   ],
   "source": [
    "pg = grille_joueur(10,10)\n",
    "printgrille(pg)"
   ]
  },
  {
   "cell_type": "markdown",
   "metadata": {},
   "source": [
    "réveler une case :"
   ]
  },
  {
   "cell_type": "code",
   "execution_count": 18,
   "metadata": {},
   "outputs": [],
   "source": [
    "def grille_controle(l,c):\n",
    "    grille_joueur = []\n",
    "    for i in range (l):\n",
    "        grille_joueur.append([0]*c)\n",
    "    return grille_joueur"
   ]
  },
  {
   "cell_type": "code",
   "execution_count": 25,
   "metadata": {},
   "outputs": [],
   "source": [
    "gc = grille_controle(10,10)"
   ]
  },
  {
   "cell_type": "code",
   "execution_count": 24,
   "metadata": {},
   "outputs": [],
   "source": [
    "def action_joueur(l,c):\n",
    "    if mgB[l][c] == \"B\":\n",
    "        for i in range(len(mgB)):\n",
    "            for j in range(len(mgB[0])):\n",
    "                if mgB[i][j] == \"B\":\n",
    "                    pg[i][j] = mgB[i][j]\n",
    "        print(\"vous avez perdu\")\n",
    "    if mgB[l][c] == 0:\n",
    "        lcheck = l\n",
    "        ccheck = c\n",
    "        check =[]\n",
    "        for i in range (3):\n",
    "            for j in range (3):\n",
    "                if lcheck-1 == l and ccheck-1 == c:\n",
    "                    pg[lcheck-1][ccheck-1] = mgB[lcheck-1][ccheck-1]\n",
    "                    ccheck = ccheck+1\n",
    "                    gc[l][c] = 1\n",
    "                else:\n",
    "                    if mgB[lcheck-1][ccheck-1] == 0:\n",
    "                        if gc[lcheck-1][ccheck-1] == 0:\n",
    "                            gc[lcheck-1][ccheck-1] = 1\n",
    "                            check.append(lcheck-1)\n",
    "                            check.append(ccheck-1)\n",
    "                            pg[lcheck-1][ccheck-1] = mgB[lcheck-1][ccheck-1]\n",
    "                            ccheck = ccheck+1\n",
    "                        else:\n",
    "                            ccheck = ccheck +1\n",
    "                    else:\n",
    "                        pg[lcheck-1][ccheck-1] = mgB[lcheck-1][ccheck-1]\n",
    "                        ccheck = ccheck+1\n",
    "            lcheck = lcheck+1\n",
    "            ccheck = ccheck-3\n",
    "        print(check)\n",
    "        check2 = len(check)/2\n",
    "        for i in range(int(check2)):\n",
    "            l = check[0]\n",
    "            c = check[1]\n",
    "            del check[1]\n",
    "            del check[0]\n",
    "            action_joueur(l,c)\n",
    "    else:\n",
    "        pg[l][c] = mgB[l][c]\n",
    "    \n",
    "    "
   ]
  },
  {
   "cell_type": "code",
   "execution_count": 27,
   "metadata": {},
   "outputs": [
    {
     "name": "stdout",
     "output_type": "stream",
     "text": [
      "[6, 3, 6, 5, 7, 3, 7, 4, 7, 5]\n",
      "[]\n",
      "[]\n",
      "[]\n",
      "[]\n",
      "[]\n",
      "|?|?|?|?|?|?|?|?|?|?|\n",
      "|?|?|?|?|?|?|?|?|?|?|\n",
      "|?|?|?|?|?|?|?|?|?|?|\n",
      "|?|?|?|?|?|?|?|?|?|?|\n",
      "|?|?|?|?|?|?|?|?|?|?|\n",
      "|?|?|2|1|2|1|2|?|?|?|\n",
      "|?|?|1|0|0|0|2|?|?|?|\n",
      "|?|?|2|0|0|0|1|?|?|?|\n",
      "|?|?|1|1|2|2|2|?|?|?|\n",
      "|?|?|?|?|?|?|?|?|?|?|\n"
     ]
    }
   ],
   "source": [
    "action_joueur(6,4)\n",
    "printgrille(pg)"
   ]
  },
  {
   "cell_type": "code",
   "execution_count": 22,
   "metadata": {},
   "outputs": [
    {
     "name": "stdout",
     "output_type": "stream",
     "text": [
      "|3|B|B|1|0|0|1|B|B|2|\n",
      "|B|B|4|2|1|1|3|4|4|B|\n",
      "|2|2|2|B|1|1|B|B|2|1|\n",
      "|0|0|2|2|3|2|3|2|1|0|\n",
      "|1|1|1|B|2|B|2|2|2|1|\n",
      "|B|2|2|1|2|1|2|B|B|1|\n",
      "|2|B|1|0|0|0|2|3|3|1|\n",
      "|2|2|2|0|0|0|1|B|1|0|\n",
      "|1|B|1|1|2|2|2|1|1|0|\n",
      "|1|1|1|1|B|B|1|0|0|0|\n",
      "---\n",
      "|0|0|0|0|0|0|0|0|0|0|\n",
      "|0|0|0|0|0|0|0|0|0|0|\n",
      "|0|0|0|0|0|0|0|0|0|0|\n",
      "|0|0|0|0|0|0|0|0|0|0|\n",
      "|0|0|0|0|0|0|0|0|0|0|\n",
      "|0|0|0|0|0|0|0|0|0|0|\n",
      "|0|0|0|0|0|0|0|0|0|0|\n",
      "|0|0|0|0|0|0|0|0|0|0|\n",
      "|0|0|0|0|0|0|0|0|0|0|\n",
      "|0|0|0|0|0|0|0|0|0|0|\n"
     ]
    }
   ],
   "source": [
    "printgrille(mgB)\n",
    "print(\"---\")\n",
    "printgrille(gc)\n"
   ]
  },
  {
   "cell_type": "code",
   "execution_count": null,
   "metadata": {},
   "outputs": [],
   "source": []
  },
  {
   "cell_type": "code",
   "execution_count": null,
   "metadata": {},
   "outputs": [],
   "source": []
  }
 ],
 "metadata": {
  "interpreter": {
   "hash": "dca0ade3e726a953b501b15e8e990130d2b7799f14cfd9f4271676035ebe5511"
  },
  "kernelspec": {
   "display_name": "Python 3.8.3 64-bit ('base': conda)",
   "name": "python3"
  },
  "language_info": {
   "codemirror_mode": {
    "name": "ipython",
    "version": 3
   },
   "file_extension": ".py",
   "mimetype": "text/x-python",
   "name": "python",
   "nbconvert_exporter": "python",
   "pygments_lexer": "ipython3",
   "version": "3.8.8"
  },
  "latex_envs": {
   "LaTeX_envs_menu_present": true,
   "autoclose": false,
   "autocomplete": true,
   "bibliofile": "biblio.bib",
   "cite_by": "apalike",
   "current_citInitial": 1,
   "eqLabelWithNumbers": true,
   "eqNumInitial": 1,
   "hotkeys": {
    "equation": "Ctrl-E",
    "itemize": "Ctrl-I"
   },
   "labels_anchors": false,
   "latex_user_defs": false,
   "report_style_numbering": false,
   "user_envs_cfg": false
  },
  "toc": {
   "base_numbering": 1,
   "nav_menu": {},
   "number_sections": true,
   "sideBar": true,
   "skip_h1_title": false,
   "title_cell": "Table of Contents",
   "title_sidebar": "Contents",
   "toc_cell": false,
   "toc_position": {},
   "toc_section_display": true,
   "toc_window_display": false
  }
 },
 "nbformat": 4,
 "nbformat_minor": 4
}
