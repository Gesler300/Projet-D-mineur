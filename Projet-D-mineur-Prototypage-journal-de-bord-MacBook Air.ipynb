{
 "cells": [
  {
   "cell_type": "markdown",
   "metadata": {},
   "source": [
    "\n",
    "Notes :  \n",
    "  \n",
    "  \n",
    "Le code sera quasi toujours des fonctions  \n",
    "Determiner ce dont nous allons avoir besoin :  \n",
    "Une grille avec des cases qui contiennent soit une valeure soit une bombe (valeur = nombre de bombes qu'il y a a coté de cette case)  \n",
    "Il faut que ça soit modulaire :  \n",
    "Que des fonctions qui ont un role précis et qui sont appellées les unes après les autres dans des fonctions plus générales   \n",
    "  \n",
    "1. générer les grilles :  \n",
    "C'est une liste de listes (listes imbriquées)  \n",
    "Il y a d'abord magrille, c'est la fonction qui crée la grille d'origine qui est remplie de 0  \n",
    "Ensuite il y a genpos, c'est la fonction  qui crée les positions les cases de la grille  \n",
    "Ensuite il y a le putBomb, c'est la fonction qui crée les positions des bombes  \n",
    "\n"
   ]
  },
  {
   "cell_type": "markdown",
   "metadata": {},
   "source": [
    "Liste des import :"
   ]
  },
  {
   "cell_type": "code",
   "execution_count": 1,
   "metadata": {},
   "outputs": [],
   "source": [
    "import random"
   ]
  },
  {
   "cell_type": "markdown",
   "metadata": {},
   "source": [
    "Les fonctions jusqu'à putBomb comprise sont simplement celles faites en commun en classe."
   ]
  },
  {
   "cell_type": "markdown",
   "metadata": {},
   "source": [
    "Creation de la grille :"
   ]
  },
  {
   "cell_type": "code",
   "execution_count": 2,
   "metadata": {},
   "outputs": [],
   "source": [
    "def magrille(l,c):\n",
    "    \"\"\"Cette fonction crée une liste imbriquée de l lignes et c colonnes qui nous servira à crée la grille de base.\n",
    "    \"\"\"\n",
    "    grille = []\n",
    "    for i in range (l):\n",
    "        grille.append([0]*c)\n",
    "    return grille\n"
   ]
  },
  {
   "cell_type": "code",
   "execution_count": 3,
   "metadata": {},
   "outputs": [],
   "source": [
    "mg = magrille(9, 9) #test"
   ]
  },
  {
   "cell_type": "markdown",
   "metadata": {},
   "source": [
    "Génération des positions dans la grille :"
   ]
  },
  {
   "cell_type": "code",
   "execution_count": 4,
   "metadata": {},
   "outputs": [
    {
     "data": {
      "text/plain": [
       "[(0, 0), (0, 1), (0, 2), (1, 0), (1, 1), (1, 2)]"
      ]
     },
     "execution_count": 4,
     "metadata": {},
     "output_type": "execute_result"
    }
   ],
   "source": [
    "def genPos(l,c):\n",
    "    \"\"\"Cette fonction crée un liste contenant les positions des cases au sein d'une grille de l lignes et c colonnes.\n",
    "    \"\"\"\n",
    "    pos=[]\n",
    "    for i in range(l):\n",
    "        for j in range (c):\n",
    "            pos.append((i,j))\n",
    "    return pos\n",
    "\n",
    "genPos(2,3)"
   ]
  },
  {
   "cell_type": "code",
   "execution_count": 5,
   "metadata": {},
   "outputs": [
    {
     "data": {
      "text/plain": [
       "[(0, 0), (0, 1), (1, 2)]"
      ]
     },
     "execution_count": 5,
     "metadata": {},
     "output_type": "execute_result"
    }
   ],
   "source": [
    "pos = genPos(2,3) \n",
    "random.sample(pos,3) # test"
   ]
  },
  {
   "cell_type": "markdown",
   "metadata": {},
   "source": [
    "Rendu de la grille initiale (magrille):"
   ]
  },
  {
   "cell_type": "code",
   "execution_count": 6,
   "metadata": {},
   "outputs": [],
   "source": [
    "def printgrille(magrille):\n",
    "    \"\"\"Cette fonction crée un premier rendu visuel sous forme de grille de la liste imbriquée mise en paramètre.\n",
    "    \"\"\"\n",
    "    nbligne = len(magrille)\n",
    "    nbcol = len(magrille[0])\n",
    "    for i in range(nbligne):\n",
    "        lignetexte = \"|\"\n",
    "        for j in range(nbcol):\n",
    "            lignetexte += \"{0}|\".format(magrille[i][j])\n",
    "        print(lignetexte)      "
   ]
  },
  {
   "cell_type": "code",
   "execution_count": 7,
   "metadata": {},
   "outputs": [
    {
     "name": "stdout",
     "output_type": "stream",
     "text": [
      "|0|0|0|0|0|0|0|0|0|\n",
      "|0|0|0|0|0|0|0|0|0|\n",
      "|0|0|0|0|0|0|0|0|0|\n",
      "|0|0|0|0|0|0|0|0|0|\n",
      "|0|0|0|0|0|0|0|0|0|\n",
      "|0|0|0|0|0|0|0|0|0|\n",
      "|0|0|0|0|0|0|0|0|0|\n",
      "|0|0|0|0|0|0|0|0|0|\n",
      "|0|0|0|0|0|0|0|0|0|\n"
     ]
    }
   ],
   "source": [
    "printgrille(mg) # test"
   ]
  },
  {
   "cell_type": "markdown",
   "metadata": {},
   "source": [
    "Placement des bombes :"
   ]
  },
  {
   "cell_type": "code",
   "execution_count": 8,
   "metadata": {},
   "outputs": [],
   "source": [
    "def putBomb(grille, nbBomb):\n",
    "    \"\"\"Cette fonction sélectionne aléatoirement un nombre de cases donné au sein d'une grile donnée et change le contenu de ces positions en \"B\".\n",
    "    \"\"\"\n",
    "    nbligne = len(grille)\n",
    "    nbcol = len(grille[0])\n",
    "    pos = genPos(nbligne, nbcol)\n",
    "    posBomb = random.sample(pos, nbBomb) \n",
    "    for Bomb in (posBomb):\n",
    "        grille[Bomb[0]][Bomb[1]] = \"B\"\n",
    "    return grille"
   ]
  },
  {
   "cell_type": "code",
   "execution_count": 9,
   "metadata": {},
   "outputs": [
    {
     "name": "stdout",
     "output_type": "stream",
     "text": [
      "|0|B|0|B|0|0|0|0|0|0|\n",
      "|0|0|0|0|0|B|0|B|0|0|\n",
      "|0|0|B|0|0|B|0|0|0|0|\n",
      "|0|0|0|0|0|0|0|0|0|0|\n",
      "|0|0|0|0|B|0|0|B|0|B|\n",
      "|0|0|0|0|0|0|0|0|0|0|\n",
      "|0|0|0|0|B|0|0|0|0|0|\n",
      "|0|0|0|0|0|0|0|0|0|0|\n"
     ]
    }
   ],
   "source": [
    "mg = magrille(8,10)\n",
    "mgB = putBomb(mg,10)\n",
    "printgrille(mgB) # test"
   ]
  },
  {
   "cell_type": "markdown",
   "metadata": {},
   "source": [
    "Calcul du nombre de bombe autour d'une case :"
   ]
  },
  {
   "cell_type": "markdown",
   "metadata": {},
   "source": [
    "Il m'a paru plus simple pour les prochaines fontions de d'abord écrire un code qui fonctionne pour le cas le plus simple et d'ensuite m'en servire comme squelette pour les cas particuliers."
   ]
  },
  {
   "cell_type": "code",
   "execution_count": 10,
   "metadata": {},
   "outputs": [],
   "source": [
    "def checkbomb(mgB,l,c):\n",
    "    \"\"\"Cette fonction donne le nombre de bombes dans les cases adjacentes à la case sélectionnée (l = ligne de la case, c = colonne de la case) (utile uniquement dans mgB) (fontionne uniquement pour les cases au centre de la grille).\n",
    "    \"\"\"\n",
    "    lcheck = l # lcheck sert à parcourir les cases autour de l,c sans modifier l\n",
    "    ccheck = c # ccheck sert à parcourir les cases autour de l,c sans modifier c\n",
    "    for i in range (3):\n",
    "        for j in range (3):\n",
    "            if mgB[lcheck-1][ccheck-1] == \"B\":\n",
    "                mgB[l][c] += 1 # on ajoute 1 dans la case l,c pour chaque bombe qu'il y a autour\n",
    "                ccheck = ccheck+1 # on passe à la colonne suivante\n",
    "            elif lcheck-1 == l and ccheck-1 == c: # si la case vérifiée est la case sélectionnée on l'ignore\n",
    "                ccheck = ccheck+1\n",
    "            else:\n",
    "                ccheck = ccheck+1\n",
    "        lcheck = lcheck+1\n",
    "        ccheck = ccheck-3 # on passe à la ligne suivante et on retourne à la première colonne"
   ]
  },
  {
   "cell_type": "code",
   "execution_count": 11,
   "metadata": {
    "scrolled": true
   },
   "outputs": [
    {
     "name": "stdout",
     "output_type": "stream",
     "text": [
      "|0|B|0|B|0|0|0|0|0|0|\n",
      "|0|0|0|0|0|B|0|B|0|0|\n",
      "|0|0|B|1|0|B|0|0|0|0|\n",
      "|0|0|0|0|0|0|0|0|0|0|\n",
      "|0|0|0|0|B|0|0|B|0|B|\n",
      "|0|0|0|0|0|0|0|0|0|0|\n",
      "|0|0|0|0|B|0|0|0|0|0|\n",
      "|0|0|0|0|0|0|0|0|0|0|\n"
     ]
    }
   ],
   "source": [
    "checkbomb(mgB,2,3)\n",
    "printgrille(mgB) # test"
   ]
  },
  {
   "cell_type": "markdown",
   "metadata": {},
   "source": [
    "Calcul du nombre de bombes autour d'une case version complete :"
   ]
  },
  {
   "cell_type": "markdown",
   "metadata": {},
   "source": [
    "J'ai fais un par un les cas particuliers en changeant le nombre d'occurences des boucles et en adaptant les lcheck et ccheck."
   ]
  },
  {
   "cell_type": "code",
   "execution_count": 12,
   "metadata": {},
   "outputs": [],
   "source": [
    "def checkbomb2(mgB,l,c):\n",
    "    \"\"\"Cette fonction donne le nombre de bombes dans les cases adjacentes à la case sélectionnée (l = ligne de la case, c = colonne de la case) (utile uniquement dans mgB) (fonctionne dans tout les cas).\n",
    "    \"\"\"\n",
    "    lcheck = l # lcheck sert à parcourir les cases autour de l,c sans modifier l\n",
    "    ccheck = c # ccheck sert à parcourir les cases autour de l,c sans modifier c\n",
    "    if l == 0 and c == 0: # on contrôle si la case est dans l'angle supérieur gauche et on adapte la boucle afin de ne pas contrôler des cases qui n'existent pas\n",
    "        for i in range (2):\n",
    "            for j in range (2):\n",
    "                if mgB[lcheck][ccheck] == \"B\":\n",
    "                    mgB[l][c] += 1 # on ajoute 1 dans la case l,c pour chaque bombe qu'il y a autour\n",
    "                    ccheck = ccheck+1 # on passe à la colonne suivante\n",
    "                elif lcheck == l and ccheck == c: # si la case vérifiée est la case sélectionnée on l'ignore\n",
    "                    ccheck = ccheck+1\n",
    "                else:\n",
    "                    ccheck = ccheck+1\n",
    "            lcheck = lcheck+1\n",
    "            ccheck = ccheck-2 # on passe à la ligne suivante et on retourne à la première colonne\n",
    "    elif l == 0 and c == len(mgB[0])-1: # on contrôle si la case est dans l'angle supérieur droit et on adapte la boucle afin de ne pas contrôler des cases qui n'existent pas\n",
    "        for i in range (2):\n",
    "            for j in range (2):\n",
    "                if mgB[lcheck][ccheck-1] == \"B\":\n",
    "                    mgB[l][c] += 1\n",
    "                    ccheck = ccheck+1\n",
    "                elif lcheck == l and ccheck-1 == c:\n",
    "                    ccheck = ccheck+1\n",
    "                else:\n",
    "                    ccheck = ccheck+1\n",
    "            lcheck = lcheck+1\n",
    "            ccheck = ccheck-2\n",
    "    elif l == len(mgB)-1 and c == 0: # on contrôle si la case est dans l'angle inférieur gauche et on adapte la boucle afin de ne pas contrôler des cases qui n'existent pas\n",
    "        for i in range (2):\n",
    "            for j in range (2):\n",
    "                if mgB[lcheck-1][ccheck] == \"B\":\n",
    "                    mgB[l][c] += 1\n",
    "                    ccheck = ccheck+1\n",
    "                elif lcheck-1 == l and ccheck == c:\n",
    "                    ccheck = ccheck+1\n",
    "                else:\n",
    "                    ccheck = ccheck+1\n",
    "            lcheck = lcheck+1\n",
    "            ccheck = ccheck-2\n",
    "    elif l == len(mgB)-1 and c == len(mgB[0])-1: # on contrôle si la case est dans l'angle inférieur droit et on adapte la boucle afin de ne pas contrôler des cases qui n'existent pas\n",
    "        for i in range (2):\n",
    "            for j in range (2):\n",
    "                if mgB[lcheck-1][ccheck-1] == \"B\":\n",
    "                    mgB[l][c] += 1\n",
    "                    ccheck = ccheck+1\n",
    "                elif lcheck-1 == l and ccheck-1 == c:\n",
    "                    ccheck = ccheck+1\n",
    "                else:\n",
    "                    ccheck = ccheck+1\n",
    "            lcheck = lcheck+1\n",
    "            ccheck = ccheck-2\n",
    "    elif l == 0: # on contrôle si la case est sur la ligne cuppérieur et on adapte la boucle afin de ne pas contrôler des cases qui n'existent pas\n",
    "        for i in range (2):\n",
    "            for j in range (3):\n",
    "                if mgB[lcheck][ccheck-1] == \"B\":\n",
    "                    mgB[l][c] += 1\n",
    "                    ccheck = ccheck+1\n",
    "                elif lcheck == l and ccheck-1 == c:\n",
    "                    ccheck = ccheck+1\n",
    "                else:\n",
    "                    ccheck = ccheck+1\n",
    "            lcheck = lcheck+1\n",
    "            ccheck = ccheck-3\n",
    "    elif l == len(mgB)-1: # on contrôle si la case est sur la ligne inférieur et on adapte la boucle afin de ne pas contrôler des cases qui n'existent pas\n",
    "        for i in range (2):\n",
    "            for j in range (3):\n",
    "                if mgB[lcheck-1][ccheck-1] == \"B\":\n",
    "                    mgB[l][c] += 1\n",
    "                    ccheck = ccheck+1\n",
    "                elif lcheck-1 == l and ccheck-1 == c:\n",
    "                    ccheck = ccheck+1\n",
    "                else:\n",
    "                    ccheck = ccheck+1\n",
    "            lcheck = lcheck+1\n",
    "            ccheck = ccheck-3\n",
    "    elif c == 0: # on contrôle si la case est sur la colonne de gauche et on adapte la boucle afin de ne pas contrôler des cases qui n'existent pas\n",
    "        for i in range (3):\n",
    "            for j in range (2):\n",
    "                if mgB[lcheck-1][ccheck] == \"B\":\n",
    "                    mgB[l][c] += 1\n",
    "                    ccheck = ccheck+1\n",
    "                elif lcheck-1 == l and ccheck == c:\n",
    "                    ccheck = ccheck+1\n",
    "                else:\n",
    "                    ccheck = ccheck+1\n",
    "            lcheck = lcheck+1\n",
    "            ccheck = ccheck-2\n",
    "    elif c == len(mgB[0])-1: # on contrôle si la case est sur la colonne de droite et on adapte la boucle afin de ne pas contrôler des cases qui n'existent pas\n",
    "        for i in range (3):\n",
    "            for j in range (2):\n",
    "                if mgB[lcheck-1][ccheck-1] == \"B\":\n",
    "                    mgB[l][c] += 1\n",
    "                    ccheck = ccheck+1\n",
    "                elif lcheck-1 == l and ccheck-1 == c:\n",
    "                    ccheck = ccheck+1\n",
    "                else:\n",
    "                    ccheck = ccheck+1\n",
    "            lcheck = lcheck+1\n",
    "            ccheck = ccheck-2\n",
    "    else: # si ce n'est pas un cas spécial on contrôle toutes les cases\n",
    "        for i in range (3):\n",
    "            for j in range (3):\n",
    "                if mgB[lcheck-1][ccheck-1] == \"B\":\n",
    "                    mgB[l][c] += 1\n",
    "                    ccheck = ccheck+1\n",
    "                elif lcheck-1 == l and ccheck-1 == c:\n",
    "                    ccheck = ccheck+1\n",
    "                else:\n",
    "                    ccheck = ccheck+1\n",
    "            lcheck = lcheck+1\n",
    "            ccheck = ccheck-3"
   ]
  },
  {
   "cell_type": "code",
   "execution_count": 13,
   "metadata": {},
   "outputs": [
    {
     "name": "stdout",
     "output_type": "stream",
     "text": [
      "|1|B|0|B|0|0|0|0|0|0|\n",
      "|0|0|0|0|0|B|0|B|0|0|\n",
      "|0|0|B|1|0|B|0|0|0|0|\n",
      "|0|0|0|0|0|0|0|0|0|0|\n",
      "|0|0|0|0|B|0|0|B|0|B|\n",
      "|0|0|0|0|0|0|0|0|0|0|\n",
      "|0|0|0|0|B|0|0|0|0|0|\n",
      "|0|0|0|0|0|0|0|0|0|0|\n"
     ]
    }
   ],
   "source": [
    "checkbomb2(mgB,0,0)\n",
    "printgrille(mgB) # test"
   ]
  },
  {
   "cell_type": "markdown",
   "metadata": {},
   "source": [
    "Sur l'ensemble de la grille :"
   ]
  },
  {
   "cell_type": "code",
   "execution_count": 14,
   "metadata": {},
   "outputs": [],
   "source": [
    "def checkbombgrille(mgB):\n",
    "    \"\"\"Cette fonction donne le nombre de bombes dans les cases adjacentes à la case en cours de vérification (utile uniquement dans mgB) (fonctionne pour toute la grilee et non pour une case sélectionnée).\n",
    "    \"\"\"\n",
    "    for i in range(len(mgB)):\n",
    "        for j in range(len(mgB[0])):\n",
    "            if mgB[i][j] == \"B\": # si la case en cours de vérification contient une bombe on l'ignore\n",
    "                continue\n",
    "            else:\n",
    "                checkbomb2(mgB,i,j) #si la case est un 0 on contrôle les cases alentoure\n",
    "            "
   ]
  },
  {
   "cell_type": "code",
   "execution_count": 15,
   "metadata": {},
   "outputs": [
    {
     "name": "stdout",
     "output_type": "stream",
     "text": [
      "|2|B|2|B|2|1|2|1|1|0|\n",
      "|1|2|3|2|3|B|3|B|1|0|\n",
      "|0|1|B|2|2|B|3|1|1|0|\n",
      "|0|1|1|2|2|2|2|1|2|1|\n",
      "|0|0|0|1|B|1|1|B|2|B|\n",
      "|0|0|0|2|2|2|1|1|2|1|\n",
      "|0|0|0|1|B|1|0|0|0|0|\n",
      "|0|0|0|1|1|1|0|0|0|0|\n"
     ]
    }
   ],
   "source": [
    "checkbombgrille(mgB)\n",
    "printgrille(mgB) # test"
   ]
  },
  {
   "cell_type": "markdown",
   "metadata": {},
   "source": [
    "Grille du joueur :"
   ]
  },
  {
   "cell_type": "markdown",
   "metadata": {},
   "source": [
    "J'ai simplement repris la fonction de magrille et ai modifier le 0 par ? ."
   ]
  },
  {
   "cell_type": "code",
   "execution_count": 16,
   "metadata": {},
   "outputs": [],
   "source": [
    "def grille_joueur(l,c):\n",
    "    \"\"\"Cette fonction crée une liste imbriquée de l lignes et c colonnes qui nous servira à crée la grille du joueur.\n",
    "    \"\"\"\n",
    "    grille_joueur = []\n",
    "    for i in range (l):\n",
    "        grille_joueur.append([\"?\"]*c)\n",
    "    return grille_joueur\n"
   ]
  },
  {
   "cell_type": "code",
   "execution_count": 17,
   "metadata": {},
   "outputs": [
    {
     "name": "stdout",
     "output_type": "stream",
     "text": [
      "|?|?|?|?|?|?|?|?|?|?|\n",
      "|?|?|?|?|?|?|?|?|?|?|\n",
      "|?|?|?|?|?|?|?|?|?|?|\n",
      "|?|?|?|?|?|?|?|?|?|?|\n",
      "|?|?|?|?|?|?|?|?|?|?|\n",
      "|?|?|?|?|?|?|?|?|?|?|\n",
      "|?|?|?|?|?|?|?|?|?|?|\n",
      "|?|?|?|?|?|?|?|?|?|?|\n"
     ]
    }
   ],
   "source": [
    "pg = grille_joueur(8,10)\n",
    "printgrille(pg) #test"
   ]
  },
  {
   "cell_type": "markdown",
   "metadata": {},
   "source": [
    "Réveler une case :"
   ]
  },
  {
   "cell_type": "markdown",
   "metadata": {},
   "source": [
    "J'ai crée cette grille pour éviter de rentrer dans une boucle infine lorsque les 0 se répendent."
   ]
  },
  {
   "cell_type": "code",
   "execution_count": 18,
   "metadata": {},
   "outputs": [],
   "source": [
    "def grille_controle(l,c):\n",
    "    \"\"\"Cette fonction crée une liste imbriquée de l lignes et c colonnes qui nous servira à crée la grille qui serivira à éviter une boucle infine lorsque le joueur réveler les cases.\n",
    "    \"\"\"\n",
    "    grille_joueur = []\n",
    "    for i in range (l):\n",
    "        grille_joueur.append([0]*c)\n",
    "    return grille_joueur"
   ]
  },
  {
   "cell_type": "code",
   "execution_count": 19,
   "metadata": {
    "scrolled": true
   },
   "outputs": [],
   "source": [
    "gc = grille_controle(8,10) # test"
   ]
  },
  {
   "cell_type": "markdown",
   "metadata": {},
   "source": [
    "Un des seuls véritables problèmes rencontré durant la programation de ma partie a été de pouvoir modifier m au sein de la fonction et d'étendre ces modifications au reste du programme. La seule solution que j'ai trouvée est de crée la variable locale ma et de faire un return ma à la fin."
   ]
  },
  {
   "cell_type": "markdown",
   "metadata": {},
   "source": [
    "La seconde difficultée à été de faire disparaitre les F placés sur une case autre que les bombes lorsqu'elle est révelée et de rajouter un drapeau dans le compteur. Lorsque la boucle qui propage les 0 se lencait les compteur ne s'actualisait pas complétement. A l'origine on voulait faire ça pour épargner au joueur une action inutile car voyant qu'il y a un 0 à côté du drapeau il l'enleverait forcément. Mais n'arrivant pas à corriger ce beug on a simplement retiré cette fonctionalité et décidé d'ignorer le F lorsque les 0 se répendent."
   ]
  },
  {
   "cell_type": "code",
   "execution_count": 20,
   "metadata": {},
   "outputs": [],
   "source": [
    "def action_joueur(l,c):\n",
    "    \"\"\"Cette fonction permet au joueur de réveler les cases. Elle définit ce qui se passe si le joueur sélectionne une case piégée,  ce qui ce passe si la case est marquée et ce qui ce passe lorsque la case est révelée. C'est aussi elle qui permet aux zéros de se répendrent. (l = ligne de la case, c = colonne de la case)\n",
    "    \"\"\"\n",
    "    ma = m # m est le compteur de drapeaux restant à disposition du joueur et ma est la variable locale\n",
    "    if mgB[l][c] == 0 and pg[l][c] == \"F\": # ça empêche le joueur de réveler une case sur laquelle il y a un drapeau\n",
    "        print(\"cette case est marquée, faites autre chose\") \n",
    "    elif mgB[l][c] == \"B\":\n",
    "        if pg[l][c] == \"F\": # ça empêche le joueur de réveler une case sur laquelle il y a un drapeau afint d'éviter qu'il révèle une bombe par mégarde\n",
    "            print(\"cette case est marquée, faites autre chose\")\n",
    "        else:\n",
    "            for i in range(len(mgB)):\n",
    "                for j in range(len(mgB[0])): # si le joueur révèle une bombe toutes lesbombes seront révelées et un message s'affiche\n",
    "                    if mgB[i][j] == \"B\":\n",
    "                        if pg[i][j] == \"F\":\n",
    "                            pg[i][j] = \"B\" \n",
    "                        else:\n",
    "                            pg[i][j] = \"b\" # on différencie les bombes marquées des bombes non trouvées\n",
    "            pg[l][c] = \"a\" # on différencie également la bombe sur laquelle on a cliqué\n",
    "            print(\"vous avez perdu\")\n",
    "    elif mgB[l][c] == 0:\n",
    "        lcheck = l # lcheck sert à parcourir les cases autour de l,c sans modifier l\n",
    "        ccheck = c # ccheck sert à parcourir les cases autour de l,c sans modifier c\n",
    "        check =[] # cette liste garde en mémoire les coordonées des cases contenant un 0 autour de la case sélectionnée\n",
    "        if l == 0 and c == 0: # on contrôle si la case est dans l'angle supérieur gauche et on adapte la boucle afin de ne pas contrôler des cases qui n'existent pas\n",
    "            for i in range (2):\n",
    "                for j in range (2):\n",
    "                    if pg[lcheck][ccheck] == \"F\":\n",
    "                        ccheck = ccheck+1 # si la case est marquée on l'ignore et on passe à la suivante\n",
    "                    elif lcheck == l and ccheck == c: # si la case contrôlée est la case sélectionnée on l'affiche et on passe à la suivante\n",
    "                        pg[lcheck][ccheck] = mgB[lcheck][ccheck]\n",
    "                        ccheck = ccheck+1\n",
    "                        gc[l][c] = 1 # on donne à la case la valeur 1 dans la grille de contôle pour empécher qu'elle puisse être contrôlée une nouvelle fois\n",
    "                    else:\n",
    "                        if mgB[lcheck][ccheck] == 0:\n",
    "                            if gc[lcheck][ccheck] == 0: # si la case n'a pas encore été contrôlée elle l'est\n",
    "                                gc[lcheck][ccheck] = 1 # on passe la case de la grille de contrôle à 1 pour que la case ne puisse plus être contrôlée\n",
    "                                check.append(lcheck)\n",
    "                                check.append(ccheck) # les coordonnées sont ajoutées à la liste check pour être vérifiés plus tard\n",
    "                                pg[lcheck][ccheck] = mgB[lcheck][ccheck] # le contenu de la case est affiché\n",
    "                                ccheck = ccheck+1 # on passe à la case suivante\n",
    "                            else:\n",
    "                                ccheck = ccheck +1 # si elle a déjà été contrôlée on passe à la case suivante\n",
    "                        else: # si la case contient un autre chiffre que 0 elle est simplement affichée\n",
    "                            pg[lcheck][ccheck] = mgB[lcheck][ccheck]\n",
    "                            ccheck = ccheck+1 # on passe à la case suivanate\n",
    "                lcheck = lcheck+1\n",
    "                ccheck = ccheck-2 # on passe à la ligne suivante et on reviens à la apreière colonne\n",
    "            for i in range(int(len(check)/2)): # la boucle fait la moitié de la longeure de check car les éléments sont pris deux part deux\n",
    "                l = check[0] # on attribu la valeur l d'une des cases à contôler à l\n",
    "                c = check[1] # on attribu la valeur c d'une des cases à contôler à c\n",
    "                del check[1]\n",
    "                del check[0] # on supprime les deux valeures déjà récupérées dans check\n",
    "                action_joueur(l,c) #on rejoue la fonction pour les nouveaux l,c\n",
    "        elif l == 0 and c == len(mgB[0])-1: # on contrôle si la case est dans l'angle supérieur droit et on adapte la boucle afin de ne pas contrôler des cases qui n'existent pas\n",
    "            for i in range (2):\n",
    "                for j in range (2):\n",
    "                    if pg[lcheck][ccheck-1] == \"F\":\n",
    "                        ccheck = ccheck+1\n",
    "                    elif lcheck == l and ccheck-1 == c:\n",
    "                        pg[lcheck][ccheck-1] = mgB[lcheck][ccheck-1]\n",
    "                        ccheck = ccheck+1\n",
    "                        gc[l][c] = 1\n",
    "                    else:\n",
    "                        if mgB[lcheck][ccheck-1] == 0:\n",
    "                            if gc[lcheck][ccheck-1] == 0:\n",
    "                                gc[lcheck][ccheck-1] = 1\n",
    "                                check.append(lcheck)\n",
    "                                check.append(ccheck-1)\n",
    "                                pg[lcheck][ccheck-1] = mgB[lcheck][ccheck-1]\n",
    "                                ccheck = ccheck+1\n",
    "                            else:\n",
    "                                ccheck = ccheck +1\n",
    "                        else:\n",
    "                            pg[lcheck][ccheck-1] = mgB[lcheck][ccheck-1]\n",
    "                            ccheck = ccheck+1\n",
    "                lcheck = lcheck+1\n",
    "                ccheck = ccheck-2\n",
    "            for i in range(int(len(check)/2)):\n",
    "                l = check[0]\n",
    "                c = check[1]\n",
    "                del check[1]\n",
    "                del check[0]\n",
    "                action_joueur(l,c)\n",
    "        elif l == len(mgB)-1 and c == 0: # on contrôle si la case est dans l'angle inférieure gauche et on adapte la boucle afin de ne pas contrôler des cases qui n'existent pas\n",
    "            for i in range (2):\n",
    "                for j in range (2):\n",
    "                    if pg[lcheck-1][ccheck] == \"F\":\n",
    "                        ccheck = ccheck+1\n",
    "                    elif lcheck-1 == l and ccheck == c:\n",
    "                        pg[lcheck-1][ccheck] = mgB[lcheck-1][ccheck]\n",
    "                        ccheck = ccheck+1\n",
    "                        gc[l][c] = 1\n",
    "                    else:\n",
    "                        if mgB[lcheck-1][ccheck] == 0:\n",
    "                            if gc[lcheck-1][ccheck] == 0:\n",
    "                                gc[lcheck-1][ccheck] = 1\n",
    "                                check.append(lcheck-1)\n",
    "                                check.append(ccheck)\n",
    "                                pg[lcheck-1][ccheck] = mgB[lcheck-1][ccheck]\n",
    "                                ccheck = ccheck+1\n",
    "                            else:\n",
    "                                ccheck = ccheck +1\n",
    "                        else:\n",
    "                            pg[lcheck-1][ccheck] = mgB[lcheck-1][ccheck]\n",
    "                            ccheck = ccheck+1\n",
    "                lcheck = lcheck+1\n",
    "                ccheck = ccheck-2\n",
    "            for i in range(int(len(check)/2)):\n",
    "                l = check[0]\n",
    "                c = check[1]\n",
    "                del check[1]\n",
    "                del check[0]\n",
    "                action_joueur(l,c)\n",
    "        elif l == len(mgB)-1 and c == len(mgB[0])-1: # on contrôle si la case est dans l'angle inférieur droit et on adapte la boucle afin de ne pas contrôler des cases qui n'existent pas\n",
    "            for i in range (2):\n",
    "                for j in range (2):\n",
    "                    if pg[lcheck-1][ccheck-1] == \"F\":\n",
    "                        ccheck = ccheck+1\n",
    "                    elif lcheck-1 == l and ccheck-1 == c:\n",
    "                        pg[lcheck-1][ccheck-1] = mgB[lcheck-1][ccheck-1]\n",
    "                        ccheck = ccheck+1\n",
    "                        gc[l][c] = 1\n",
    "                    else:\n",
    "                        if mgB[lcheck-1][ccheck-1] == 0:\n",
    "                            if gc[lcheck-1][ccheck-1] == 0:\n",
    "                                gc[lcheck-1][ccheck-1] = 1\n",
    "                                check.append(lcheck-1)\n",
    "                                check.append(ccheck-1)\n",
    "                                pg[lcheck-1][ccheck-1] = mgB[lcheck-1][ccheck-1]\n",
    "                                ccheck = ccheck+1\n",
    "                            else:\n",
    "                                ccheck = ccheck +1\n",
    "                        else:\n",
    "                            pg[lcheck-1][ccheck-1] = mgB[lcheck-1][ccheck-1]\n",
    "                            ccheck = ccheck+1\n",
    "                lcheck = lcheck+1\n",
    "                ccheck = ccheck-2\n",
    "            for i in range(int(len(check)/2)):\n",
    "                l = check[0]\n",
    "                c = check[1]\n",
    "                del check[1]\n",
    "                del check[0]\n",
    "                action_joueur(l,c)\n",
    "        elif l == 0: # on contrôle si la case est sur le ligne supérieur et on adapte la boucle afin de ne pas contrôler des cases qui n'existent pas\n",
    "            for i in range (2):\n",
    "                for j in range (3):\n",
    "                    if pg[lcheck][ccheck-1] == \"F\":\n",
    "                        ccheck = ccheck+1\n",
    "                    elif lcheck == l and ccheck-1 == c:\n",
    "                        pg[lcheck][ccheck-1] = mgB[lcheck][ccheck-1]\n",
    "                        ccheck = ccheck+1\n",
    "                        gc[l][c] = 1\n",
    "                    else:\n",
    "                        if mgB[lcheck][ccheck-1] == 0:\n",
    "                            if gc[lcheck][ccheck-1] == 0:\n",
    "                                gc[lcheck][ccheck-1] = 1\n",
    "                                check.append(lcheck)\n",
    "                                check.append(ccheck-1)\n",
    "                                pg[lcheck][ccheck-1] = mgB[lcheck][ccheck-1]\n",
    "                                ccheck = ccheck+1\n",
    "                            else:\n",
    "                                ccheck = ccheck +1\n",
    "                        else:\n",
    "                            pg[lcheck][ccheck-1] = mgB[lcheck][ccheck-1]\n",
    "                            ccheck = ccheck+1\n",
    "                lcheck = lcheck+1\n",
    "                ccheck = ccheck-3\n",
    "            for i in range(int(len(check)/2)):\n",
    "                l = check[0]\n",
    "                c = check[1]\n",
    "                del check[1]\n",
    "                del check[0]\n",
    "                action_joueur(l,c)\n",
    "        elif l == len(mgB)-1: # on contrôle si la case est sur la ligne inférieur et on adapte la boucle afin de ne pas contrôler des cases qui n'existent pas\n",
    "            for i in range (2):\n",
    "                for j in range (3):\n",
    "                    if pg[lcheck-1][ccheck-1] == \"F\":\n",
    "                        ccheck = ccheck+1\n",
    "                    elif mgB[lcheck-1][ccheck-1] == 0:\n",
    "                        if gc[lcheck-1][ccheck-1] == 0:\n",
    "                            gc[lcheck-1][ccheck-1] = 1\n",
    "                            check.append(lcheck-1)\n",
    "                            check.append(ccheck-1)\n",
    "                            pg[lcheck-1][ccheck-1] = mgB[lcheck-1][ccheck-1]\n",
    "                            ccheck = ccheck+1\n",
    "                        else:\n",
    "                            ccheck = ccheck +1\n",
    "                    else:\n",
    "                        pg[lcheck-1][ccheck-1] = mgB[lcheck-1][ccheck-1]\n",
    "                        ccheck = ccheck+1\n",
    "                lcheck = lcheck+1\n",
    "                ccheck = ccheck-3\n",
    "            for i in range(int(len(check)/2)):\n",
    "                l = check[0]\n",
    "                c = check[1]\n",
    "                del check[1]\n",
    "                del check[0]\n",
    "                action_joueur(l,c)\n",
    "        elif c == 0: # on contrôle si la case est sur la colonne de gauche et on adapte la boucle afin de ne pas contrôler des cases qui n'existent pas\n",
    "            for i in range (3):\n",
    "                for j in range (2):\n",
    "                    if pg[lcheck-1][ccheck] == \"F\":\n",
    "                        ccheck = ccheck+1\n",
    "                    elif lcheck-1 == l and ccheck == c:\n",
    "                        pg[lcheck-1][ccheck] = mgB[lcheck-1][ccheck]\n",
    "                        ccheck = ccheck+1\n",
    "                        gc[l][c] = 1\n",
    "                    else:\n",
    "                        if mgB[lcheck-1][ccheck] == 0:\n",
    "                            if gc[lcheck-1][ccheck] == 0:\n",
    "                                gc[lcheck-1][ccheck] = 1\n",
    "                                check.append(lcheck-1)\n",
    "                                check.append(ccheck)\n",
    "                                pg[lcheck-1][ccheck] = mgB[lcheck-1][ccheck]\n",
    "                                ccheck = ccheck+1\n",
    "                            else:\n",
    "                                ccheck = ccheck +1\n",
    "                        else:\n",
    "                            pg[lcheck-1][ccheck] = mgB[lcheck-1][ccheck]\n",
    "                            ccheck = ccheck+1\n",
    "                lcheck = lcheck+1\n",
    "                ccheck = ccheck-2\n",
    "            for i in range(int(len(check)/2)):\n",
    "                l = check[0]\n",
    "                c = check[1]\n",
    "                del check[1]\n",
    "                del check[0]\n",
    "                action_joueur(l,c)\n",
    "        elif c == len(mgB[0])-1: # on contrôle si la case est sur la colonne de droite et on adapte la boucle afin de ne pas contrôler des cases qui n'existent pas\n",
    "            for i in range (3):\n",
    "                for j in range (2):\n",
    "                    if pg[lcheck-1][ccheck-1] == \"F\":\n",
    "                        ccheck = ccheck+1\n",
    "                    elif lcheck-1 == l and ccheck-1 == c:\n",
    "                        pg[lcheck-1][ccheck-1] = mgB[lcheck-1][ccheck-1]\n",
    "                        ccheck = ccheck+1\n",
    "                        gc[l][c] = 1\n",
    "                    else:\n",
    "                        if mgB[lcheck-1][ccheck-1] == 0:\n",
    "                            if gc[lcheck-1][ccheck-1] == 0:\n",
    "                                gc[lcheck-1][ccheck-1] = 1\n",
    "                                check.append(lcheck-1)\n",
    "                                check.append(ccheck-1)\n",
    "                                pg[lcheck-1][ccheck-1] = mgB[lcheck-1][ccheck-1]\n",
    "                                ccheck = ccheck+1\n",
    "                            else:\n",
    "                                ccheck = ccheck +1\n",
    "                        else:\n",
    "                            pg[lcheck-1][ccheck-1] = mgB[lcheck-1][ccheck-1]\n",
    "                            ccheck = ccheck+1\n",
    "                lcheck = lcheck+1\n",
    "                ccheck = ccheck-2\n",
    "            for i in range(int(len(check)/2)):\n",
    "                l = check[0]\n",
    "                c = check[1]\n",
    "                del check[1]\n",
    "                del check[0]\n",
    "                action_joueur(l,c)\n",
    "        else: # si ce n'est pas un cas spécial on contrôle toutes les cases\n",
    "            for i in range (3):\n",
    "                for j in range (3):\n",
    "                    if pg[lcheck-1][ccheck-1] == \"F\":\n",
    "                        ccheck = ccheck+1\n",
    "                    elif lcheck-1 == l and ccheck-1 == c:\n",
    "                        pg[lcheck-1][ccheck-1] = mgB[lcheck-1][ccheck-1]\n",
    "                        ccheck = ccheck+1\n",
    "                        gc[l][c] = 1\n",
    "                    else:\n",
    "                        if mgB[lcheck-1][ccheck-1] == 0:\n",
    "                            if gc[lcheck-1][ccheck-1] == 0:\n",
    "                                gc[lcheck-1][ccheck-1] = 1\n",
    "                                check.append(lcheck-1)\n",
    "                                check.append(ccheck-1)\n",
    "                                pg[lcheck-1][ccheck-1] = mgB[lcheck-1][ccheck-1]\n",
    "                                ccheck = ccheck+1\n",
    "                            else:\n",
    "                                ccheck = ccheck +1\n",
    "                        else:\n",
    "                            pg[lcheck-1][ccheck-1] = mgB[lcheck-1][ccheck-1]\n",
    "                            ccheck = ccheck+1\n",
    "                lcheck = lcheck+1\n",
    "                ccheck = ccheck-3\n",
    "            for i in range(int(len(check)/2)):\n",
    "                l = check[0]\n",
    "                c = check[1]\n",
    "                del check[1]\n",
    "                del check[0]\n",
    "                action_joueur(l,c)\n",
    "    else: \n",
    "        if pg[l][c] == \"F\": # ça empêche le joueur de révelé une case déjà marquée\n",
    "            print(\"cette case est marquée, faites autre chose\")\n",
    "        else:\n",
    "            pg[l][c] = mgB[l][c] # ça affiche ce que contient la case \n",
    "    return ma # ça sert à sortir le compteur de drapeau restant de la fonction"
   ]
  },
  {
   "cell_type": "code",
   "execution_count": 21,
   "metadata": {},
   "outputs": [
    {
     "name": "stdout",
     "output_type": "stream",
     "text": [
      "|?|?|?|?|?|?|?|?|?|?|\n",
      "|?|?|?|?|?|?|?|?|?|?|\n",
      "|?|?|?|?|?|?|?|?|?|?|\n",
      "|?|?|?|?|?|?|?|?|?|?|\n",
      "|?|?|?|?|?|?|?|?|?|?|\n",
      "|?|?|?|?|?|?|?|?|?|?|\n",
      "|?|?|?|?|?|?|?|?|?|?|\n",
      "|?|?|?|?|?|?|?|?|?|?|\n"
     ]
    }
   ],
   "source": [
    "#action_joueur(6,0)\n",
    "printgrille(pg) # test"
   ]
  },
  {
   "cell_type": "code",
   "execution_count": 22,
   "metadata": {},
   "outputs": [
    {
     "name": "stdout",
     "output_type": "stream",
     "text": [
      "|0|0|0|0|0|0|0|0|0|0|\n",
      "|0|0|0|0|0|0|0|0|0|0|\n",
      "|0|0|0|0|0|0|0|0|0|0|\n",
      "|0|0|0|0|0|0|0|0|0|0|\n",
      "|0|0|0|0|0|0|0|0|0|0|\n",
      "|0|0|0|0|0|0|0|0|0|0|\n",
      "|0|0|0|0|0|0|0|0|0|0|\n",
      "|0|0|0|0|0|0|0|0|0|0|\n",
      "-----\n",
      "|2|B|2|B|2|1|2|1|1|0|\n",
      "|1|2|3|2|3|B|3|B|1|0|\n",
      "|0|1|B|2|2|B|3|1|1|0|\n",
      "|0|1|1|2|2|2|2|1|2|1|\n",
      "|0|0|0|1|B|1|1|B|2|B|\n",
      "|0|0|0|2|2|2|1|1|2|1|\n",
      "|0|0|0|1|B|1|0|0|0|0|\n",
      "|0|0|0|1|1|1|0|0|0|0|\n"
     ]
    }
   ],
   "source": [
    "printgrille(gc)\n",
    "print(\"-----\")\n",
    "printgrille(mgB) # test"
   ]
  },
  {
   "cell_type": "markdown",
   "metadata": {},
   "source": [
    "Marquer une case :"
   ]
  },
  {
   "cell_type": "markdown",
   "metadata": {},
   "source": [
    "J'ai rencontré le même problème dans cette fonction que dans la précédente avec le m et l' ai réglé de la même manière."
   ]
  },
  {
   "cell_type": "code",
   "execution_count": 23,
   "metadata": {},
   "outputs": [],
   "source": [
    "m = 10 # il s'agit du compteur de drapeau reatant à placer (marqueurs)"
   ]
  },
  {
   "cell_type": "code",
   "execution_count": 24,
   "metadata": {},
   "outputs": [],
   "source": [
    "def action_joueur2(m,l,c):\n",
    "    \"\"\"Cette fonction permet au joueur de marquer et démarquer les cases. Elle définit ce qui se passe lorsque le joueur pose un drapeau, qu'il en retire un et que plus aucun drapeau est disponible.( l = ligne de la case, c = colonne de la case)\n",
    "    \"\"\"\n",
    "    ma = m # m est le compteur de drapeaux restant à disposition du joueur et ma est la variable locale\n",
    "    if pg[l][c] == \"F\": # si il y adéja un drapeau sur la case il va être retiré\n",
    "        print(\"drapeau retiré\")\n",
    "        ma = ma+1 # le compteur de drapeau est actualisé \n",
    "        pg[l][c] = \"?\" # la case et denouveau masquée\n",
    "    elif pg[l][c] == \"?\": # si la case est marquée un drapeau peut être placé\n",
    "        if ma > 0: # si il reste des drapeaux disponible le joueur pourra en placer un\n",
    "            pg[l][c] = \"F\" \n",
    "            ma = ma-1 # le compteur de drapeau est actualisé\n",
    "        else: # si il n' y a plus de drapeau disponiblele jeu propose au joeur d'en retirer un\n",
    "            print(\"tous les drapeaux sont placés, lequel voulez-vous retirer?\")\n",
    "            l = int(input(\"ligne :\")) # le joueur choisis la ligne du drapeau à retirer\n",
    "            c = int(input(\"colone :\")) # le joueur choisis la colonne du drapeau à retirer\n",
    "            if pg[l][c] == \"F\": # si il y a un drapeau sur la cas choisie il est enlevé\n",
    "                pg[l][c] = \"?\" # la case est masquée\n",
    "                ma = ma+1 # le compteur de drapeau est actualisé\n",
    "                print(\"quelle case voulez-vous marquer?\")\n",
    "                l = int(input(\"ligne :\")) # le joueur choisis la ligne du drapeau à ajouter\n",
    "                c = int(input(\"colone :\")) # le joueur choisis la colonne du drapeau à ajouter\n",
    "                action_joueur2(m,l,c) # la fonction est relancée\n",
    "            else: # si la case sélectionnée n'est pas marquée le joueur à un deuxième chance de sélectionner une case valide\n",
    "                print(\"vous ne pouvez pas selectionner une case non marquée, choisisez une autre case\")\n",
    "                l = int(input(\"ligne :\"))\n",
    "                c = int(input(\"colone :\"))\n",
    "                pg[l][c] = \"?\"\n",
    "                ma = ma+1\n",
    "                print(\"quelle case voulez-vous marquer?\")\n",
    "                l = int(input(\"ligne :\"))\n",
    "                c = int(input(\"colone :\"))\n",
    "                action_joueur2(m,l,c)\n",
    "    else:\n",
    "        print(\"cette case est délà révelée, faites autre chose\")\n",
    "    return ma # ça sert à sortir le compteur de drapeau restant de la fonction"
   ]
  },
  {
   "cell_type": "code",
   "execution_count": 25,
   "metadata": {},
   "outputs": [
    {
     "name": "stdout",
     "output_type": "stream",
     "text": [
      "|?|?|?|?|?|?|?|?|?|?|\n",
      "|?|?|?|?|?|?|?|?|?|?|\n",
      "|?|?|?|?|?|?|?|?|?|?|\n",
      "|?|?|?|?|?|?|?|?|?|?|\n",
      "|?|?|?|?|?|?|?|?|?|?|\n",
      "|?|?|?|?|?|?|?|?|?|?|\n",
      "|?|?|?|?|?|?|?|?|?|?|\n",
      "|?|?|?|?|?|?|?|?|?|?|\n",
      "10\n"
     ]
    }
   ],
   "source": [
    "#action_joueur(6,4)\n",
    "printgrille(pg)\n",
    "print(m) # test"
   ]
  },
  {
   "cell_type": "markdown",
   "metadata": {},
   "source": [
    "Commande de jeu :"
   ]
  },
  {
   "cell_type": "markdown",
   "metadata": {},
   "source": [
    "Pour pouvoir réelement étendre les modifications du m au reste du programme il a fallut crée une autre variable local mb qui prend, après l'éxecution d'action_joueur ou d'action_joueur2, la valeur de ma et ensuite retourner mb. Pour au final faire que m prenne la valeur de mb retournée par action."
   ]
  },
  {
   "cell_type": "code",
   "execution_count": 26,
   "metadata": {},
   "outputs": [],
   "source": [
    "def action(a,l,c):\n",
    "    \"\"\"Cette fonction permet au joeur d'avoir accès à toutes les actions disponibles depuis une même commande. En mettant \"f\" dans le paramètre a il choisis de placer un drapeau et en metant \"r\" il choisist de réveler des cases. l et c correspondent à la ligne et à la colonne de la case sélectionnée.\n",
    "    \"\"\"\n",
    "    mb = m # m est le compteur de drapeaux restant à disposition du joueur et ma est la variable locale\n",
    "    if a == \"f\":\n",
    "        mb = action_joueur2(m,l,c) # la fonction est exécutée et la valeur de ma est atribuée à mb\n",
    "    else:\n",
    "        if pg[l][c] != \"?\" and pg[l][c] != \"F\":\n",
    "            print(\"cette case est déjè découverte, faites autre chose\")\n",
    "        else:\n",
    "            mb = action_joueur(l,c) # la fonction est exécutée et la valeur de ma est atribuée à mb\n",
    "    return mb # ça sert à sortir le compteur de drapeau restant de la fonction"
   ]
  },
  {
   "cell_type": "code",
   "execution_count": 27,
   "metadata": {
    "scrolled": true
   },
   "outputs": [
    {
     "name": "stdout",
     "output_type": "stream",
     "text": [
      "|?|?|?|?|?|?|?|?|?|?|\n",
      "|?|?|?|?|?|?|?|?|?|?|\n",
      "|?|?|?|?|?|?|?|?|?|?|\n",
      "|?|?|?|?|?|?|?|?|?|?|\n",
      "|?|?|?|?|?|?|?|?|?|?|\n",
      "|?|?|?|?|?|2|?|?|?|?|\n",
      "|?|?|?|?|?|?|?|?|?|?|\n",
      "|?|?|?|?|?|?|?|?|?|?|\n",
      "10\n"
     ]
    }
   ],
   "source": [
    "m = action(\"r\",5,5) # la fonctione est exécutée et la valeur de mb est atribuée à m pour qu'elle soit réutilisée dans les actions suivantes\n",
    "printgrille(pg)\n",
    "print(m) # test"
   ]
  },
  {
   "cell_type": "code",
   "execution_count": 28,
   "metadata": {
    "scrolled": false
   },
   "outputs": [
    {
     "name": "stdout",
     "output_type": "stream",
     "text": [
      "|2|B|2|B|2|1|2|1|1|0|\n",
      "|1|2|3|2|3|B|3|B|1|0|\n",
      "|0|1|B|2|2|B|3|1|1|0|\n",
      "|0|1|1|2|2|2|2|1|2|1|\n",
      "|0|0|0|1|B|1|1|B|2|B|\n",
      "|0|0|0|2|2|2|1|1|2|1|\n",
      "|0|0|0|1|B|1|0|0|0|0|\n",
      "|0|0|0|1|1|1|0|0|0|0|\n"
     ]
    }
   ],
   "source": [
    "printgrille(mgB) # test"
   ]
  }
 ],
 "metadata": {
  "interpreter": {
   "hash": "dca0ade3e726a953b501b15e8e990130d2b7799f14cfd9f4271676035ebe5511"
  },
  "kernelspec": {
   "display_name": "Python 3",
   "language": "python",
   "name": "python3"
  },
  "language_info": {
   "codemirror_mode": {
    "name": "ipython",
    "version": 3
   },
   "file_extension": ".py",
   "mimetype": "text/x-python",
   "name": "python",
   "nbconvert_exporter": "python",
   "pygments_lexer": "ipython3",
   "version": "3.8.8"
  },
  "latex_envs": {
   "LaTeX_envs_menu_present": true,
   "autoclose": false,
   "autocomplete": true,
   "bibliofile": "biblio.bib",
   "cite_by": "apalike",
   "current_citInitial": 1,
   "eqLabelWithNumbers": true,
   "eqNumInitial": 1,
   "hotkeys": {
    "equation": "Ctrl-E",
    "itemize": "Ctrl-I"
   },
   "labels_anchors": false,
   "latex_user_defs": false,
   "report_style_numbering": false,
   "user_envs_cfg": false
  },
  "toc": {
   "base_numbering": 1,
   "nav_menu": {},
   "number_sections": true,
   "sideBar": true,
   "skip_h1_title": false,
   "title_cell": "Table of Contents",
   "title_sidebar": "Contents",
   "toc_cell": false,
   "toc_position": {},
   "toc_section_display": true,
   "toc_window_display": false
  }
 },
 "nbformat": 4,
 "nbformat_minor": 4
}
