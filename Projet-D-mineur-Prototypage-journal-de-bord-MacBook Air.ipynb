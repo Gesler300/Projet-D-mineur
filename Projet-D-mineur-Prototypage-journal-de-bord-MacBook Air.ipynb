{
 "cells": [
  {
   "cell_type": "markdown",
   "source": [
    "\n",
    "Notes :  \n",
    "  \n",
    "  \n",
    "Le code sera quasi toujours des fonctions  \n",
    "Determiner ce dont nous allons avoir besoin :  \n",
    "Une grille avec des cases qui contiennent soit une valeure soit une bombe (valeur = nombre de bombes qu'il y a a coté de cette case)  \n",
    "Il faut que ça soit modulaire :  \n",
    "Que des fonctions qui ont un role précis et qui sont appellées les unes après les autres dans des fonctions plus générales   \n",
    "  \n",
    "1. générer les grilles :  \n",
    "C'est une liste de listes (listes imbriquées)  \n",
    "Il y a d'abord magrille, c'est la fonction qui crée la grille d'origine qui est remplie de 0  \n",
    "Ensuite il y a genpos, c'est la fonction  qui crée les positions les cases de la grille  \n",
    "Ensuite il y a le putBomb, c'est la fonction qui crée les positions des bombes  \n",
    "\n"
   ],
   "metadata": {}
  },
  {
   "cell_type": "markdown",
   "source": [
    "Liste des import :"
   ],
   "metadata": {}
  },
  {
   "cell_type": "code",
   "execution_count": 1,
   "source": [
    "import random"
   ],
   "outputs": [],
   "metadata": {}
  },
  {
   "cell_type": "markdown",
   "source": [
    "Creation de la grille :"
   ],
   "metadata": {}
  },
  {
   "cell_type": "code",
   "execution_count": 2,
   "source": [
    "def magrille(l,c):\n",
    "    grille = []\n",
    "    for i in range (l):\n",
    "        grille.append([0]*c)\n",
    "    return grille\n"
   ],
   "outputs": [],
   "metadata": {}
  },
  {
   "cell_type": "code",
   "execution_count": 3,
   "source": [
    "mg = magrille(9, 9)"
   ],
   "outputs": [],
   "metadata": {}
  },
  {
   "cell_type": "markdown",
   "source": [
    "Génération des positions dans la grille :"
   ],
   "metadata": {}
  },
  {
   "cell_type": "code",
   "execution_count": 4,
   "source": [
    "def genPos(l,c):\n",
    "    pos=[]\n",
    "    for i in range(l):\n",
    "        for j in range (c):\n",
    "            pos.append((i,j))\n",
    "    return pos\n",
    "\n",
    "genPos(2,3)"
   ],
   "outputs": [
    {
     "output_type": "execute_result",
     "data": {
      "text/plain": [
       "[(0, 0), (0, 1), (0, 2), (1, 0), (1, 1), (1, 2)]"
      ]
     },
     "metadata": {},
     "execution_count": 4
    }
   ],
   "metadata": {}
  },
  {
   "cell_type": "code",
   "execution_count": 5,
   "source": [
    "pos = genPos(2,3)\n",
    "random.sample(pos,3)"
   ],
   "outputs": [
    {
     "output_type": "execute_result",
     "data": {
      "text/plain": [
       "[(1, 1), (0, 0), (0, 1)]"
      ]
     },
     "metadata": {},
     "execution_count": 5
    }
   ],
   "metadata": {}
  },
  {
   "cell_type": "markdown",
   "source": [
    "Rendu de la grille initiale (magrille):"
   ],
   "metadata": {}
  },
  {
   "cell_type": "code",
   "execution_count": 6,
   "source": [
    "def printgrille(magrille):\n",
    "    nbligne = len(magrille)\n",
    "    nbcol = len(magrille[0])\n",
    "    for i in range(nbligne):\n",
    "        lignetexte = \"|\"\n",
    "        for j in range(nbcol):\n",
    "            lignetexte += \"{0}|\".format(magrille[i][j])\n",
    "        print(lignetexte)\n",
    "\n",
    "\n",
    "        "
   ],
   "outputs": [],
   "metadata": {}
  },
  {
   "cell_type": "code",
   "execution_count": 7,
   "source": [
    "printgrille(mg)"
   ],
   "outputs": [
    {
     "output_type": "stream",
     "name": "stdout",
     "text": [
      "|0|0|0|0|0|0|0|0|0|\n",
      "|0|0|0|0|0|0|0|0|0|\n",
      "|0|0|0|0|0|0|0|0|0|\n",
      "|0|0|0|0|0|0|0|0|0|\n",
      "|0|0|0|0|0|0|0|0|0|\n",
      "|0|0|0|0|0|0|0|0|0|\n",
      "|0|0|0|0|0|0|0|0|0|\n",
      "|0|0|0|0|0|0|0|0|0|\n",
      "|0|0|0|0|0|0|0|0|0|\n"
     ]
    }
   ],
   "metadata": {}
  },
  {
   "cell_type": "markdown",
   "source": [
    "Placement des bombes :"
   ],
   "metadata": {}
  },
  {
   "cell_type": "code",
   "execution_count": 8,
   "source": [
    "def putBomb(grille, nbBomb):\n",
    "    nbligne = len(grille)\n",
    "    nbcol = len(grille[0])\n",
    "    pos = genPos(nbligne, nbcol)\n",
    "    posBomb = random.sample(pos, nbBomb) \n",
    "    for Bomb in (posBomb):\n",
    "        grille[Bomb[0]][Bomb[1]] = \"B\"\n",
    "    return grille\n",
    "\n",
    "#sortie ; grille avec des bombe"
   ],
   "outputs": [],
   "metadata": {}
  },
  {
   "cell_type": "code",
   "execution_count": 9,
   "source": [
    "mg = magrille(10,10)\n",
    "mgB = putBomb(mg,30)\n",
    "printgrille(mgB)"
   ],
   "outputs": [
    {
     "output_type": "stream",
     "name": "stdout",
     "text": [
      "|0|B|0|B|0|0|0|0|B|0|\n",
      "|0|0|B|0|B|B|0|B|0|0|\n",
      "|0|0|0|0|B|0|0|0|0|B|\n",
      "|0|0|0|0|0|0|0|B|0|0|\n",
      "|0|0|0|0|0|0|0|B|0|0|\n",
      "|0|0|0|0|0|B|0|0|0|B|\n",
      "|0|B|0|0|0|B|0|B|0|B|\n",
      "|B|B|0|0|0|B|B|0|0|B|\n",
      "|0|0|B|B|0|0|B|B|B|0|\n",
      "|0|0|B|0|0|0|0|B|0|B|\n"
     ]
    }
   ],
   "metadata": {}
  },
  {
   "cell_type": "markdown",
   "source": [
    "Calcul du nombre de bombe autour d'une case :"
   ],
   "metadata": {}
  },
  {
   "cell_type": "code",
   "execution_count": 10,
   "source": [
    "def checkbomb(mgB,l,c):\n",
    "    lcheck = l\n",
    "    ccheck = c\n",
    "    for i in range (3):\n",
    "        for j in range (3):\n",
    "            if mgB[lcheck-1][ccheck-1] == \"B\":\n",
    "                mgB[l][c] += 1\n",
    "                ccheck = ccheck+1\n",
    "            elif lcheck-1 == l and ccheck-1 == c:\n",
    "                ccheck = ccheck+1\n",
    "            else:\n",
    "                ccheck = ccheck+1\n",
    "        lcheck = lcheck+1\n",
    "        ccheck = ccheck-3"
   ],
   "outputs": [],
   "metadata": {}
  },
  {
   "cell_type": "code",
   "execution_count": 11,
   "source": [
    "\n",
    "printgrille(mgB)"
   ],
   "outputs": [
    {
     "output_type": "stream",
     "name": "stdout",
     "text": [
      "|0|B|0|B|0|0|0|0|B|0|\n",
      "|0|0|B|0|B|B|0|B|0|0|\n",
      "|0|0|0|0|B|0|0|0|0|B|\n",
      "|0|0|0|0|0|0|0|B|0|0|\n",
      "|0|0|0|0|0|0|0|B|0|0|\n",
      "|0|0|0|0|0|B|0|0|0|B|\n",
      "|0|B|0|0|0|B|0|B|0|B|\n",
      "|B|B|0|0|0|B|B|0|0|B|\n",
      "|0|0|B|B|0|0|B|B|B|0|\n",
      "|0|0|B|0|0|0|0|B|0|B|\n"
     ]
    }
   ],
   "metadata": {}
  },
  {
   "cell_type": "markdown",
   "source": [
    "Programme complet qui place les chiffre dans les cases bordées par des bombes en prennant en compte les bords et les coins :"
   ],
   "metadata": {}
  },
  {
   "cell_type": "code",
   "execution_count": 12,
   "source": [
    "def checkbomb2(mgB,l,c):\n",
    "    lcheck = l\n",
    "    ccheck = c\n",
    "    if l == 0 and c == 0:\n",
    "        for i in range (2):\n",
    "            for j in range (2):\n",
    "                if mgB[lcheck][ccheck] == \"B\":\n",
    "                    mgB[l][c] += 1\n",
    "                    ccheck = ccheck+1\n",
    "                elif lcheck == l and ccheck == c:\n",
    "                    ccheck = ccheck+1\n",
    "                else:\n",
    "                    ccheck = ccheck+1\n",
    "            lcheck = lcheck+1\n",
    "            ccheck = ccheck-2\n",
    "    elif l == 0 and c == len(mgB[0])-1:\n",
    "        for i in range (2):\n",
    "            for j in range (2):\n",
    "                if mgB[lcheck][ccheck-1] == \"B\":\n",
    "                    mgB[l][c] += 1\n",
    "                    ccheck = ccheck+1\n",
    "                elif lcheck == l and ccheck-1 == c:\n",
    "                    ccheck = ccheck+1\n",
    "                else:\n",
    "                    ccheck = ccheck+1\n",
    "            lcheck = lcheck+1\n",
    "            ccheck = ccheck-2\n",
    "    elif l == len(mgB)-1 and c == 0:\n",
    "        for i in range (2):\n",
    "            for j in range (2):\n",
    "                if mgB[lcheck-1][ccheck] == \"B\":\n",
    "                    mgB[l][c] += 1\n",
    "                    ccheck = ccheck+1\n",
    "                elif lcheck-1 == l and ccheck == c:\n",
    "                    ccheck = ccheck+1\n",
    "                else:\n",
    "                    ccheck = ccheck+1\n",
    "            lcheck = lcheck+1\n",
    "            ccheck = ccheck-2\n",
    "    elif l == len(mgB)-1 and c == len(mgB[0])-1:\n",
    "        for i in range (2):\n",
    "            for j in range (2):\n",
    "                if mgB[lcheck-1][ccheck-1] == \"B\":\n",
    "                    mgB[l][c] += 1\n",
    "                    ccheck = ccheck+1\n",
    "                elif lcheck-1 == l and ccheck-1 == c:\n",
    "                    ccheck = ccheck+1\n",
    "                else:\n",
    "                    ccheck = ccheck+1\n",
    "            lcheck = lcheck+1\n",
    "            ccheck = ccheck-2\n",
    "    elif l == 0:\n",
    "        for i in range (2):\n",
    "            for j in range (3):\n",
    "                if mgB[lcheck][ccheck-1] == \"B\":\n",
    "                    mgB[l][c] += 1\n",
    "                    ccheck = ccheck+1\n",
    "                elif lcheck == l and ccheck-1 == c:\n",
    "                    ccheck = ccheck+1\n",
    "                else:\n",
    "                    ccheck = ccheck+1\n",
    "            lcheck = lcheck+1\n",
    "            ccheck = ccheck-3\n",
    "    elif l == len(mgB)-1:\n",
    "        for i in range (2):\n",
    "            for j in range (3):\n",
    "                if mgB[lcheck-1][ccheck-1] == \"B\":\n",
    "                    mgB[l][c] += 1\n",
    "                    ccheck = ccheck+1\n",
    "                elif lcheck-1 == l and ccheck-1 == c:\n",
    "                    ccheck = ccheck+1\n",
    "                else:\n",
    "                    ccheck = ccheck+1\n",
    "            lcheck = lcheck+1\n",
    "            ccheck = ccheck-3\n",
    "    elif c == 0:\n",
    "        for i in range (3):\n",
    "            for j in range (2):\n",
    "                if mgB[lcheck-1][ccheck] == \"B\":\n",
    "                    mgB[l][c] += 1\n",
    "                    ccheck = ccheck+1\n",
    "                elif lcheck-1 == l and ccheck == c:\n",
    "                    ccheck = ccheck+1\n",
    "                else:\n",
    "                    ccheck = ccheck+1\n",
    "            lcheck = lcheck+1\n",
    "            ccheck = ccheck-2\n",
    "    elif c == len(mgB[0])-1:\n",
    "        for i in range (3):\n",
    "            for j in range (2):\n",
    "                if mgB[lcheck-1][ccheck-1] == \"B\":\n",
    "                    mgB[l][c] += 1\n",
    "                    ccheck = ccheck+1\n",
    "                elif lcheck-1 == l and ccheck-1 == c:\n",
    "                    ccheck = ccheck+1\n",
    "                else:\n",
    "                    ccheck = ccheck+1\n",
    "            lcheck = lcheck+1\n",
    "            ccheck = ccheck-2\n",
    "    else:\n",
    "        for i in range (3):\n",
    "            for j in range (3):\n",
    "                if mgB[lcheck-1][ccheck-1] == \"B\":\n",
    "                    mgB[l][c] += 1\n",
    "                    ccheck = ccheck+1\n",
    "                elif lcheck-1 == l and ccheck-1 == c:\n",
    "                    ccheck = ccheck+1\n",
    "                else:\n",
    "                    ccheck = ccheck+1\n",
    "            lcheck = lcheck+1\n",
    "            ccheck = ccheck-3"
   ],
   "outputs": [],
   "metadata": {}
  },
  {
   "cell_type": "code",
   "execution_count": 13,
   "source": [
    "checkbomb2(mgB,0,0)\n",
    "printgrille(mgB)"
   ],
   "outputs": [
    {
     "output_type": "stream",
     "name": "stdout",
     "text": [
      "|1|B|0|B|0|0|0|0|B|0|\n",
      "|0|0|B|0|B|B|0|B|0|0|\n",
      "|0|0|0|0|B|0|0|0|0|B|\n",
      "|0|0|0|0|0|0|0|B|0|0|\n",
      "|0|0|0|0|0|0|0|B|0|0|\n",
      "|0|0|0|0|0|B|0|0|0|B|\n",
      "|0|B|0|0|0|B|0|B|0|B|\n",
      "|B|B|0|0|0|B|B|0|0|B|\n",
      "|0|0|B|B|0|0|B|B|B|0|\n",
      "|0|0|B|0|0|0|0|B|0|B|\n"
     ]
    }
   ],
   "metadata": {}
  },
  {
   "cell_type": "markdown",
   "source": [
    "sur l'enssemble de la grille :"
   ],
   "metadata": {}
  },
  {
   "cell_type": "code",
   "execution_count": 14,
   "source": [
    "def checkbombgrille(mgB):\n",
    "    for i in range(len(mgB)):\n",
    "        for j in range(len(mgB[0])):\n",
    "            if mgB[i][j] == \"B\":\n",
    "                continue\n",
    "            else:\n",
    "                checkbomb2(mgB,i,j)\n",
    "            "
   ],
   "outputs": [],
   "metadata": {}
  },
  {
   "cell_type": "code",
   "execution_count": 15,
   "source": [
    "checkbombgrille(mgB)\n",
    "printgrille(mgB)"
   ],
   "outputs": [
    {
     "output_type": "stream",
     "name": "stdout",
     "text": [
      "|2|B|3|B|3|2|2|2|B|1|\n",
      "|1|2|B|4|B|B|2|B|3|2|\n",
      "|0|1|1|3|B|3|3|2|3|B|\n",
      "|0|0|0|1|1|1|2|B|3|1|\n",
      "|0|0|0|0|1|1|3|B|3|1|\n",
      "|1|1|1|0|2|B|4|2|4|B|\n",
      "|3|B|2|0|3|B|5|B|4|B|\n",
      "|B|B|4|2|3|B|B|5|5|B|\n",
      "|2|4|B|B|2|3|B|B|B|3|\n",
      "|0|2|B|3|1|1|3|B|4|B|\n"
     ]
    }
   ],
   "metadata": {}
  },
  {
   "cell_type": "markdown",
   "source": [
    "grille du joueur :"
   ],
   "metadata": {}
  },
  {
   "cell_type": "code",
   "execution_count": 19,
   "source": [
    "def printgrille_joueur(mg):\n",
    "    nbligne = len(mg)\n",
    "    nbcol = len(mg[0])\n",
    "    for i in range(nbligne):\n",
    "        lignetexte = \"|\"\n",
    "        for j in range(nbcol):\n",
    "            lignetexte += \"?|\"\n",
    "        print(lignetexte)\n"
   ],
   "outputs": [],
   "metadata": {}
  },
  {
   "cell_type": "code",
   "execution_count": 20,
   "source": [
    "printgrille_joueur(mg)"
   ],
   "outputs": [
    {
     "output_type": "stream",
     "name": "stdout",
     "text": [
      "|?|?|?|?|?|?|?|?|?|?|\n",
      "|?|?|?|?|?|?|?|?|?|?|\n",
      "|?|?|?|?|?|?|?|?|?|?|\n",
      "|?|?|?|?|?|?|?|?|?|?|\n",
      "|?|?|?|?|?|?|?|?|?|?|\n",
      "|?|?|?|?|?|?|?|?|?|?|\n",
      "|?|?|?|?|?|?|?|?|?|?|\n",
      "|?|?|?|?|?|?|?|?|?|?|\n",
      "|?|?|?|?|?|?|?|?|?|?|\n",
      "|?|?|?|?|?|?|?|?|?|?|\n"
     ]
    }
   ],
   "metadata": {}
  },
  {
   "cell_type": "code",
   "execution_count": 18,
   "source": [
    "#Un module pour le jeu et un module pour l'interface de la tortue !!!"
   ],
   "outputs": [],
   "metadata": {}
  },
  {
   "cell_type": "code",
   "execution_count": null,
   "source": [],
   "outputs": [],
   "metadata": {}
  },
  {
   "cell_type": "code",
   "execution_count": 17,
   "source": [
    "les cornichons"
   ],
   "outputs": [
    {
     "output_type": "error",
     "ename": "SyntaxError",
     "evalue": "invalid syntax (<ipython-input-17-24d9f18aa9d9>, line 1)",
     "traceback": [
      "\u001b[0;36m  File \u001b[0;32m\"<ipython-input-17-24d9f18aa9d9>\"\u001b[0;36m, line \u001b[0;32m1\u001b[0m\n\u001b[0;31m    les cornichons\u001b[0m\n\u001b[0m        ^\u001b[0m\n\u001b[0;31mSyntaxError\u001b[0m\u001b[0;31m:\u001b[0m invalid syntax\n"
     ]
    }
   ],
   "metadata": {}
  }
 ],
 "metadata": {
  "interpreter": {
   "hash": "dca0ade3e726a953b501b15e8e990130d2b7799f14cfd9f4271676035ebe5511"
  },
  "kernelspec": {
   "name": "python3",
   "display_name": "Python 3.8.3 64-bit ('base': conda)"
  },
  "language_info": {
   "codemirror_mode": {
    "name": "ipython",
    "version": 3
   },
   "file_extension": ".py",
   "mimetype": "text/x-python",
   "name": "python",
   "nbconvert_exporter": "python",
   "pygments_lexer": "ipython3",
   "version": "3.8.3"
  },
  "latex_envs": {
   "LaTeX_envs_menu_present": true,
   "autoclose": false,
   "autocomplete": true,
   "bibliofile": "biblio.bib",
   "cite_by": "apalike",
   "current_citInitial": 1,
   "eqLabelWithNumbers": true,
   "eqNumInitial": 1,
   "hotkeys": {
    "equation": "Ctrl-E",
    "itemize": "Ctrl-I"
   },
   "labels_anchors": false,
   "latex_user_defs": false,
   "report_style_numbering": false,
   "user_envs_cfg": false
  },
  "toc": {
   "base_numbering": 1,
   "nav_menu": {},
   "number_sections": true,
   "sideBar": true,
   "skip_h1_title": false,
   "title_cell": "Table of Contents",
   "title_sidebar": "Contents",
   "toc_cell": false,
   "toc_position": {},
   "toc_section_display": true,
   "toc_window_display": false
  }
 },
 "nbformat": 4,
 "nbformat_minor": 4
}