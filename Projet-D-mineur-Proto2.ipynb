{
 "cells": [
  {
   "cell_type": "markdown",
   "source": [
    "# Journal de bord du projet\n",
    "\n",
    "Voici le fichier qui va servir de journal de bord et de fichier de prototypage\n",
    "\n",
    "## Création de la grille\n",
    "\n",
    "On va utiliser des liste imbriquées avec les valeurs suivantes pour représenter les différents cas"
   ],
   "metadata": {}
  },
  {
   "cell_type": "markdown",
   "source": [
    "Ci-dessous la liste des import nécessaires"
   ],
   "metadata": {}
  },
  {
   "cell_type": "code",
   "execution_count": 8,
   "source": [
    "import random\n",
    "import math"
   ],
   "outputs": [],
   "metadata": {}
  },
  {
   "cell_type": "code",
   "execution_count": 9,
   "source": [
    "def magrille(l,c):\n",
    "    grille = []\n",
    "    for i in range(l):\n",
    "        grille.append([0]*c)\n",
    "    return grille"
   ],
   "outputs": [],
   "metadata": {}
  },
  {
   "cell_type": "code",
   "execution_count": 10,
   "source": [
    "mg = magrille(5,5)"
   ],
   "outputs": [],
   "metadata": {}
  },
  {
   "cell_type": "code",
   "execution_count": 11,
   "source": [
    "mg[0]"
   ],
   "outputs": [
    {
     "output_type": "execute_result",
     "data": {
      "text/plain": [
       "[0, 0, 0, 0, 0]"
      ]
     },
     "metadata": {},
     "execution_count": 11
    }
   ],
   "metadata": {}
  },
  {
   "cell_type": "markdown",
   "source": [
    "## Fonction d'affichage de la grille"
   ],
   "metadata": {}
  },
  {
   "cell_type": "code",
   "execution_count": 12,
   "source": [
    "def printGrille(magrille):\n",
    "    nbligne = len(magrille)\n",
    "    nbcol = len(magrille[0])\n",
    "    for i in range(nbligne):\n",
    "        lignetexte = \"|\"\n",
    "        for j in range(nbcol):\n",
    "            lignetexte += \"{0} |\".format(magrille[i][j])\n",
    "        print(lignetexte)"
   ],
   "outputs": [],
   "metadata": {}
  },
  {
   "cell_type": "code",
   "execution_count": 13,
   "source": [
    "printGrille(mg)"
   ],
   "outputs": [
    {
     "output_type": "stream",
     "name": "stdout",
     "text": [
      "|0 |0 |0 |0 |0 |\n",
      "|0 |0 |0 |0 |0 |\n",
      "|0 |0 |0 |0 |0 |\n",
      "|0 |0 |0 |0 |0 |\n",
      "|0 |0 |0 |0 |0 |\n"
     ]
    }
   ],
   "metadata": {}
  },
  {
   "cell_type": "markdown",
   "source": [
    "## Placement des bombes\n",
    "\n",
    "On veut choisir n élément parmis les positions"
   ],
   "metadata": {}
  },
  {
   "cell_type": "code",
   "execution_count": 14,
   "source": [
    "def genPos(l,c):\n",
    "    pos = []\n",
    "    for i in range(l):\n",
    "        for j in range(c):\n",
    "            pos.append((i,j))\n",
    "    return pos"
   ],
   "outputs": [],
   "metadata": {}
  },
  {
   "cell_type": "code",
   "execution_count": 15,
   "source": [
    "import random\n",
    "pos = genPos(10,10)\n",
    "random.sample(pos, 20)"
   ],
   "outputs": [
    {
     "output_type": "execute_result",
     "data": {
      "text/plain": [
       "[(7, 6),\n",
       " (8, 3),\n",
       " (8, 1),\n",
       " (4, 6),\n",
       " (5, 3),\n",
       " (7, 4),\n",
       " (7, 5),\n",
       " (6, 3),\n",
       " (0, 1),\n",
       " (1, 1),\n",
       " (6, 9),\n",
       " (9, 8),\n",
       " (2, 1),\n",
       " (0, 6),\n",
       " (1, 9),\n",
       " (4, 2),\n",
       " (5, 0),\n",
       " (8, 0),\n",
       " (6, 7),\n",
       " (7, 7)]"
      ]
     },
     "metadata": {},
     "execution_count": 15
    }
   ],
   "metadata": {}
  },
  {
   "cell_type": "markdown",
   "source": [
    "Pour choisir les positions des bombes aléatoirement on commence par générer toutes les positions possibles puis on choisit le nombre souhaité parmis ces positions avec `random.sample` qui permet de ne pas choisir 2 fois la même position."
   ],
   "metadata": {}
  },
  {
   "cell_type": "code",
   "execution_count": 16,
   "source": [
    "def putBomb(grille, nbBomb):\n",
    "    nbligne = len(grille)\n",
    "    nbcol = len(grille[0])\n",
    "    pos = genPos(nbligne, nbcol)\n",
    "    posBomb = random.sample(pos, nbBomb)\n",
    "    for bomb in posBomb:\n",
    "        grille[bomb[0]][bomb[1]] = \"B\"\n",
    "    return grille"
   ],
   "outputs": [],
   "metadata": {}
  },
  {
   "cell_type": "code",
   "execution_count": 17,
   "source": [
    "mg = magrille(10,10)\n",
    "mgB = putBomb(mg,21)\n",
    "printGrille(mgB)"
   ],
   "outputs": [
    {
     "output_type": "stream",
     "name": "stdout",
     "text": [
      "|0 |0 |0 |B |0 |0 |0 |B |0 |0 |\n",
      "|0 |0 |0 |B |B |0 |0 |0 |0 |B |\n",
      "|B |B |0 |0 |B |0 |0 |B |B |0 |\n",
      "|B |0 |B |0 |0 |0 |B |B |0 |0 |\n",
      "|0 |0 |0 |0 |0 |0 |0 |0 |0 |0 |\n",
      "|0 |0 |0 |0 |B |B |0 |0 |0 |0 |\n",
      "|B |0 |0 |0 |0 |0 |0 |0 |0 |0 |\n",
      "|0 |0 |0 |0 |0 |0 |0 |0 |B |0 |\n",
      "|0 |0 |0 |0 |0 |B |0 |0 |0 |0 |\n",
      "|0 |0 |B |0 |B |0 |0 |0 |0 |0 |\n"
     ]
    }
   ],
   "metadata": {}
  }
 ],
 "metadata": {
  "kernelspec": {
   "name": "python3",
   "display_name": "Python 3.8.3 64-bit ('base': conda)"
  },
  "language_info": {
   "codemirror_mode": {
    "name": "ipython",
    "version": 3
   },
   "file_extension": ".py",
   "mimetype": "text/x-python",
   "name": "python",
   "nbconvert_exporter": "python",
   "pygments_lexer": "ipython3",
   "version": "3.8.3"
  },
  "latex_envs": {
   "LaTeX_envs_menu_present": true,
   "autoclose": false,
   "autocomplete": true,
   "bibliofile": "biblio.bib",
   "cite_by": "apalike",
   "current_citInitial": 1,
   "eqLabelWithNumbers": true,
   "eqNumInitial": 1,
   "hotkeys": {
    "equation": "Ctrl-E",
    "itemize": "Ctrl-I"
   },
   "labels_anchors": false,
   "latex_user_defs": false,
   "report_style_numbering": false,
   "user_envs_cfg": false
  },
  "toc": {
   "base_numbering": 1,
   "nav_menu": {},
   "number_sections": true,
   "sideBar": true,
   "skip_h1_title": false,
   "title_cell": "Table of Contents",
   "title_sidebar": "Contents",
   "toc_cell": false,
   "toc_position": {},
   "toc_section_display": true,
   "toc_window_display": false
  },
  "interpreter": {
   "hash": "dca0ade3e726a953b501b15e8e990130d2b7799f14cfd9f4271676035ebe5511"
  }
 },
 "nbformat": 4,
 "nbformat_minor": 4
}