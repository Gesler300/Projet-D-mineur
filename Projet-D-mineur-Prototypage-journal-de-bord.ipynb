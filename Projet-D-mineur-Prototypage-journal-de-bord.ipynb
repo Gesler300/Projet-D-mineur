{
 "cells": [
  {
   "cell_type": "markdown",
   "source": [
    "\n",
    "Notes :\n",
    "\n",
    "le code sera quasi toujours des fonctions\n",
    "Determiner ce dont nous allons avoir besoin:\n",
    "-grille: avec des cases avec soit une valeure soit une bombe\n",
    "valeur = nombre de bombes qu'il y a a coté de cette place\n",
    "\n",
    "\n",
    "Comment le projet avance: Choix essais, explications.  \n",
    "il faut que ça soit modulaire : que des fonctions qui ont un role particulier, appellee les unes après les autres ou dans les autres pour effectuer des actions  \n",
    "\n",
    "\n",
    "\n",
    "\n",
    "\n",
    "\n",
    "1. générer cette grille: une liste de liste (une liste imbriquée)\n",
    "b--> Fonction grille\n"
   ],
   "metadata": {}
  },
  {
   "cell_type": "markdown",
   "source": [
    "Liste des import :"
   ],
   "metadata": {}
  },
  {
   "cell_type": "markdown",
   "source": [
    "Creation de la grille:"
   ],
   "metadata": {}
  },
  {
   "cell_type": "code",
   "execution_count": 6,
   "source": [
    "def magrille(l,c):\n",
    "    grille = []\n",
    "    for i in range (l):\n",
    "        grille.append([0]*c)\n",
    "    return grille\n"
   ],
   "outputs": [],
   "metadata": {}
  },
  {
   "cell_type": "code",
   "execution_count": 7,
   "source": [
    "mg = magrille(9, 9)"
   ],
   "outputs": [],
   "metadata": {}
  },
  {
   "cell_type": "code",
   "execution_count": 19,
   "source": [
    "#genere les positions de la grille\n",
    "\n",
    "def genPos(l,c):\n",
    "    pos=[]\n",
    "    for i in range(l):\n",
    "        for j in range (c):\n",
    "            pos.append((i,j))\n",
    "    return pos\n",
    "\n",
    "genPos(2,3)"
   ],
   "outputs": [
    {
     "output_type": "execute_result",
     "data": {
      "text/plain": [
       "[(0, 0), (0, 1), (0, 2), (1, 0), (1, 1), (1, 2)]"
      ]
     },
     "metadata": {},
     "execution_count": 19
    }
   ],
   "metadata": {}
  },
  {
   "cell_type": "code",
   "execution_count": 22,
   "source": [
    "import random\n",
    "pos =genPos(2,3)\n",
    "random.sample(pos,3)"
   ],
   "outputs": [
    {
     "output_type": "execute_result",
     "data": {
      "text/plain": [
       "[(1, 0), (0, 2), (1, 2)]"
      ]
     },
     "metadata": {},
     "execution_count": 22
    }
   ],
   "metadata": {}
  },
  {
   "cell_type": "code",
   "execution_count": 26,
   "source": [
    "def printgrille(magrille):\n",
    "    nbligne = len(magrille)\n",
    "    nbcol = len(magrille[0])\n",
    "    for i in range(nbligne):\n",
    "        lignetexte = \"|\"\n",
    "        for j in range(nbcol):\n",
    "            lignetexte += \"{0}|\".format(magrille[i][j])\n",
    "        print(lignetexte)\n",
    "\n",
    "\n",
    "        "
   ],
   "outputs": [],
   "metadata": {}
  },
  {
   "cell_type": "code",
   "execution_count": 33,
   "source": [
    "printgrille(mg)"
   ],
   "outputs": [
    {
     "output_type": "stream",
     "name": "stdout",
     "text": [
      "|0|0|0|0|0|0|0|0|0|\n",
      "|0|0|0|0|0|0|0|0|0|\n",
      "|0|0|0|0|0|0|0|0|0|\n",
      "|0|0|0|0|0|0|0|0|0|\n",
      "|0|0|0|0|0|0|0|0|0|\n",
      "|0|0|0|0|0|0|0|0|0|\n",
      "|0|0|0|0|0|0|0|0|0|\n",
      "|0|0|0|0|0|0|0|0|0|\n",
      "|0|0|0|0|0|0|0|0|0|\n"
     ]
    }
   ],
   "metadata": {}
  },
  {
   "cell_type": "markdown",
   "source": [
    "Positionnement de bombes:"
   ],
   "metadata": {}
  },
  {
   "cell_type": "code",
   "execution_count": 14,
   "source": [
    "def genpos(l,c):\n",
    "    pos=[]\n",
    "    x=0\n",
    "    for j in range (c):\n",
    "        y=0\n",
    "        for i in range (l+1):\n",
    "            pos+=[(x,y)]\n",
    "            y=y+1\n",
    "        x=x+1\n",
    "    print(pos)"
   "execution_count": 31,
   "source": [
    "def putBomb(grille, nbBomb):\n",
    "    nbligne = len(grille)\n",
    "    nbcol = len(grille[0])\n",
    "    pos = genPos(nbligne, nbcol)\n",
    "    posBomb = random.sample(pos, nbBomb) \n",
    "    for Bomb in (posBomb):\n",
    "        grille[Bomb[0]][Bomb[1]] = \"B\"\n",
    "    return grille\n",
    "\n",
    "#sortie ; grille avec des bombe"
   ],
   "outputs": [],
   "metadata": {}
  },
  {
   "cell_type": "code",

   "execution_count": 15,
   "source": [
	"genpos(2,2)"
   "execution_count": 32,
   "source": [
    "mg = magrille(10,10)\n",
    "mgB = putBomb(mg, 50)\n",
    "printgrille(mgB)"
     ]
    }
   ],
   "metadata": {}
  },
  {
   "cell_type": "markdown",
   "source": [
    "Fonction qui affiche les nombres à coté des bombes:"
   ],
   "metadata": {}
  },
  {
   "cell_type": "markdown",
   "source": [
    "Une sous-fonction qui dit ce qu' il y a autour: le nombre de bomb."
   ],
   "metadata": {}
  },
  {
   "cell_type": "code",
   "execution_count": null,
   "source": [],
   "outputs": [],
   "metadata": {}
  },
  {
   "cell_type": "code",
   "execution_count": 3,
   "source": [
    "toto = \"patate\"\n",
    "print(toto)"
   ],
   "outputs": [
    {
     "output_type": "stream",
     "name": "stdout",
     "text": [
      "patate\n"
     ]
    }
   ],
   "metadata": {}
  },
  {
   "cell_type": "code",
   "execution_count": null,
   "source": [],
   "outputs": [],
   "metadata": {}
  },
  {
   "cell_type": "code",
   "execution_count": null,
   "source": [],
   "outputs": [],
   "metadata": {}
  },
  {
   "cell_type": "code",
   "execution_count": null,
   "source": [],
   "outputs": [],
   "metadata": {}
  },
  {
   "cell_type": "code",
   "execution_count": null,
   "source": [],
   "outputs": [],
   "metadata": {}
  },
  {
   "cell_type": "code",
   "execution_count": null,
   "source": [],
   "outputs": [],
   "metadata": {}
  },
  {
   "cell_type": "code",
   "execution_count": null,
   "source": [],
   "outputs": [],
   "metadata": {}
  },
  {
   "cell_type": "code",
   "execution_count": null,
   "source": [
    "# interface graphique\n",
    "import turtle\n",
    "discworld = turtle.Screen()\n",
    "ATuin = turtle.Turtle()\n",
    "ATuin.shape()"
   ],
   "outputs": [],
   "metadata": {}
  },
  {
   "cell_type": "code",
   "execution_count": null,
   "source": [
    "Interface graphique\n",
    "\n",
    "# grille de jeu\n",
    "def grille(l,c):\n",
    "    \"\"\"génère un plateau de l lignes et c colonnes\n",
    "    \"\"\"\n",
    "    for i in range(l):\n",
    "        for i in range(c):\n",
    "            for i in range(4):\n",
    "                ATuin.forward(50)\n",
    "                ATuin.right(90)\n",
    "            ATuin.up()\n",
    "            ATuin.right(90)\n",
    "            ATuin.forward(50)\n",
    "            ATuin.left(90)\n",
    "            ATuin.down()\n",
    "        ATuin.up()\n",
    "        ATuin.forward(50)\n",
    "        ATuin.left(90)\n",
    "        ATuin.forward(c*50)\n",
    "        ATuin.down()"
   ],
   "outputs": [],
   "metadata": {}
  }
 ],
 "metadata": {
  "kernelspec": {
   "name": "python3",
   "display_name": "Python 3.8.3 64-bit ('base': conda)"
  },
  "language_info": {
   "codemirror_mode": {
    "name": "ipython",
    "version": 3
   },
   "file_extension": ".py",
   "mimetype": "text/x-python",
   "name": "python",
   "nbconvert_exporter": "python",
   "pygments_lexer": "ipython3",
   "version": "3.8.3"
  },
  "latex_envs": {
   "LaTeX_envs_menu_present": true,
   "autoclose": false,
   "autocomplete": true,
   "bibliofile": "biblio.bib",
   "cite_by": "apalike",
   "current_citInitial": 1,
   "eqLabelWithNumbers": true,
   "eqNumInitial": 1,
   "hotkeys": {
    "equation": "Ctrl-E",
    "itemize": "Ctrl-I"
   },
   "labels_anchors": false,
   "latex_user_defs": false,
   "report_style_numbering": false,
   "user_envs_cfg": false
  },
  "toc": {
   "base_numbering": 1,
   "nav_menu": {},
   "number_sections": true,
   "sideBar": true,
   "skip_h1_title": false,
   "title_cell": "Table of Contents",
   "title_sidebar": "Contents",
   "toc_cell": false,
   "toc_position": {},
   "toc_section_display": true,
   "toc_window_display": false
  },
  "interpreter": {
   "hash": "dca0ade3e726a953b501b15e8e990130d2b7799f14cfd9f4271676035ebe5511"
  }
 },
 "nbformat": 4,
 "nbformat_minor": 4
}