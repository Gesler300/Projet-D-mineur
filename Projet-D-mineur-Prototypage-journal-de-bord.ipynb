{
 "cells": [
  {
   "cell_type": "markdown",
   "metadata": {},
   "source": [
    "\n",
    "Notes :  \n",
    "  \n",
    "  \n",
    "Le code sera quasi toujours des fonctions  \n",
    "Determiner ce dont nous allons avoir besoin :  \n",
    "Une grille avec des cases qui contiennent soit une valeure soit une bombe (valeur = nombre de bombes qu'il y a a coté de cette case)  \n",
    "Il faut que ça soit modulaire :  \n",
    "Que des fonctions qui ont un role précis et qui sont appellées les unes après les autres dans des fonctions plus générales   \n",
    "  \n",
    "1. générer les grilles :  \n",
    "C'est une liste de listes (listes imbriquées)  \n",
    "Il y a d'abord magrille, c'est la fonction qui crée la grille d'origine qui est remplie de 0  \n",
    "Ensuite il y a genpos, c'est la fonction  qui crée les positions les cases de la grille  \n",
    "Ensuite il y a le putBomb, c'est la fonction qui crée les positions des bombes  \n",
    "\n"
   ]
  },
  {
   "cell_type": "markdown",
   "metadata": {},
   "source": [
    "Liste des import :"
   ]
  },
  {
   "cell_type": "code",
   "execution_count": 1,
   "metadata": {},
   "outputs": [],
   "source": [
    "import random"
   ]
  },
  {
   "cell_type": "markdown",
   "metadata": {},
   "source": [
    "Creation de la grille :"
   ]
  },
  {
   "cell_type": "code",
   "execution_count": 2,
   "metadata": {},
   "outputs": [],
   "source": [
    "def magrille(l,c):\n",
    "    grille = []\n",
    "    for i in range (l):\n",
    "        grille.append([0]*c)\n",
    "    return grille\n"
   ]
  },
  {
   "cell_type": "code",
   "execution_count": 3,
   "metadata": {},
   "outputs": [],
   "source": [
    "mg = magrille(9, 9)"
   ]
  },
  {
   "cell_type": "markdown",
   "metadata": {},
   "source": [
    "Génération des positions dans la grille :"
   ]
  },
  {
   "cell_type": "code",
   "execution_count": 4,
   "metadata": {},
   "outputs": [
    {
     "data": {
      "text/plain": [
       "[(0, 0), (0, 1), (0, 2), (1, 0), (1, 1), (1, 2)]"
      ]
     },
     "execution_count": 4,
     "metadata": {},
     "output_type": "execute_result"
    }
   ],
   "source": [
    "def genPos(l,c):\n",
    "    pos=[]\n",
    "    for i in range(l):\n",
    "        for j in range (c):\n",
    "            pos.append((i,j))\n",
    "    return pos\n",
    "\n",
    "genPos(2,3)"
   ]
  },
  {
   "cell_type": "code",
   "execution_count": 5,
   "metadata": {},
   "outputs": [
    {
     "data": {
      "text/plain": [
       "[(1, 2), (0, 2), (0, 0)]"
      ]
     },
     "execution_count": 5,
     "metadata": {},
     "output_type": "execute_result"
    }
   ],
   "source": [
    "pos = genPos(2,3)\n",
    "random.sample(pos,3)"
   ]
  },
  {
   "cell_type": "markdown",
   "metadata": {},
   "source": [
    "Rendu de la grille initiale (magrille):"
   ]
  },
  {
   "cell_type": "code",
   "execution_count": 6,
   "metadata": {},
   "outputs": [],
   "source": [
    "def printgrille(magrille):\n",
    "    nbligne = len(magrille)\n",
    "    nbcol = len(magrille[0])\n",
    "    for i in range(nbligne):\n",
    "        lignetexte = \"|\"\n",
    "        for j in range(nbcol):\n",
    "            lignetexte += \"{0}|\".format(magrille[i][j])\n",
    "        print(lignetexte)\n",
    "\n",
    "\n",
    "        "
   ]
  },
  {
   "cell_type": "code",
   "execution_count": 7,
   "metadata": {},
   "outputs": [
    {
     "name": "stdout",
     "output_type": "stream",
     "text": [
      "|0|0|0|0|0|0|0|0|0|\n",
      "|0|0|0|0|0|0|0|0|0|\n",
      "|0|0|0|0|0|0|0|0|0|\n",
      "|0|0|0|0|0|0|0|0|0|\n",
      "|0|0|0|0|0|0|0|0|0|\n",
      "|0|0|0|0|0|0|0|0|0|\n",
      "|0|0|0|0|0|0|0|0|0|\n",
      "|0|0|0|0|0|0|0|0|0|\n",
      "|0|0|0|0|0|0|0|0|0|\n"
     ]
    }
   ],
   "source": [
    "printgrille(mg)"
   ]
  },
  {
   "cell_type": "markdown",
   "metadata": {},
   "source": [
    "Placement des bombes :"
   ]
  },
  {
   "cell_type": "code",
   "execution_count": 8,
   "metadata": {},
   "outputs": [],
   "source": [
    "def putBomb(grille, nbBomb):\n",
    "    nbligne = len(grille)\n",
    "    nbcol = len(grille[0])\n",
    "    pos = genPos(nbligne, nbcol)\n",
    "    posBomb = random.sample(pos, nbBomb) \n",
    "    for Bomb in (posBomb):\n",
    "        grille[Bomb[0]][Bomb[1]] = \"B\"\n",
    "    return grille\n",
    "\n",
    "#sortie ; grille avec des bombe"
   ]
  },
  {
   "cell_type": "code",
   "execution_count": 9,
   "metadata": {},
   "outputs": [
    {
     "name": "stdout",
     "output_type": "stream",
     "text": [
      "|B|B|B|0|0|0|B|0|B|0|\n",
      "|B|B|B|0|B|B|B|B|0|0|\n",
      "|B|0|B|0|0|B|0|0|B|0|\n",
      "|B|B|0|0|B|0|0|0|0|0|\n",
      "|0|B|0|B|0|B|B|0|0|0|\n",
      "|B|0|B|B|0|B|0|B|B|B|\n",
      "|B|B|B|0|0|B|B|0|B|B|\n",
      "|B|B|0|0|0|0|0|0|0|0|\n",
      "|0|0|0|0|B|B|B|B|B|0|\n",
      "|0|0|0|B|B|0|B|B|B|B|\n"
     ]
    }
   ],
   "source": [
    "mg = magrille(10,10)\n",
    "mgB = putBomb(mg,50)\n",
    "printgrille(mgB)"
   ]
  },
  {
   "cell_type": "markdown",
   "metadata": {},
   "source": [
    "Calcul du nombre de bombe autour des cases :"
   ]
  },
  {
   "cell_type": "code",
   "execution_count": 10,
   "metadata": {},
   "outputs": [],
   "source": [
    "def checkbomb(l,c):\n",
    "    cases_supp = []\n",
    "    if mgB[l-1][c-1] == \"B\":\n",
    "        mgB[l][c] += 1\n",
    "    elif mgB[l-1][c-1] != \"B\":\n",
    "        cases_supp += [l-1, c-1]\n",
    "    print(cases_supp)"
   ]
  },
  {
   "cell_type": "code",
   "execution_count": 13,
   "metadata": {},
   "outputs": [
    {
     "name": "stdout",
     "output_type": "stream",
     "text": [
      "[2, 4]\n",
      "|B|B|B|0|0|0|B|0|B|0|\n",
      "|B|B|B|0|B|B|B|B|0|0|\n",
      "|B|0|B|0|0|B|0|0|B|0|\n",
      "|B|B|0|1|B|0|0|0|0|0|\n",
      "|0|B|0|B|0|B|B|0|0|0|\n",
      "|B|0|B|B|0|B|0|B|B|B|\n",
      "|B|B|B|0|0|B|B|0|B|B|\n",
      "|B|B|0|0|0|0|0|0|0|0|\n",
      "|0|0|0|0|B|B|B|B|B|0|\n",
      "|0|0|0|B|B|0|B|B|B|B|\n"
     ]
    }
   ],
   "source": [
    "checkbomb(3,5)\n",
    "printgrille(mgB)"
   ]
  },
  {
   "cell_type": "code",
   "execution_count": null,
   "metadata": {},
   "outputs": [],
   "source": []
  },
  {
   "cell_type": "code",
   "execution_count": null,
   "metadata": {},
   "outputs": [],
   "source": []
  },
  {
   "cell_type": "code",
   "execution_count": null,
   "metadata": {},
   "outputs": [],
   "source": []
  },
  {
   "cell_type": "code",
   "execution_count": null,
   "metadata": {},
   "outputs": [],
   "source": []
  },
  {
   "cell_type": "code",
   "execution_count": null,
   "metadata": {},
   "outputs": [],
   "source": []
  },
  {
   "cell_type": "code",
   "execution_count": null,
   "metadata": {},
   "outputs": [],
   "source": []
  },
  {
   "cell_type": "code",
   "execution_count": null,
   "metadata": {},
   "outputs": [],
   "source": []
  }
 ],
 "metadata": {
  "interpreter": {
   "hash": "dca0ade3e726a953b501b15e8e990130d2b7799f14cfd9f4271676035ebe5511"
  },
  "kernelspec": {
   "display_name": "Python 3.8.3 64-bit ('base': conda)",
   "name": "python3"
  },
  "language_info": {
   "codemirror_mode": {
    "name": "ipython",
    "version": 3
   },
   "file_extension": ".py",
   "mimetype": "text/x-python",
   "name": "python",
   "nbconvert_exporter": "python",
   "pygments_lexer": "ipython3",
   "version": "3.8.8"
  },
  "latex_envs": {
   "LaTeX_envs_menu_present": true,
   "autoclose": false,
   "autocomplete": true,
   "bibliofile": "biblio.bib",
   "cite_by": "apalike",
   "current_citInitial": 1,
   "eqLabelWithNumbers": true,
   "eqNumInitial": 1,
   "hotkeys": {
    "equation": "Ctrl-E",
    "itemize": "Ctrl-I"
   },
   "labels_anchors": false,
   "latex_user_defs": false,
   "report_style_numbering": false,
   "user_envs_cfg": false
  },
  "toc": {
   "base_numbering": 1,
   "nav_menu": {},
   "number_sections": true,
   "sideBar": true,
   "skip_h1_title": false,
   "title_cell": "Table of Contents",
   "title_sidebar": "Contents",
   "toc_cell": false,
   "toc_position": {},
   "toc_section_display": true,
   "toc_window_display": false
  }
 },
 "nbformat": 4,
 "nbformat_minor": 4
}
